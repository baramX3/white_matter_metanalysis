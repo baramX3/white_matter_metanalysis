{
 "cells": [
  {
   "cell_type": "code",
   "execution_count": 1,
   "metadata": {},
   "outputs": [],
   "source": [
    "import os\n",
    "import json"
   ]
  },
  {
   "cell_type": "markdown",
   "metadata": {},
   "source": [
    "### NO resampling"
   ]
  },
  {
   "cell_type": "markdown",
   "metadata": {},
   "source": [
    "### Find total num of subjects and file path for creating config.json later "
   ]
  },
  {
   "cell_type": "code",
   "execution_count": 9,
   "metadata": {},
   "outputs": [
    {
     "name": "stdout",
     "output_type": "stream",
     "text": [
      "Total number of folders:  1062\n"
     ]
    }
   ],
   "source": [
    "# Get current working directory\n",
    "current_dir = os.getcwd()\n",
    "\n",
    "# Go into \"data\" folder and list all entries\n",
    "app_dir = current_dir+\"/data\"\n",
    "entries = os.listdir(app_dir)\n",
    "\n",
    "# Initialize an empty list to store folder path and subjectID\n",
    "folders = []\n",
    "subjectID = []\n",
    "\n",
    "# Iterate over all entries\n",
    "LENGTH = len(\"sub-\")\n",
    "for entry in entries:\n",
    "    # Check if the entry is a directory\n",
    "    if os.path.isdir(os.path.join(app_dir, entry)):\n",
    "        # If it is, add it to the list of folders\n",
    "        subjectID.append(int(entry[LENGTH:]))\n",
    "        folders.append(\"../data/\" + entry + \"/cortexmap\")\n",
    "\n",
    "# sort folder names alphabetically\n",
    "folders.sort()\n",
    "\n",
    "# Print num of folder to verify\n",
    "print(\"Total number of folders: \", len(folders))"
   ]
  },
  {
   "cell_type": "markdown",
   "metadata": {},
   "source": [
    "### Create config.json file for fsaverage app"
   ]
  },
  {
   "cell_type": "code",
   "execution_count": 10,
   "metadata": {},
   "outputs": [
    {
     "name": "stdout",
     "output_type": "stream",
     "text": [
      "Data has been written to config.json\n"
     ]
    }
   ],
   "source": [
    "# Create a dictionary with \"input\" key (threshold and dilate set to 0)\n",
    "json_data = {\"threshold\" : 0,\n",
    "             \"dilate\" : 0,\n",
    "             \"inputs\": folders}\n",
    "\n",
    "# Specify the output JSON file path (outputs to current directory)\n",
    "output_file_path = 'config.json'\n",
    "\n",
    "# Write data to JSON file\n",
    "with open(output_file_path, 'w') as f:\n",
    "    json.dump(json_data, f, indent=4)\n",
    "\n",
    "print(f\"Data has been written to {output_file_path}\")"
   ]
  },
  {
   "cell_type": "markdown",
   "metadata": {},
   "source": [
    "### RANDOM NUM GENERATOR - don't run now"
   ]
  },
  {
   "cell_type": "markdown",
   "metadata": {},
   "source": [
    "### Find total num of subjects and file path"
   ]
  },
  {
   "cell_type": "code",
   "execution_count": null,
   "metadata": {},
   "outputs": [],
   "source": [
    "import numpy as np"
   ]
  },
  {
   "cell_type": "code",
   "execution_count": 6,
   "metadata": {},
   "outputs": [
    {
     "name": "stdout",
     "output_type": "stream",
     "text": [
      "Folders in the current directory: ['../data_indiv_cortexmapsub-196750/cortexmap', '../data_indiv_cortexmapsub-126628/cortexmap', '../data_indiv_cortexmapsub-397154/cortexmap', '../data_indiv_cortexmapsub-134627/cortexmap', '../data_indiv_cortexmapsub-175035/cortexmap', '../data_indiv_cortexmapsub-174841/cortexmap', '../data_indiv_cortexmapsub-136227/cortexmap', '../data_indiv_cortexmapsub-571144/cortexmap', '../data_indiv_cortexmapsub-748662/cortexmap', '../data_indiv_cortexmapsub-627852/cortexmap', '../data_indiv_cortexmapsub-169747/cortexmap', '../data_indiv_cortexmapsub-140925/cortexmap', '../data_indiv_cortexmapsub-486759/cortexmap', '../data_indiv_cortexmapsub-499566/cortexmap', '../data_indiv_cortexmapsub-148436/cortexmap', '../data_indiv_cortexmapsub-311320/cortexmap', '../data_indiv_cortexmapsub-685058/cortexmap', '../data_indiv_cortexmapsub-153429/cortexmap', '../data_indiv_cortexmapsub-151728/cortexmap', '../data_indiv_cortexmapsub-626648/cortexmap', '../data_indiv_cortexmapsub-677766/cortexmap', '../data_indiv_cortexmapsub-656253/cortexmap', '../data_indiv_cortexmapsub-177645/cortexmap', '../data_indiv_cortexmapsub-792867/cortexmap', '../data_indiv_cortexmapsub-654350/cortexmap', '../data_indiv_cortexmapsub-942658/cortexmap', '../data_indiv_cortexmapsub-127933/cortexmap', '../data_indiv_cortexmapsub-171532/cortexmap', '../data_indiv_cortexmapsub-558960/cortexmap', '../data_indiv_cortexmapsub-138332/cortexmap', '../data_indiv_cortexmapsub-211720/cortexmap', '../data_indiv_cortexmapsub-589567/cortexmap', '../data_indiv_cortexmapsub-221319/cortexmap', '../data_indiv_cortexmapsub-176037/cortexmap', '../data_indiv_cortexmapsub-268749/cortexmap', '../data_indiv_cortexmapsub-617748/cortexmap', '../data_indiv_cortexmapsub-358144/cortexmap', '../data_indiv_cortexmapsub-869472/cortexmap', '../data_indiv_cortexmapsub-391748/cortexmap', '../data_indiv_cortexmapsub-683256/cortexmap', '../data_indiv_cortexmapsub-134324/cortexmap', '../data_indiv_cortexmapsub-101107/cortexmap', '../data_indiv_cortexmapsub-878776/cortexmap', '../data_indiv_cortexmapsub-108222/cortexmap', '../data_indiv_cortexmapsub-825553/cortexmap', '../data_indiv_cortexmapsub-175136/cortexmap', '../data_indiv_cortexmapsub-135730/cortexmap', '../data_indiv_cortexmapsub-951457/cortexmap', '../data_indiv_cortexmapsub-112112/cortexmap', '../data_indiv_cortexmapsub-792564/cortexmap', '../data_indiv_cortexmapsub-158035/cortexmap', '../data_indiv_cortexmapsub-552241/cortexmap', '../data_indiv_cortexmapsub-547046/cortexmap', '../data_indiv_cortexmapsub-381038/cortexmap', '../data_indiv_cortexmapsub-857263/cortexmap', '../data_indiv_cortexmapsub-151021/cortexmap', '../data_indiv_cortexmapsub-105115/cortexmap', '../data_indiv_cortexmapsub-757764/cortexmap', '../data_indiv_cortexmapsub-715950/cortexmap', '../data_indiv_cortexmapsub-157336/cortexmap', '../data_indiv_cortexmapsub-178243/cortexmap', '../data_indiv_cortexmapsub-207426/cortexmap', '../data_indiv_cortexmapsub-290136/cortexmap', '../data_indiv_cortexmapsub-419239/cortexmap', '../data_indiv_cortexmapsub-766563/cortexmap', '../data_indiv_cortexmapsub-896778/cortexmap', '../data_indiv_cortexmapsub-933253/cortexmap', '../data_indiv_cortexmapsub-561242/cortexmap', '../data_indiv_cortexmapsub-143325/cortexmap', '../data_indiv_cortexmapsub-204319/cortexmap', '../data_indiv_cortexmapsub-186141/cortexmap', '../data_indiv_cortexmapsub-192641/cortexmap', '../data_indiv_cortexmapsub-894673/cortexmap', '../data_indiv_cortexmapsub-523032/cortexmap', '../data_indiv_cortexmapsub-330324/cortexmap', '../data_indiv_cortexmapsub-188549/cortexmap', '../data_indiv_cortexmapsub-127630/cortexmap', '../data_indiv_cortexmapsub-163836/cortexmap', '../data_indiv_cortexmapsub-156435/cortexmap', '../data_indiv_cortexmapsub-305830/cortexmap', '../data_indiv_cortexmapsub-149539/cortexmap', '../data_indiv_cortexmapsub-175237/cortexmap', '../data_indiv_cortexmapsub-706040/cortexmap', '../data_indiv_cortexmapsub-761957/cortexmap', '../data_indiv_cortexmapsub-314225/cortexmap', '../data_indiv_cortexmapsub-162228/cortexmap', '../data_indiv_cortexmapsub-172029/cortexmap', '../data_indiv_cortexmapsub-128026/cortexmap', '../data_indiv_cortexmapsub-110007/cortexmap', '../data_indiv_cortexmapsub-349244/cortexmap', '../data_indiv_cortexmapsub-298455/cortexmap', '../data_indiv_cortexmapsub-123925/cortexmap', '../data_indiv_cortexmapsub-122620/cortexmap', '../data_indiv_cortexmapsub-145127/cortexmap', '../data_indiv_cortexmapsub-141826/cortexmap', '../data_indiv_cortexmapsub-321323/cortexmap', '../data_indiv_cortexmapsub-223929/cortexmap', '../data_indiv_cortexmapsub-210617/cortexmap', '../data_indiv_cortexmapsub-601127/cortexmap', '../data_indiv_cortexmapsub-590047/cortexmap', '../data_indiv_cortexmapsub-163129/cortexmap', '../data_indiv_cortexmapsub-911849/cortexmap', '../data_indiv_cortexmapsub-174437/cortexmap', '../data_indiv_cortexmapsub-102614/cortexmap', '../data_indiv_cortexmapsub-713239/cortexmap', '../data_indiv_cortexmapsub-207123/cortexmap', '../data_indiv_cortexmapsub-727553/cortexmap', '../data_indiv_cortexmapsub-186040/cortexmap', '../data_indiv_cortexmapsub-704238/cortexmap', '../data_indiv_cortexmapsub-129028/cortexmap', '../data_indiv_cortexmapsub-208226/cortexmap', '../data_indiv_cortexmapsub-196346/cortexmap', '../data_indiv_cortexmapsub-877269/cortexmap', '../data_indiv_cortexmapsub-206323/cortexmap', '../data_indiv_cortexmapsub-122317/cortexmap', '../data_indiv_cortexmapsub-191336/cortexmap', '../data_indiv_cortexmapsub-992774/cortexmap', '../data_indiv_cortexmapsub-103111/cortexmap', '../data_indiv_cortexmapsub-168947/cortexmap', '../data_indiv_cortexmapsub-837964/cortexmap', '../data_indiv_cortexmapsub-175338/cortexmap', '../data_indiv_cortexmapsub-561949/cortexmap', '../data_indiv_cortexmapsub-178849/cortexmap', '../data_indiv_cortexmapsub-205220/cortexmap', '../data_indiv_cortexmapsub-923755/cortexmap', '../data_indiv_cortexmapsub-153631/cortexmap', '../data_indiv_cortexmapsub-185038/cortexmap', '../data_indiv_cortexmapsub-329440/cortexmap', '../data_indiv_cortexmapsub-368753/cortexmap', '../data_indiv_cortexmapsub-199150/cortexmap', '../data_indiv_cortexmapsub-175540/cortexmap', '../data_indiv_cortexmapsub-108323/cortexmap', '../data_indiv_cortexmapsub-132118/cortexmap', '../data_indiv_cortexmapsub-360030/cortexmap', '../data_indiv_cortexmapsub-530635/cortexmap', '../data_indiv_cortexmapsub-180937/cortexmap', '../data_indiv_cortexmapsub-186545/cortexmap', '../data_indiv_cortexmapsub-189450/cortexmap', '../data_indiv_cortexmapsub-172635/cortexmap', '../data_indiv_cortexmapsub-164939/cortexmap', '../data_indiv_cortexmapsub-385046/cortexmap', '../data_indiv_cortexmapsub-654754/cortexmap', '../data_indiv_cortexmapsub-124624/cortexmap', '../data_indiv_cortexmapsub-620434/cortexmap', '../data_indiv_cortexmapsub-193239/cortexmap', '../data_indiv_cortexmapsub-118124/cortexmap', '../data_indiv_cortexmapsub-193845/cortexmap', '../data_indiv_cortexmapsub-115219/cortexmap', '../data_indiv_cortexmapsub-700634/cortexmap', '../data_indiv_cortexmapsub-152831/cortexmap', '../data_indiv_cortexmapsub-148840/cortexmap', '../data_indiv_cortexmapsub-209127/cortexmap', '../data_indiv_cortexmapsub-194746/cortexmap', '../data_indiv_cortexmapsub-233326/cortexmap', '../data_indiv_cortexmapsub-148941/cortexmap', '../data_indiv_cortexmapsub-200311/cortexmap', '../data_indiv_cortexmapsub-153227/cortexmap', '../data_indiv_cortexmapsub-492754/cortexmap', '../data_indiv_cortexmapsub-926862/cortexmap', '../data_indiv_cortexmapsub-759869/cortexmap', '../data_indiv_cortexmapsub-179245/cortexmap', '../data_indiv_cortexmapsub-131217/cortexmap', '../data_indiv_cortexmapsub-549757/cortexmap', '../data_indiv_cortexmapsub-657659/cortexmap', '../data_indiv_cortexmapsub-896879/cortexmap', '../data_indiv_cortexmapsub-599469/cortexmap', '../data_indiv_cortexmapsub-767464/cortexmap', '../data_indiv_cortexmapsub-171330/cortexmap', '../data_indiv_cortexmapsub-156334/cortexmap', '../data_indiv_cortexmapsub-406432/cortexmap', '../data_indiv_cortexmapsub-635245/cortexmap', '../data_indiv_cortexmapsub-675661/cortexmap', '../data_indiv_cortexmapsub-149337/cortexmap', '../data_indiv_cortexmapsub-663755/cortexmap', '../data_indiv_cortexmapsub-638049/cortexmap', '../data_indiv_cortexmapsub-856766/cortexmap', '../data_indiv_cortexmapsub-654552/cortexmap', '../data_indiv_cortexmapsub-870861/cortexmap', '../data_indiv_cortexmapsub-647858/cortexmap', '../data_indiv_cortexmapsub-236130/cortexmap', '../data_indiv_cortexmapsub-103818/cortexmap', '../data_indiv_cortexmapsub-947668/cortexmap', '../data_indiv_cortexmapsub-181232/cortexmap', '../data_indiv_cortexmapsub-150928/cortexmap', '../data_indiv_cortexmapsub-194847/cortexmap', '../data_indiv_cortexmapsub-614439/cortexmap', '../data_indiv_cortexmapsub-825048/cortexmap', '../data_indiv_cortexmapsub-115825/cortexmap', '../data_indiv_cortexmapsub-303119/cortexmap', '../data_indiv_cortexmapsub-667056/cortexmap', '../data_indiv_cortexmapsub-171633/cortexmap', '../data_indiv_cortexmapsub-173536/cortexmap', '../data_indiv_cortexmapsub-163331/cortexmap', '../data_indiv_cortexmapsub-111514/cortexmap', '../data_indiv_cortexmapsub-162329/cortexmap', '../data_indiv_cortexmapsub-245333/cortexmap', '../data_indiv_cortexmapsub-124826/cortexmap', '../data_indiv_cortexmapsub-355239/cortexmap', '../data_indiv_cortexmapsub-177342/cortexmap', '../data_indiv_cortexmapsub-143426/cortexmap', '../data_indiv_cortexmapsub-702133/cortexmap', '../data_indiv_cortexmapsub-146533/cortexmap', '../data_indiv_cortexmapsub-782561/cortexmap', '../data_indiv_cortexmapsub-214019/cortexmap', '../data_indiv_cortexmapsub-257946/cortexmap', '../data_indiv_cortexmapsub-206929/cortexmap', '../data_indiv_cortexmapsub-500222/cortexmap', '../data_indiv_cortexmapsub-115320/cortexmap', '../data_indiv_cortexmapsub-127832/cortexmap', '../data_indiv_cortexmapsub-116726/cortexmap', '../data_indiv_cortexmapsub-137633/cortexmap', '../data_indiv_cortexmapsub-220721/cortexmap', '../data_indiv_cortexmapsub-209834/cortexmap', '../data_indiv_cortexmapsub-139839/cortexmap', '../data_indiv_cortexmapsub-289555/cortexmap', '../data_indiv_cortexmapsub-203418/cortexmap', '../data_indiv_cortexmapsub-885975/cortexmap', '../data_indiv_cortexmapsub-894067/cortexmap', '../data_indiv_cortexmapsub-580044/cortexmap', '../data_indiv_cortexmapsub-192843/cortexmap', '../data_indiv_cortexmapsub-531536/cortexmap', '../data_indiv_cortexmapsub-510225/cortexmap', '../data_indiv_cortexmapsub-195445/cortexmap', '../data_indiv_cortexmapsub-381543/cortexmap', '../data_indiv_cortexmapsub-125525/cortexmap', '../data_indiv_cortexmapsub-789373/cortexmap', '../data_indiv_cortexmapsub-191033/cortexmap', '../data_indiv_cortexmapsub-106016/cortexmap', '../data_indiv_cortexmapsub-134728/cortexmap', '../data_indiv_cortexmapsub-176239/cortexmap', '../data_indiv_cortexmapsub-352738/cortexmap', '../data_indiv_cortexmapsub-249947/cortexmap', '../data_indiv_cortexmapsub-130417/cortexmap', '../data_indiv_cortexmapsub-597869/cortexmap', '../data_indiv_cortexmapsub-173132/cortexmap', '../data_indiv_cortexmapsub-205725/cortexmap', '../data_indiv_cortexmapsub-880157/cortexmap', '../data_indiv_cortexmapsub-217429/cortexmap', '../data_indiv_cortexmapsub-182032/cortexmap', '../data_indiv_cortexmapsub-248339/cortexmap', '../data_indiv_cortexmapsub-529549/cortexmap', '../data_indiv_cortexmapsub-202719/cortexmap', '../data_indiv_cortexmapsub-167238/cortexmap', '../data_indiv_cortexmapsub-578057/cortexmap', '../data_indiv_cortexmapsub-145632/cortexmap', '../data_indiv_cortexmapsub-159239/cortexmap', '../data_indiv_cortexmapsub-894774/cortexmap', '../data_indiv_cortexmapsub-774663/cortexmap', '../data_indiv_cortexmapsub-147737/cortexmap', '../data_indiv_cortexmapsub-131419/cortexmap', '../data_indiv_cortexmapsub-256540/cortexmap', '../data_indiv_cortexmapsub-120010/cortexmap', '../data_indiv_cortexmapsub-770352/cortexmap', '../data_indiv_cortexmapsub-889579/cortexmap', '../data_indiv_cortexmapsub-356948/cortexmap', '../data_indiv_cortexmapsub-513736/cortexmap', '../data_indiv_cortexmapsub-212823/cortexmap', '../data_indiv_cortexmapsub-102109/cortexmap', '../data_indiv_cortexmapsub-197550/cortexmap', '../data_indiv_cortexmapsub-536647/cortexmap', '../data_indiv_cortexmapsub-154431/cortexmap', '../data_indiv_cortexmapsub-158338/cortexmap', '../data_indiv_cortexmapsub-379657/cortexmap', '../data_indiv_cortexmapsub-105620/cortexmap', '../data_indiv_cortexmapsub-182739/cortexmap', '../data_indiv_cortexmapsub-200210/cortexmap', '../data_indiv_cortexmapsub-119732/cortexmap', '../data_indiv_cortexmapsub-155635/cortexmap', '../data_indiv_cortexmapsub-224022/cortexmap', '../data_indiv_cortexmapsub-146735/cortexmap', '../data_indiv_cortexmapsub-513130/cortexmap', '../data_indiv_cortexmapsub-192136/cortexmap', '../data_indiv_cortexmapsub-200614/cortexmap', '../data_indiv_cortexmapsub-180533/cortexmap', '../data_indiv_cortexmapsub-137229/cortexmap', '../data_indiv_cortexmapsub-166640/cortexmap', '../data_indiv_cortexmapsub-143224/cortexmap', '../data_indiv_cortexmapsub-211114/cortexmap', '../data_indiv_cortexmapsub-366446/cortexmap', '../data_indiv_cortexmapsub-677968/cortexmap', '../data_indiv_cortexmapsub-133625/cortexmap', '../data_indiv_cortexmapsub-179952/cortexmap', '../data_indiv_cortexmapsub-173334/cortexmap', '../data_indiv_cortexmapsub-588565/cortexmap', '../data_indiv_cortexmapsub-117122/cortexmap', '../data_indiv_cortexmapsub-579665/cortexmap', '../data_indiv_cortexmapsub-134829/cortexmap', '../data_indiv_cortexmapsub-645450/cortexmap', '../data_indiv_cortexmapsub-115724/cortexmap', '../data_indiv_cortexmapsub-135124/cortexmap', '../data_indiv_cortexmapsub-395958/cortexmap', '../data_indiv_cortexmapsub-565452/cortexmap', '../data_indiv_cortexmapsub-100610/cortexmap', '../data_indiv_cortexmapsub-169040/cortexmap', '../data_indiv_cortexmapsub-210112/cortexmap', '../data_indiv_cortexmapsub-172332/cortexmap', '../data_indiv_cortexmapsub-182840/cortexmap', '../data_indiv_cortexmapsub-106824/cortexmap', '../data_indiv_cortexmapsub-200008/cortexmap', '../data_indiv_cortexmapsub-118831/cortexmap', '../data_indiv_cortexmapsub-161327/cortexmap', '../data_indiv_cortexmapsub-136732/cortexmap', '../data_indiv_cortexmapsub-113215/cortexmap', '../data_indiv_cortexmapsub-168341/cortexmap', '../data_indiv_cortexmapsub-149741/cortexmap', '../data_indiv_cortexmapsub-783462/cortexmap', '../data_indiv_cortexmapsub-154330/cortexmap', '../data_indiv_cortexmapsub-180836/cortexmap', '../data_indiv_cortexmapsub-119833/cortexmap', '../data_indiv_cortexmapsub-898176/cortexmap', '../data_indiv_cortexmapsub-615441/cortexmap', '../data_indiv_cortexmapsub-814649/cortexmap', '../data_indiv_cortexmapsub-117324/cortexmap', '../data_indiv_cortexmapsub-346137/cortexmap', '../data_indiv_cortexmapsub-121416/cortexmap', '../data_indiv_cortexmapsub-248238/cortexmap', '../data_indiv_cortexmapsub-856968/cortexmap', '../data_indiv_cortexmapsub-376247/cortexmap', '../data_indiv_cortexmapsub-753251/cortexmap', '../data_indiv_cortexmapsub-412528/cortexmap', '../data_indiv_cortexmapsub-208428/cortexmap', '../data_indiv_cortexmapsub-188347/cortexmap', '../data_indiv_cortexmapsub-165032/cortexmap', '../data_indiv_cortexmapsub-268850/cortexmap', '../data_indiv_cortexmapsub-146129/cortexmap', '../data_indiv_cortexmapsub-902242/cortexmap', '../data_indiv_cortexmapsub-820745/cortexmap', '../data_indiv_cortexmapsub-112314/cortexmap', '../data_indiv_cortexmapsub-100408/cortexmap', '../data_indiv_cortexmapsub-114823/cortexmap', '../data_indiv_cortexmapsub-152427/cortexmap', '../data_indiv_cortexmapsub-604537/cortexmap', '../data_indiv_cortexmapsub-841349/cortexmap', '../data_indiv_cortexmapsub-872562/cortexmap', '../data_indiv_cortexmapsub-555348/cortexmap', '../data_indiv_cortexmapsub-158540/cortexmap', '../data_indiv_cortexmapsub-978578/cortexmap', '../data_indiv_cortexmapsub-567961/cortexmap', '../data_indiv_cortexmapsub-185442/cortexmap', '../data_indiv_cortexmapsub-901038/cortexmap', '../data_indiv_cortexmapsub-137532/cortexmap', '../data_indiv_cortexmapsub-204016/cortexmap', '../data_indiv_cortexmapsub-151829/cortexmap', '../data_indiv_cortexmapsub-139233/cortexmap', '../data_indiv_cortexmapsub-284646/cortexmap', '../data_indiv_cortexmapsub-173637/cortexmap', '../data_indiv_cortexmapsub-188448/cortexmap', '../data_indiv_cortexmapsub-792766/cortexmap', '../data_indiv_cortexmapsub-555954/cortexmap', '../data_indiv_cortexmapsub-167440/cortexmap', '../data_indiv_cortexmapsub-299154/cortexmap', '../data_indiv_cortexmapsub-138837/cortexmap', '../data_indiv_cortexmapsub-263436/cortexmap', '../data_indiv_cortexmapsub-965367/cortexmap', '../data_indiv_cortexmapsub-567759/cortexmap', '../data_indiv_cortexmapsub-871964/cortexmap', '../data_indiv_cortexmapsub-250427/cortexmap', '../data_indiv_cortexmapsub-849264/cortexmap', '../data_indiv_cortexmapsub-387959/cortexmap', '../data_indiv_cortexmapsub-497865/cortexmap', '../data_indiv_cortexmapsub-581450/cortexmap', '../data_indiv_cortexmapsub-144731/cortexmap', '../data_indiv_cortexmapsub-463040/cortexmap', '../data_indiv_cortexmapsub-195041/cortexmap', '../data_indiv_cortexmapsub-140319/cortexmap', '../data_indiv_cortexmapsub-773257/cortexmap', '../data_indiv_cortexmapsub-257542/cortexmap', '../data_indiv_cortexmapsub-135528/cortexmap', '../data_indiv_cortexmapsub-143830/cortexmap', '../data_indiv_cortexmapsub-473952/cortexmap', '../data_indiv_cortexmapsub-146634/cortexmap', '../data_indiv_cortexmapsub-211215/cortexmap', '../data_indiv_cortexmapsub-611938/cortexmap', '../data_indiv_cortexmapsub-128632/cortexmap', '../data_indiv_cortexmapsub-120212/cortexmap', '../data_indiv_cortexmapsub-849971/cortexmap', '../data_indiv_cortexmapsub-191841/cortexmap', '../data_indiv_cortexmapsub-468050/cortexmap', '../data_indiv_cortexmapsub-201818/cortexmap', '../data_indiv_cortexmapsub-888678/cortexmap', '../data_indiv_cortexmapsub-413934/cortexmap', '../data_indiv_cortexmapsub-886674/cortexmap', '../data_indiv_cortexmapsub-108121/cortexmap', '../data_indiv_cortexmapsub-213421/cortexmap', '../data_indiv_cortexmapsub-155231/cortexmap', '../data_indiv_cortexmapsub-788674/cortexmap', '../data_indiv_cortexmapsub-516742/cortexmap', '../data_indiv_cortexmapsub-121921/cortexmap', '../data_indiv_cortexmapsub-159744/cortexmap', '../data_indiv_cortexmapsub-580751/cortexmap', '../data_indiv_cortexmapsub-171431/cortexmap', '../data_indiv_cortexmapsub-339847/cortexmap', '../data_indiv_cortexmapsub-709551/cortexmap', '../data_indiv_cortexmapsub-212318/cortexmap', '../data_indiv_cortexmapsub-142828/cortexmap', '../data_indiv_cortexmapsub-130316/cortexmap', '../data_indiv_cortexmapsub-134425/cortexmap', '../data_indiv_cortexmapsub-475855/cortexmap', '../data_indiv_cortexmapsub-763557/cortexmap', '../data_indiv_cortexmapsub-200513/cortexmap', '../data_indiv_cortexmapsub-116524/cortexmap', '../data_indiv_cortexmapsub-177241/cortexmap', '../data_indiv_cortexmapsub-698168/cortexmap', '../data_indiv_cortexmapsub-599671/cortexmap', '../data_indiv_cortexmapsub-109123/cortexmap', '../data_indiv_cortexmapsub-480141/cortexmap', '../data_indiv_cortexmapsub-161731/cortexmap', '../data_indiv_cortexmapsub-137128/cortexmap', '../data_indiv_cortexmapsub-107422/cortexmap', '../data_indiv_cortexmapsub-102816/cortexmap', '../data_indiv_cortexmapsub-943862/cortexmap', '../data_indiv_cortexmapsub-835657/cortexmap', '../data_indiv_cortexmapsub-300719/cortexmap', '../data_indiv_cortexmapsub-645551/cortexmap', '../data_indiv_cortexmapsub-295146/cortexmap', '../data_indiv_cortexmapsub-395756/cortexmap', '../data_indiv_cortexmapsub-737960/cortexmap', '../data_indiv_cortexmapsub-724446/cortexmap', '../data_indiv_cortexmapsub-194443/cortexmap', '../data_indiv_cortexmapsub-300618/cortexmap', '../data_indiv_cortexmapsub-208024/cortexmap', '../data_indiv_cortexmapsub-350330/cortexmap', '../data_indiv_cortexmapsub-558657/cortexmap', '../data_indiv_cortexmapsub-164131/cortexmap', '../data_indiv_cortexmapsub-211821/cortexmap', '../data_indiv_cortexmapsub-144428/cortexmap', '../data_indiv_cortexmapsub-138231/cortexmap', '../data_indiv_cortexmapsub-583858/cortexmap', '../data_indiv_cortexmapsub-251833/cortexmap', '../data_indiv_cortexmapsub-144832/cortexmap', '../data_indiv_cortexmapsub-131722/cortexmap', '../data_indiv_cortexmapsub-159946/cortexmap', '../data_indiv_cortexmapsub-116221/cortexmap', '../data_indiv_cortexmapsub-826353/cortexmap', '../data_indiv_cortexmapsub-188145/cortexmap', '../data_indiv_cortexmapsub-202820/cortexmap', '../data_indiv_cortexmapsub-540436/cortexmap', '../data_indiv_cortexmapsub-727654/cortexmap', '../data_indiv_cortexmapsub-187143/cortexmap', '../data_indiv_cortexmapsub-127327/cortexmap', '../data_indiv_cortexmapsub-164636/cortexmap', '../data_indiv_cortexmapsub-186848/cortexmap', '../data_indiv_cortexmapsub-559457/cortexmap', '../data_indiv_cortexmapsub-394956/cortexmap', '../data_indiv_cortexmapsub-852455/cortexmap', '../data_indiv_cortexmapsub-525541/cortexmap', '../data_indiv_cortexmapsub-129129/cortexmap', '../data_indiv_cortexmapsub-132017/cortexmap', '../data_indiv_cortexmapsub-784565/cortexmap', '../data_indiv_cortexmapsub-239944/cortexmap', '../data_indiv_cortexmapsub-695768/cortexmap', '../data_indiv_cortexmapsub-192035/cortexmap', '../data_indiv_cortexmapsub-329844/cortexmap', '../data_indiv_cortexmapsub-531940/cortexmap', '../data_indiv_cortexmapsub-732243/cortexmap', '../data_indiv_cortexmapsub-102715/cortexmap', '../data_indiv_cortexmapsub-180129/cortexmap', '../data_indiv_cortexmapsub-962058/cortexmap', '../data_indiv_cortexmapsub-127731/cortexmap', '../data_indiv_cortexmapsub-138130/cortexmap', '../data_indiv_cortexmapsub-382242/cortexmap', '../data_indiv_cortexmapsub-415837/cortexmap', '../data_indiv_cortexmapsub-169545/cortexmap', '../data_indiv_cortexmapsub-613538/cortexmap', '../data_indiv_cortexmapsub-397861/cortexmap', '../data_indiv_cortexmapsub-205826/cortexmap', '../data_indiv_cortexmapsub-859671/cortexmap', '../data_indiv_cortexmapsub-348545/cortexmap', '../data_indiv_cortexmapsub-731140/cortexmap', '../data_indiv_cortexmapsub-910443/cortexmap', '../data_indiv_cortexmapsub-506234/cortexmap', '../data_indiv_cortexmapsub-856463/cortexmap', '../data_indiv_cortexmapsub-191235/cortexmap', '../data_indiv_cortexmapsub-198451/cortexmap', '../data_indiv_cortexmapsub-390645/cortexmap', '../data_indiv_cortexmapsub-112920/cortexmap', '../data_indiv_cortexmapsub-198249/cortexmap', '../data_indiv_cortexmapsub-124422/cortexmap', '../data_indiv_cortexmapsub-779370/cortexmap', '../data_indiv_cortexmapsub-529953/cortexmap', '../data_indiv_cortexmapsub-749361/cortexmap', '../data_indiv_cortexmapsub-693764/cortexmap', '../data_indiv_cortexmapsub-190031/cortexmap', '../data_indiv_cortexmapsub-210011/cortexmap', '../data_indiv_cortexmapsub-125222/cortexmap', '../data_indiv_cortexmapsub-771354/cortexmap', '../data_indiv_cortexmapsub-378857/cortexmap', '../data_indiv_cortexmapsub-341834/cortexmap', '../data_indiv_cortexmapsub-246133/cortexmap', '../data_indiv_cortexmapsub-158136/cortexmap', '../data_indiv_cortexmapsub-298051/cortexmap', '../data_indiv_cortexmapsub-843151/cortexmap', '../data_indiv_cortexmapsub-129634/cortexmap', '../data_indiv_cortexmapsub-899885/cortexmap', '../data_indiv_cortexmapsub-196144/cortexmap', '../data_indiv_cortexmapsub-123723/cortexmap', '../data_indiv_cortexmapsub-598568/cortexmap', '../data_indiv_cortexmapsub-310621/cortexmap', '../data_indiv_cortexmapsub-406836/cortexmap', '../data_indiv_cortexmapsub-815247/cortexmap', '../data_indiv_cortexmapsub-481951/cortexmap', '../data_indiv_cortexmapsub-110613/cortexmap', '../data_indiv_cortexmapsub-512835/cortexmap', '../data_indiv_cortexmapsub-123824/cortexmap', '../data_indiv_cortexmapsub-147030/cortexmap', '../data_indiv_cortexmapsub-826454/cortexmap', '../data_indiv_cortexmapsub-157437/cortexmap', '../data_indiv_cortexmapsub-979984/cortexmap', '../data_indiv_cortexmapsub-204218/cortexmap', '../data_indiv_cortexmapsub-519950/cortexmap', '../data_indiv_cortexmapsub-257845/cortexmap', '../data_indiv_cortexmapsub-160830/cortexmap', '../data_indiv_cortexmapsub-973770/cortexmap', '../data_indiv_cortexmapsub-114419/cortexmap', '../data_indiv_cortexmapsub-113821/cortexmap', '../data_indiv_cortexmapsub-150019/cortexmap', '../data_indiv_cortexmapsub-715647/cortexmap', '../data_indiv_cortexmapsub-151324/cortexmap', '../data_indiv_cortexmapsub-966975/cortexmap', '../data_indiv_cortexmapsub-250932/cortexmap', '../data_indiv_cortexmapsub-905147/cortexmap', '../data_indiv_cortexmapsub-910241/cortexmap', '../data_indiv_cortexmapsub-185947/cortexmap', '../data_indiv_cortexmapsub-165638/cortexmap', '../data_indiv_cortexmapsub-128127/cortexmap', '../data_indiv_cortexmapsub-146331/cortexmap', '../data_indiv_cortexmapsub-173435/cortexmap', '../data_indiv_cortexmapsub-165436/cortexmap', '../data_indiv_cortexmapsub-735148/cortexmap', '../data_indiv_cortexmapsub-971160/cortexmap', '../data_indiv_cortexmapsub-157942/cortexmap', '../data_indiv_cortexmapsub-199453/cortexmap', '../data_indiv_cortexmapsub-138534/cortexmap', '../data_indiv_cortexmapsub-274542/cortexmap', '../data_indiv_cortexmapsub-124220/cortexmap', '../data_indiv_cortexmapsub-119025/cortexmap', '../data_indiv_cortexmapsub-579867/cortexmap', '../data_indiv_cortexmapsub-587664/cortexmap', '../data_indiv_cortexmapsub-153732/cortexmap', '../data_indiv_cortexmapsub-692964/cortexmap', '../data_indiv_cortexmapsub-401422/cortexmap', '../data_indiv_cortexmapsub-102311/cortexmap', '../data_indiv_cortexmapsub-111716/cortexmap', '../data_indiv_cortexmapsub-197348/cortexmap', '../data_indiv_cortexmapsub-585862/cortexmap', '../data_indiv_cortexmapsub-211316/cortexmap', '../data_indiv_cortexmapsub-137027/cortexmap', '../data_indiv_cortexmapsub-479762/cortexmap', '../data_indiv_cortexmapsub-541640/cortexmap', '../data_indiv_cortexmapsub-622236/cortexmap', '../data_indiv_cortexmapsub-907656/cortexmap', '../data_indiv_cortexmapsub-172130/cortexmap', '../data_indiv_cortexmapsub-169343/cortexmap', '../data_indiv_cortexmapsub-679568/cortexmap', '../data_indiv_cortexmapsub-168240/cortexmap', '../data_indiv_cortexmapsub-377451/cortexmap', '../data_indiv_cortexmapsub-170631/cortexmap', '../data_indiv_cortexmapsub-167743/cortexmap', '../data_indiv_cortexmapsub-197651/cortexmap', '../data_indiv_cortexmapsub-159441/cortexmap', '../data_indiv_cortexmapsub-148335/cortexmap', '../data_indiv_cortexmapsub-386250/cortexmap', '../data_indiv_cortexmapsub-211417/cortexmap', '../data_indiv_cortexmapsub-148133/cortexmap', '../data_indiv_cortexmapsub-333330/cortexmap', '../data_indiv_cortexmapsub-154734/cortexmap', '../data_indiv_cortexmapsub-214221/cortexmap', '../data_indiv_cortexmapsub-679770/cortexmap', '../data_indiv_cortexmapsub-151930/cortexmap', '../data_indiv_cortexmapsub-100307/cortexmap', '../data_indiv_cortexmapsub-283543/cortexmap', '../data_indiv_cortexmapsub-191437/cortexmap', '../data_indiv_cortexmapsub-802844/cortexmap', '../data_indiv_cortexmapsub-592455/cortexmap', '../data_indiv_cortexmapsub-159138/cortexmap', '../data_indiv_cortexmapsub-170934/cortexmap', '../data_indiv_cortexmapsub-715041/cortexmap', '../data_indiv_cortexmapsub-150524/cortexmap', '../data_indiv_cortexmapsub-172534/cortexmap', '../data_indiv_cortexmapsub-361234/cortexmap', '../data_indiv_cortexmapsub-609143/cortexmap', '../data_indiv_cortexmapsub-104416/cortexmap', '../data_indiv_cortexmapsub-760551/cortexmap', '../data_indiv_cortexmapsub-804646/cortexmap', '../data_indiv_cortexmapsub-118528/cortexmap', '../data_indiv_cortexmapsub-104012/cortexmap', '../data_indiv_cortexmapsub-993675/cortexmap', '../data_indiv_cortexmapsub-686969/cortexmap', '../data_indiv_cortexmapsub-141422/cortexmap', '../data_indiv_cortexmapsub-165840/cortexmap', '../data_indiv_cortexmapsub-573249/cortexmap', '../data_indiv_cortexmapsub-130013/cortexmap', '../data_indiv_cortexmapsub-957974/cortexmap', '../data_indiv_cortexmapsub-192540/cortexmap', '../data_indiv_cortexmapsub-445543/cortexmap', '../data_indiv_cortexmapsub-206525/cortexmap', '../data_indiv_cortexmapsub-162733/cortexmap', '../data_indiv_cortexmapsub-987074/cortexmap', '../data_indiv_cortexmapsub-153025/cortexmap', '../data_indiv_cortexmapsub-316835/cortexmap', '../data_indiv_cortexmapsub-720337/cortexmap', '../data_indiv_cortexmapsub-168139/cortexmap', '../data_indiv_cortexmapsub-615744/cortexmap', '../data_indiv_cortexmapsub-156536/cortexmap', '../data_indiv_cortexmapsub-111211/cortexmap', '../data_indiv_cortexmapsub-111009/cortexmap', '../data_indiv_cortexmapsub-206222/cortexmap', '../data_indiv_cortexmapsub-110411/cortexmap', '../data_indiv_cortexmapsub-749058/cortexmap', '../data_indiv_cortexmapsub-126426/cortexmap', '../data_indiv_cortexmapsub-865363/cortexmap', '../data_indiv_cortexmapsub-181636/cortexmap', '../data_indiv_cortexmapsub-120717/cortexmap', '../data_indiv_cortexmapsub-152225/cortexmap', '../data_indiv_cortexmapsub-144125/cortexmap', '../data_indiv_cortexmapsub-287248/cortexmap', '../data_indiv_cortexmapsub-198653/cortexmap', '../data_indiv_cortexmapsub-987983/cortexmap', '../data_indiv_cortexmapsub-118730/cortexmap', '../data_indiv_cortexmapsub-765864/cortexmap', '../data_indiv_cortexmapsub-156637/cortexmap', '../data_indiv_cortexmapsub-113316/cortexmap', '../data_indiv_cortexmapsub-495255/cortexmap', '../data_indiv_cortexmapsub-183034/cortexmap', '../data_indiv_cortexmapsub-231928/cortexmap', '../data_indiv_cortexmapsub-101915/cortexmap', '../data_indiv_cortexmapsub-122418/cortexmap', '../data_indiv_cortexmapsub-133827/cortexmap', '../data_indiv_cortexmapsub-937160/cortexmap', '../data_indiv_cortexmapsub-200917/cortexmap', '../data_indiv_cortexmapsub-884064/cortexmap', '../data_indiv_cortexmapsub-618952/cortexmap', '../data_indiv_cortexmapsub-586460/cortexmap', '../data_indiv_cortexmapsub-827052/cortexmap', '../data_indiv_cortexmapsub-134223/cortexmap', '../data_indiv_cortexmapsub-148032/cortexmap', '../data_indiv_cortexmapsub-307127/cortexmap', '../data_indiv_cortexmapsub-172938/cortexmap', '../data_indiv_cortexmapsub-104820/cortexmap', '../data_indiv_cortexmapsub-522434/cortexmap', '../data_indiv_cortexmapsub-994273/cortexmap', '../data_indiv_cortexmapsub-201515/cortexmap', '../data_indiv_cortexmapsub-422632/cortexmap', '../data_indiv_cortexmapsub-213522/cortexmap', '../data_indiv_cortexmapsub-198350/cortexmap', '../data_indiv_cortexmapsub-107018/cortexmap', '../data_indiv_cortexmapsub-816653/cortexmap', '../data_indiv_cortexmapsub-751348/cortexmap', '../data_indiv_cortexmapsub-904044/cortexmap', '../data_indiv_cortexmapsub-153833/cortexmap', '../data_indiv_cortexmapsub-687163/cortexmap', '../data_indiv_cortexmapsub-810439/cortexmap', '../data_indiv_cortexmapsub-107725/cortexmap', '../data_indiv_cortexmapsub-280941/cortexmap', '../data_indiv_cortexmapsub-281135/cortexmap', '../data_indiv_cortexmapsub-304727/cortexmap', '../data_indiv_cortexmapsub-958976/cortexmap', '../data_indiv_cortexmapsub-576255/cortexmap', '../data_indiv_cortexmapsub-118932/cortexmap', '../data_indiv_cortexmapsub-255740/cortexmap', '../data_indiv_cortexmapsub-154229/cortexmap', '../data_indiv_cortexmapsub-788876/cortexmap', '../data_indiv_cortexmapsub-270332/cortexmap', '../data_indiv_cortexmapsub-100206/cortexmap', '../data_indiv_cortexmapsub-208327/cortexmap', '../data_indiv_cortexmapsub-212116/cortexmap', '../data_indiv_cortexmapsub-753150/cortexmap', '../data_indiv_cortexmapsub-164030/cortexmap', '../data_indiv_cortexmapsub-126325/cortexmap', '../data_indiv_cortexmapsub-212217/cortexmap', '../data_indiv_cortexmapsub-991267/cortexmap', '../data_indiv_cortexmapsub-481042/cortexmap', '../data_indiv_cortexmapsub-465852/cortexmap', '../data_indiv_cortexmapsub-113619/cortexmap', '../data_indiv_cortexmapsub-517239/cortexmap', '../data_indiv_cortexmapsub-195849/cortexmap', '../data_indiv_cortexmapsub-196851/cortexmap', '../data_indiv_cortexmapsub-135225/cortexmap', '../data_indiv_cortexmapsub-177140/cortexmap', '../data_indiv_cortexmapsub-109830/cortexmap', '../data_indiv_cortexmapsub-189652/cortexmap', '../data_indiv_cortexmapsub-707749/cortexmap', '../data_indiv_cortexmapsub-901139/cortexmap', '../data_indiv_cortexmapsub-891667/cortexmap', '../data_indiv_cortexmapsub-297655/cortexmap', '../data_indiv_cortexmapsub-108020/cortexmap', '../data_indiv_cortexmapsub-485757/cortexmap', '../data_indiv_cortexmapsub-285345/cortexmap', '../data_indiv_cortexmapsub-214423/cortexmap', '../data_indiv_cortexmapsub-917255/cortexmap', '../data_indiv_cortexmapsub-205119/cortexmap', '../data_indiv_cortexmapsub-352132/cortexmap', '../data_indiv_cortexmapsub-102008/cortexmap', '../data_indiv_cortexmapsub-103515/cortexmap', '../data_indiv_cortexmapsub-803240/cortexmap', '../data_indiv_cortexmapsub-872158/cortexmap', '../data_indiv_cortexmapsub-728454/cortexmap', '../data_indiv_cortexmapsub-809252/cortexmap', '../data_indiv_cortexmapsub-660951/cortexmap', '../data_indiv_cortexmapsub-519647/cortexmap', '../data_indiv_cortexmapsub-828862/cortexmap', '../data_indiv_cortexmapsub-195647/cortexmap', '../data_indiv_cortexmapsub-346945/cortexmap', '../data_indiv_cortexmapsub-867468/cortexmap', '../data_indiv_cortexmapsub-146432/cortexmap', '../data_indiv_cortexmapsub-146836/cortexmap', '../data_indiv_cortexmapsub-395251/cortexmap', '../data_indiv_cortexmapsub-192237/cortexmap', '../data_indiv_cortexmapsub-123420/cortexmap', '../data_indiv_cortexmapsub-122822/cortexmap', '../data_indiv_cortexmapsub-567052/cortexmap', '../data_indiv_cortexmapsub-136631/cortexmap', '../data_indiv_cortexmapsub-130922/cortexmap', '../data_indiv_cortexmapsub-433839/cortexmap', '../data_indiv_cortexmapsub-105216/cortexmap', '../data_indiv_cortexmapsub-810843/cortexmap', '../data_indiv_cortexmapsub-393247/cortexmap', '../data_indiv_cortexmapsub-169444/cortexmap', '../data_indiv_cortexmapsub-149842/cortexmap', '../data_indiv_cortexmapsub-160123/cortexmap', '../data_indiv_cortexmapsub-322224/cortexmap', '../data_indiv_cortexmapsub-175439/cortexmap', '../data_indiv_cortexmapsub-187850/cortexmap', '../data_indiv_cortexmapsub-103010/cortexmap', '../data_indiv_cortexmapsub-293748/cortexmap', '../data_indiv_cortexmapsub-414229/cortexmap', '../data_indiv_cortexmapsub-161630/cortexmap', '../data_indiv_cortexmapsub-644246/cortexmap', '../data_indiv_cortexmapsub-995174/cortexmap', '../data_indiv_cortexmapsub-150625/cortexmap', '../data_indiv_cortexmapsub-144226/cortexmap', '../data_indiv_cortexmapsub-756055/cortexmap', '../data_indiv_cortexmapsub-548250/cortexmap', '../data_indiv_cortexmapsub-424939/cortexmap', '../data_indiv_cortexmapsub-325129/cortexmap', '../data_indiv_cortexmapsub-209935/cortexmap', '../data_indiv_cortexmapsub-303624/cortexmap', '../data_indiv_cortexmapsub-195950/cortexmap', '../data_indiv_cortexmapsub-818859/cortexmap', '../data_indiv_cortexmapsub-114621/cortexmap', '../data_indiv_cortexmapsub-825654/cortexmap', '../data_indiv_cortexmapsub-365343/cortexmap', '../data_indiv_cortexmapsub-192439/cortexmap', '../data_indiv_cortexmapsub-176744/cortexmap', '../data_indiv_cortexmapsub-524135/cortexmap', '../data_indiv_cortexmapsub-970764/cortexmap', '../data_indiv_cortexmapsub-929464/cortexmap', '../data_indiv_cortexmapsub-211922/cortexmap', '../data_indiv_cortexmapsub-130720/cortexmap', '../data_indiv_cortexmapsub-454140/cortexmap', '../data_indiv_cortexmapsub-320826/cortexmap', '../data_indiv_cortexmapsub-120515/cortexmap', '../data_indiv_cortexmapsub-397760/cortexmap', '../data_indiv_cortexmapsub-627549/cortexmap', '../data_indiv_cortexmapsub-178748/cortexmap', '../data_indiv_cortexmapsub-769064/cortexmap', '../data_indiv_cortexmapsub-108828/cortexmap', '../data_indiv_cortexmapsub-996782/cortexmap', '../data_indiv_cortexmapsub-162026/cortexmap', '../data_indiv_cortexmapsub-173738/cortexmap', '../data_indiv_cortexmapsub-922854/cortexmap', '../data_indiv_cortexmapsub-125424/cortexmap', '../data_indiv_cortexmapsub-559053/cortexmap', '../data_indiv_cortexmapsub-120111/cortexmap', '../data_indiv_cortexmapsub-366042/cortexmap', '../data_indiv_cortexmapsub-123117/cortexmap', '../data_indiv_cortexmapsub-176845/cortexmap', '../data_indiv_cortexmapsub-206828/cortexmap', '../data_indiv_cortexmapsub-135629/cortexmap', '../data_indiv_cortexmapsub-106521/cortexmap', '../data_indiv_cortexmapsub-561444/cortexmap', '../data_indiv_cortexmapsub-144933/cortexmap', '../data_indiv_cortexmapsub-181131/cortexmap', '../data_indiv_cortexmapsub-133928/cortexmap', '../data_indiv_cortexmapsub-149236/cortexmap', '../data_indiv_cortexmapsub-878877/cortexmap', '../data_indiv_cortexmapsub-206727/cortexmap', '../data_indiv_cortexmapsub-117930/cortexmap', '../data_indiv_cortexmapsub-912447/cortexmap', '../data_indiv_cortexmapsub-436239/cortexmap', '../data_indiv_cortexmapsub-510326/cortexmap', '../data_indiv_cortexmapsub-180735/cortexmap', '../data_indiv_cortexmapsub-690152/cortexmap', '../data_indiv_cortexmapsub-114116/cortexmap', '../data_indiv_cortexmapsub-186444/cortexmap', '../data_indiv_cortexmapsub-562345/cortexmap', '../data_indiv_cortexmapsub-227533/cortexmap', '../data_indiv_cortexmapsub-453441/cortexmap', '../data_indiv_cortexmapsub-217126/cortexmap', '../data_indiv_cortexmapsub-380036/cortexmap', '../data_indiv_cortexmapsub-680250/cortexmap', '../data_indiv_cortexmapsub-793465/cortexmap', '../data_indiv_cortexmapsub-336841/cortexmap', '../data_indiv_cortexmapsub-520228/cortexmap', '../data_indiv_cortexmapsub-219231/cortexmap', '../data_indiv_cortexmapsub-121719/cortexmap', '../data_indiv_cortexmapsub-972566/cortexmap', '../data_indiv_cortexmapsub-389357/cortexmap', '../data_indiv_cortexmapsub-179346/cortexmap', '../data_indiv_cortexmapsub-200109/cortexmap', '../data_indiv_cortexmapsub-135932/cortexmap', '../data_indiv_cortexmapsub-623844/cortexmap', '../data_indiv_cortexmapsub-668361/cortexmap', '../data_indiv_cortexmapsub-198855/cortexmap', '../data_indiv_cortexmapsub-541943/cortexmap', '../data_indiv_cortexmapsub-955465/cortexmap', '../data_indiv_cortexmapsub-105014/cortexmap', '../data_indiv_cortexmapsub-362034/cortexmap', '../data_indiv_cortexmapsub-147636/cortexmap', '../data_indiv_cortexmapsub-392447/cortexmap', '../data_indiv_cortexmapsub-133019/cortexmap', '../data_indiv_cortexmapsub-814548/cortexmap', '../data_indiv_cortexmapsub-578158/cortexmap', '../data_indiv_cortexmapsub-114217/cortexmap', '../data_indiv_cortexmapsub-286347/cortexmap', '../data_indiv_cortexmapsub-228434/cortexmap', '../data_indiv_cortexmapsub-107321/cortexmap', '../data_indiv_cortexmapsub-153934/cortexmap', '../data_indiv_cortexmapsub-123521/cortexmap', '../data_indiv_cortexmapsub-101309/cortexmap', '../data_indiv_cortexmapsub-448347/cortexmap', '../data_indiv_cortexmapsub-193441/cortexmap', '../data_indiv_cortexmapsub-461743/cortexmap', '../data_indiv_cortexmapsub-165941/cortexmap', '../data_indiv_cortexmapsub-786569/cortexmap', '../data_indiv_cortexmapsub-127226/cortexmap', '../data_indiv_cortexmapsub-930449/cortexmap', '../data_indiv_cortexmapsub-873968/cortexmap', '../data_indiv_cortexmapsub-572045/cortexmap', '../data_indiv_cortexmapsub-882161/cortexmap', '../data_indiv_cortexmapsub-469961/cortexmap', '../data_indiv_cortexmapsub-140824/cortexmap', '../data_indiv_cortexmapsub-131924/cortexmap', '../data_indiv_cortexmapsub-154532/cortexmap', '../data_indiv_cortexmapsub-459453/cortexmap', '../data_indiv_cortexmapsub-180432/cortexmap', '../data_indiv_cortexmapsub-130619/cortexmap', '../data_indiv_cortexmapsub-151425/cortexmap', '../data_indiv_cortexmapsub-837560/cortexmap', '../data_indiv_cortexmapsub-555651/cortexmap', '../data_indiv_cortexmapsub-462139/cortexmap', '../data_indiv_cortexmapsub-664757/cortexmap', '../data_indiv_cortexmapsub-167036/cortexmap', '../data_indiv_cortexmapsub-467351/cortexmap', '../data_indiv_cortexmapsub-965771/cortexmap', '../data_indiv_cortexmapsub-901442/cortexmap', '../data_indiv_cortexmapsub-521331/cortexmap', '../data_indiv_cortexmapsub-189349/cortexmap', '../data_indiv_cortexmapsub-169949/cortexmap', '../data_indiv_cortexmapsub-102513/cortexmap', '../data_indiv_cortexmapsub-103212/cortexmap', '../data_indiv_cortexmapsub-989987/cortexmap', '../data_indiv_cortexmapsub-800941/cortexmap', '../data_indiv_cortexmapsub-199352/cortexmap', '../data_indiv_cortexmapsub-286650/cortexmap', '../data_indiv_cortexmapsub-872764/cortexmap', '../data_indiv_cortexmapsub-705341/cortexmap', '../data_indiv_cortexmapsub-173940/cortexmap', '../data_indiv_cortexmapsub-188751/cortexmap', '../data_indiv_cortexmapsub-194645/cortexmap', '../data_indiv_cortexmapsub-101410/cortexmap', '../data_indiv_cortexmapsub-112516/cortexmap', '../data_indiv_cortexmapsub-385450/cortexmap', '../data_indiv_cortexmapsub-665254/cortexmap', '../data_indiv_cortexmapsub-158843/cortexmap', '../data_indiv_cortexmapsub-308129/cortexmap', '../data_indiv_cortexmapsub-204521/cortexmap', '../data_indiv_cortexmapsub-106319/cortexmap', '../data_indiv_cortexmapsub-141119/cortexmap', '../data_indiv_cortexmapsub-959574/cortexmap', '../data_indiv_cortexmapsub-570243/cortexmap', '../data_indiv_cortexmapsub-213017/cortexmap', '../data_indiv_cortexmapsub-309636/cortexmap', '../data_indiv_cortexmapsub-729557/cortexmap', '../data_indiv_cortexmapsub-115017/cortexmap', '../data_indiv_cortexmapsub-203923/cortexmap', '../data_indiv_cortexmapsub-118023/cortexmap', '../data_indiv_cortexmapsub-155938/cortexmap', '../data_indiv_cortexmapsub-342129/cortexmap', '../data_indiv_cortexmapsub-209329/cortexmap', '../data_indiv_cortexmapsub-140117/cortexmap', '../data_indiv_cortexmapsub-553344/cortexmap', '../data_indiv_cortexmapsub-634748/cortexmap', '../data_indiv_cortexmapsub-173233/cortexmap', '../data_indiv_cortexmapsub-751550/cortexmap', '../data_indiv_cortexmapsub-137431/cortexmap', '../data_indiv_cortexmapsub-178950/cortexmap', '../data_indiv_cortexmapsub-969476/cortexmap', '../data_indiv_cortexmapsub-105923/cortexmap', '../data_indiv_cortexmapsub-441939/cortexmap', '../data_indiv_cortexmapsub-183337/cortexmap', '../data_indiv_cortexmapsub-594156/cortexmap', '../data_indiv_cortexmapsub-644044/cortexmap', '../data_indiv_cortexmapsub-392750/cortexmap', '../data_indiv_cortexmapsub-151223/cortexmap', '../data_indiv_cortexmapsub-159340/cortexmap', '../data_indiv_cortexmapsub-101006/cortexmap', '../data_indiv_cortexmapsub-173839/cortexmap', '../data_indiv_cortexmapsub-765056/cortexmap', '../data_indiv_cortexmapsub-118225/cortexmap', '../data_indiv_cortexmapsub-351938/cortexmap', '../data_indiv_cortexmapsub-304020/cortexmap', '../data_indiv_cortexmapsub-566454/cortexmap', '../data_indiv_cortexmapsub-160931/cortexmap', '../data_indiv_cortexmapsub-175742/cortexmap', '../data_indiv_cortexmapsub-201111/cortexmap', '../data_indiv_cortexmapsub-917558/cortexmap', '../data_indiv_cortexmapsub-210415/cortexmap', '../data_indiv_cortexmapsub-599065/cortexmap', '../data_indiv_cortexmapsub-723141/cortexmap', '../data_indiv_cortexmapsub-316633/cortexmap', '../data_indiv_cortexmapsub-701535/cortexmap', '../data_indiv_cortexmapsub-429040/cortexmap', '../data_indiv_cortexmapsub-456346/cortexmap', '../data_indiv_cortexmapsub-518746/cortexmap', '../data_indiv_cortexmapsub-280739/cortexmap', '../data_indiv_cortexmapsub-114318/cortexmap', '../data_indiv_cortexmapsub-833148/cortexmap', '../data_indiv_cortexmapsub-140420/cortexmap', '../data_indiv_cortexmapsub-178142/cortexmap', '../data_indiv_cortexmapsub-121618/cortexmap', '../data_indiv_cortexmapsub-130821/cortexmap', '../data_indiv_cortexmapsub-952863/cortexmap', '../data_indiv_cortexmapsub-154936/cortexmap', '../data_indiv_cortexmapsub-887373/cortexmap', '../data_indiv_cortexmapsub-128935/cortexmap', '../data_indiv_cortexmapsub-932554/cortexmap', '../data_indiv_cortexmapsub-688569/cortexmap', '../data_indiv_cortexmapsub-680452/cortexmap', '../data_indiv_cortexmapsub-673455/cortexmap', '../data_indiv_cortexmapsub-201414/cortexmap', '../data_indiv_cortexmapsub-983773/cortexmap', '../data_indiv_cortexmapsub-191942/cortexmap', '../data_indiv_cortexmapsub-844961/cortexmap', '../data_indiv_cortexmapsub-299760/cortexmap', '../data_indiv_cortexmapsub-227432/cortexmap', '../data_indiv_cortexmapsub-984472/cortexmap', '../data_indiv_cortexmapsub-573451/cortexmap', '../data_indiv_cortexmapsub-581349/cortexmap', '../data_indiv_cortexmapsub-202113/cortexmap', '../data_indiv_cortexmapsub-812746/cortexmap', '../data_indiv_cortexmapsub-744553/cortexmap', '../data_indiv_cortexmapsub-199958/cortexmap', '../data_indiv_cortexmapsub-557857/cortexmap', '../data_indiv_cortexmapsub-562446/cortexmap', '../data_indiv_cortexmapsub-449753/cortexmap', '../data_indiv_cortexmapsub-208125/cortexmap', '../data_indiv_cortexmapsub-117021/cortexmap', '../data_indiv_cortexmapsub-185341/cortexmap', '../data_indiv_cortexmapsub-353740/cortexmap', '../data_indiv_cortexmapsub-255639/cortexmap', '../data_indiv_cortexmapsub-871762/cortexmap', '../data_indiv_cortexmapsub-680957/cortexmap', '../data_indiv_cortexmapsub-318637/cortexmap', '../data_indiv_cortexmapsub-818455/cortexmap', '../data_indiv_cortexmapsub-160729/cortexmap', '../data_indiv_cortexmapsub-187345/cortexmap', '../data_indiv_cortexmapsub-693461/cortexmap', '../data_indiv_cortexmapsub-145834/cortexmap', '../data_indiv_cortexmapsub-212419/cortexmap', '../data_indiv_cortexmapsub-154835/cortexmap', '../data_indiv_cortexmapsub-285446/cortexmap', '../data_indiv_cortexmapsub-633847/cortexmap', '../data_indiv_cortexmapsub-694362/cortexmap', '../data_indiv_cortexmapsub-178647/cortexmap', '../data_indiv_cortexmapsub-729254/cortexmap', '../data_indiv_cortexmapsub-436845/cortexmap', '../data_indiv_cortexmapsub-131823/cortexmap', '../data_indiv_cortexmapsub-656657/cortexmap', '../data_indiv_cortexmapsub-103414/cortexmap', '../data_indiv_cortexmapsub-453542/cortexmap', '../data_indiv_cortexmapsub-136833/cortexmap', '../data_indiv_cortexmapsub-580347/cortexmap', '../data_indiv_cortexmapsub-163432/cortexmap', '../data_indiv_cortexmapsub-845458/cortexmap', '../data_indiv_cortexmapsub-182436/cortexmap', '../data_indiv_cortexmapsub-137936/cortexmap', '../data_indiv_cortexmapsub-742549/cortexmap', '../data_indiv_cortexmapsub-211619/cortexmap', '../data_indiv_cortexmapsub-196952/cortexmap', '../data_indiv_cortexmapsub-214524/cortexmap', '../data_indiv_cortexmapsub-156031/cortexmap', '../data_indiv_cortexmapsub-334635/cortexmap', '../data_indiv_cortexmapsub-237334/cortexmap', '../data_indiv_cortexmapsub-194140/cortexmap', '../data_indiv_cortexmapsub-927359/cortexmap', '../data_indiv_cortexmapsub-361941/cortexmap', '../data_indiv_cortexmapsub-120414/cortexmap', '../data_indiv_cortexmapsub-371843/cortexmap', '../data_indiv_cortexmapsub-134021/cortexmap', '../data_indiv_cortexmapsub-172433/cortexmap', '../data_indiv_cortexmapsub-177746/cortexmap', '../data_indiv_cortexmapsub-151526/cortexmap', '../data_indiv_cortexmapsub-162935/cortexmap', '../data_indiv_cortexmapsub-275645/cortexmap', '../data_indiv_cortexmapsub-111413/cortexmap', '../data_indiv_cortexmapsub-432332/cortexmap', '../data_indiv_cortexmapsub-421226/cortexmap', '../data_indiv_cortexmapsub-199251/cortexmap', '../data_indiv_cortexmapsub-992673/cortexmap', '../data_indiv_cortexmapsub-150726/cortexmap', '../data_indiv_cortexmapsub-129937/cortexmap', '../data_indiv_cortexmapsub-393550/cortexmap', '../data_indiv_cortexmapsub-214625/cortexmap', '../data_indiv_cortexmapsub-628248/cortexmap', '../data_indiv_cortexmapsub-139637/cortexmap', '../data_indiv_cortexmapsub-166438/cortexmap', '../data_indiv_cortexmapsub-209228/cortexmap', '../data_indiv_cortexmapsub-151627/cortexmap', '../data_indiv_cortexmapsub-179548/cortexmap', '../data_indiv_cortexmapsub-111312/cortexmap', '../data_indiv_cortexmapsub-183741/cortexmap', '../data_indiv_cortexmapsub-545345/cortexmap', '../data_indiv_cortexmapsub-146937/cortexmap', '../data_indiv_cortexmapsub-833249/cortexmap', '../data_indiv_cortexmapsub-130114/cortexmap', '../data_indiv_cortexmapsub-129331/cortexmap', '../data_indiv_cortexmapsub-130518/cortexmap', '../data_indiv_cortexmapsub-568963/cortexmap', '../data_indiv_cortexmapsub-214726/cortexmap']\n"
     ]
    }
   ],
   "source": [
    "# Get current working directory\n",
    "current_dir = os.getcwd()\n",
    "\n",
    "# List all entries in the directory\n",
    "entries = os.listdir(current_dir)\n",
    "\n",
    "# Initialize an empty list to store folder path and subjectID\n",
    "folders = []\n",
    "subjectID = []\n",
    "\n",
    "# Iterate over all entries\n",
    "LENGTH = len(\"sub-\")\n",
    "for entry in entries:\n",
    "    # Check if the entry is a directory\n",
    "    if os.path.isdir(os.path.join(current_dir, entry)):\n",
    "        # If it is, add it to the list of folders\n",
    "        subjectID.append(int(entry[LENGTH:]))\n",
    "        folders.append(\"../data_indiv_cortexmap\" + entry + \"/cortexmap\")\n",
    "# sort folder names alphabetically\n",
    "folders.sort()\n",
    "\n",
    "# Print num of folder to verify\n",
    "print(\"Total number of folders: \", len(folders))"
   ]
  },
  {
   "cell_type": "markdown",
   "metadata": {},
   "source": [
    "### Generate boostrap samples\n",
    "\n",
    "- Number of subjects = 1062\n",
    "- Number of bootstrap samples = 1000\n",
    "- So, there are 1000 samples with 1062 input files in each sample (subjects sampled with replacement)"
   ]
  },
  {
   "cell_type": "code",
   "execution_count": 20,
   "metadata": {},
   "outputs": [
    {
     "name": "stdout",
     "output_type": "stream",
     "text": [
      "1000\n",
      "15\n"
     ]
    }
   ],
   "source": [
    "initial_seed = 3212024121403 # can be any random number\n",
    "\n",
    "# Generate random seeds\n",
    "rng = np.random.default_rng(initial_seed)\n",
    "num_samples = 1000 # num of bootstrap samples = num of seeds\n",
    "seeds = rng.choice(1000000000000000000, num_samples, replace=False) # includes 1 seed per sample\n",
    "\n",
    "# Generate bootstrap samples\n",
    "samples = [] # 2D arr. 1 row = 1 boostrap sample. 1 element = 1 subject = index folders arr\n",
    "\n",
    "for seed in seeds:\n",
    "    rng = np.random.default_rng(seed)\n",
    "    total_subjects = len(folders) # total number of subjects = size of sample\n",
    "    samples.append(rng.choice(total_subjects, total_subjects))\n",
    "\n",
    "# print dimension of samples to verify\n",
    "print(len(samples))\n",
    "print(len(samples[0]))"
   ]
  },
  {
   "cell_type": "markdown",
   "metadata": {},
   "source": [
    "### Create config.json file for fsaverage app\n",
    "\n",
    "THINK about order of file names"
   ]
  },
  {
   "cell_type": "code",
   "execution_count": 23,
   "metadata": {},
   "outputs": [
    {
     "name": "stdout",
     "output_type": "stream",
     "text": [
      "Data has been written to config.json\n"
     ]
    }
   ],
   "source": [
    "# Create list of folder paths for 1 boostrap sample\n",
    "sample_index = 0 # index of which bootstrap sample\n",
    "subjects = [] # folder paths for 1 boostrap sample\n",
    "for i in samples[sample_index]:\n",
    "    subjects.append(folders[i])\n",
    "\n",
    "# Create a dictionary with \"input\" key (threshold and dilate set to 0)\n",
    "json_data = {\"threshold\" : 0,\n",
    "             \"dilate\" : 0,\n",
    "             \"inputs\": subjects}\n",
    "\n",
    "# Specify the output JSON file path (outputs to current directory)\n",
    "output_file_path = 'config.json'\n",
    "\n",
    "# Write data to JSON file\n",
    "with open(output_file_path, 'w') as f:\n",
    "    json.dump(json_data, f, indent=4)\n",
    "\n",
    "print(f\"Data has been written to {output_file_path}\")"
   ]
  }
 ],
 "metadata": {
  "kernelspec": {
   "display_name": "gradec_env",
   "language": "python",
   "name": "python3"
  },
  "language_info": {
   "codemirror_mode": {
    "name": "ipython",
    "version": 3
   },
   "file_extension": ".py",
   "mimetype": "text/x-python",
   "name": "python",
   "nbconvert_exporter": "python",
   "pygments_lexer": "ipython3",
   "version": "3.8.10"
  },
  "orig_nbformat": 4
 },
 "nbformat": 4,
 "nbformat_minor": 2
}
