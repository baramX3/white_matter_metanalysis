{
 "cells": [
  {
   "cell_type": "code",
   "execution_count": 2,
   "metadata": {},
   "outputs": [],
   "source": [
    "import os\n",
    "import json"
   ]
  },
  {
   "cell_type": "code",
   "execution_count": 5,
   "metadata": {},
   "outputs": [
    {
     "name": "stdout",
     "output_type": "stream",
     "text": [
      "Folders in the current directory: ['../sub-101107/cortexmap', '../sub-102614/cortexmap', '../sub-102109/cortexmap', '../sub-100610/cortexmap', '../sub-100408/cortexmap', '../sub-102715/cortexmap', '../sub-102311/cortexmap', '../sub-100307/cortexmap', '../sub-101915/cortexmap', '../sub-100206/cortexmap', '../sub-102008/cortexmap', '../sub-101309/cortexmap', '../sub-102513/cortexmap', '../sub-101410/cortexmap', '../sub-101006/cortexmap', '../brainlife/cortexmap']\n"
     ]
    }
   ],
   "source": [
    "# Get the current working directory\n",
    "current_dir = os.getcwd()\n",
    "\n",
    "# List all entries in the directory\n",
    "entries = os.listdir(current_dir)\n",
    "\n",
    "# Initialize an empty list to store folder names\n",
    "folders = []\n",
    "\n",
    "# Iterate over all entries\n",
    "LENGTH = len(\"sub-\")\n",
    "for entry in entries:\n",
    "    # Check if the entry is a directory\n",
    "    if os.path.isdir(os.path.join(current_dir, entry)):\n",
    "        # If it is, add it to the list of folders\n",
    "        folders.append(\"../\" + entry + \"/cortexmap\")\n",
    "\n",
    "# Print the list of folder names\n",
    "print(\"Folders in the current directory:\", folders)"
   ]
  },
  {
   "cell_type": "code",
   "execution_count": 6,
   "metadata": {},
   "outputs": [
    {
     "name": "stdout",
     "output_type": "stream",
     "text": [
      "Data has been written to config.json\n"
     ]
    }
   ],
   "source": [
    "# Create a dictionary with \"input\" key (threshold and dilate set to 0)\n",
    "json_data = {\"threshold\" : 0,\n",
    "             \"dilate\" : 0,\n",
    "             \"inputs\": folders}\n",
    "\n",
    "# Specify the output JSON file path (outputs to current directory)\n",
    "output_file_path = 'config.json'\n",
    "\n",
    "# Write data to JSON file\n",
    "with open(output_file_path, 'w') as f:\n",
    "    json.dump(json_data, f, indent=4)\n",
    "\n",
    "print(f\"Data has been written to {output_file_path}\")"
   ]
  }
 ],
 "metadata": {
  "kernelspec": {
   "display_name": "gradec_env",
   "language": "python",
   "name": "python3"
  },
  "language_info": {
   "codemirror_mode": {
    "name": "ipython",
    "version": 3
   },
   "file_extension": ".py",
   "mimetype": "text/x-python",
   "name": "python",
   "nbconvert_exporter": "python",
   "pygments_lexer": "ipython3",
   "version": "3.11.5"
  },
  "orig_nbformat": 4
 },
 "nbformat": 4,
 "nbformat_minor": 2
}
