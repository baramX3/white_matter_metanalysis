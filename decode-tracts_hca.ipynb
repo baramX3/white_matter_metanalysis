{
 "cells": [
  {
   "cell_type": "code",
   "execution_count": 1,
   "metadata": {},
   "outputs": [],
   "source": [
    "# If running notebook on brainlife, use ! due to version issues\n",
    "# !pip install llvmlite --ignore-installed # added due to issue with (un)installing correct version\n",
    "# !pip install git+https://github.com/JulioAPeraza/gradec.git"
   ]
  },
  {
   "cell_type": "code",
   "execution_count": 1,
   "metadata": {},
   "outputs": [],
   "source": [
    "import itertools\n",
    "import os.path as op\n",
    "import os\n",
    "import numpy as np\n",
    "import pandas as pd\n",
    "\n",
    "from gradec.decode import LDADecoder\n",
    "from gradec.utils import _rm_medial_wall, _decoding_filter\n",
    "from gradec.plot import plot_surf_maps, plot_radar, plot_cloud\n",
    "from gradec.fetcher import _fetch_features, _fetch_frequencies, _fetch_classification\n",
    "import nibabel as nib"
   ]
  },
  {
   "cell_type": "markdown",
   "metadata": {},
   "source": [
    "### Determine tract names given a data folder with cortical surface termination maps"
   ]
  },
  {
   "cell_type": "code",
   "execution_count": 2,
   "metadata": {},
   "outputs": [],
   "source": [
    "# Path to cortical surface termination maps\n",
    "data_dir = op.join(\".\", \"data\")\n",
    "endpt_dir = op.join(\n",
    "    data_dir, \n",
    "    \"white-matter-atlas_thresholds\", \n",
    "    f\"cortexmap_binarize_smooth-surf-1_threshold-0_dilate-0\", # MAY NEED TO MODIFY thresh and dilate\n",
    "    \"cortexmap\", \n",
    "    \"func\",\n",
    ")\n",
    "\n",
    "# extract all .gii file names\n",
    "file_names = []\n",
    "for f in os.listdir(endpt_dir):\n",
    "    if f.endswith(\".gii\"):\n",
    "        file_names.append(f)\n",
    "\n",
    "bi_tract_names = [] # tracts with left and right tract (lh-LPI, lh-RAS, rh-LPI, rh-RAS)\n",
    "mono_tract_names = [] # tracts with no left and right tract (lh-LPI, rh-RAS)\n",
    "\n",
    "# for use inside for loop\n",
    "LENGTH_HEM = len('rh.')\n",
    "LENGTH_LEFT = len('left')\n",
    "LENGTH_RIGHT = len('right')\n",
    "\n",
    "# extract tract name from file name\n",
    "for i in file_names:\n",
    "    exclude = \"rh.left\" in i or \"lh.right\" in i # exclude if file name \"rh.left...\" or \"lh.right...\"\n",
    "\n",
    "    if not(exclude):\n",
    "        split_by_tract = i.split(\"_\")[0][LENGTH_HEM:]\n",
    "        if 'left' in split_by_tract:\n",
    "            bi_tract_names.append(split_by_tract[LENGTH_LEFT:])\n",
    "        elif 'right' in split_by_tract:\n",
    "            bi_tract_names.append(split_by_tract[LENGTH_RIGHT:])\n",
    "        else:\n",
    "            mono_tract_names.append(split_by_tract)\n",
    "\n",
    "mono_tract_names = sorted(list(set(mono_tract_names))) # sorted to keep order consistent for future indexing\n",
    "bi_tract_names = sorted(list(set(bi_tract_names))) # sorted to keep order consistent for future indexing\n",
    "\n",
    "# create single array with tract names and whether the tracts are mono or bi\n",
    "all_tract_names = mono_tract_names + bi_tract_names\n",
    "isMono = np.concatenate((np.ones(len(mono_tract_names), dtype=int),\n",
    "                         np.zeros(len(bi_tract_names), dtype=int)))\n",
    "MONO_OR_BI_DICT = dict(zip(all_tract_names, isMono)) # binary, 1 = mono tract, 0 = bi tract\n",
    "\n",
    "# note: mono_tracts includes 5 tracts + bi_tracts include 28 --> 5 + 28*2 = 61 major white matter tracts or ROIs??"
   ]
  },
  {
   "cell_type": "markdown",
   "metadata": {},
   "source": [
    "### Define space, density and paths to data"
   ]
  },
  {
   "cell_type": "code",
   "execution_count": 3,
   "metadata": {},
   "outputs": [],
   "source": [
    "SPACE, DENSITY = \"fsaverage\", \"164k\"\n",
    "DSET, MODEL = \"neuroquery\", \"lda\"\n",
    "\n",
    "# data_dir = op.join(\".\", \"data\") # duplicate from code above\n",
    "neuromaps_dir = op.join(data_dir, \"neuromaps\")\n",
    "figures_dir = op.join(data_dir, \"figures\")\n",
    "\n",
    "# List of possible combinations of tracts, end points and smoothing\n",
    "tracts = all_tract_names\n",
    "endpts = [\"RAS\", \"LPI\"]\n",
    "#tracts = [\"Arc\", \"SLF1And2\", \"CST\"]\n",
    "#smths = [\"\", \".smooth_1\"]\n",
    "#thresholds = [\"0\", \"0.15\", \"0.25\"]\n",
    "\n",
    "# Dictionaries for the title of the figures\n",
    "TRACTS_DICT = dict(zip(all_tract_names, all_tract_names)) # need to eventually change\n",
    "'''TRACTS_DICT = {\n",
    "    \"Arc\": \"Arcuate\",\n",
    "    \"CST\": \"Corticospinal\",\n",
    "    \"SLF1And2\": \"SLF 1 & 2\",\n",
    "    \"forcepsMajor\": \"Forceps Major\",\n",
    "}\n",
    "SMTHS_DICT = {\n",
    "    \"\": \"Unsmoothed\",\n",
    "    \".smooth_1\": \"Smoothed\",\n",
    "} '''\n",
    "ENDPOINTS_DICT = { \n",
    "    \"LPI\": \"Left-Posterior-Inferior\",\n",
    "    \"RAS\": \"Right-Anterior-Superior\",\n",
    "}"
   ]
  },
  {
   "cell_type": "markdown",
   "metadata": {},
   "source": [
    "### Train and LDA-based decoder on NeuroQuery detabase"
   ]
  },
  {
   "cell_type": "code",
   "execution_count": 9,
   "metadata": {},
   "outputs": [],
   "source": [
    "decode = LDADecoder(space=SPACE, density=DENSITY, calc_pvals=False, data_dir=data_dir)\n",
    "decode.fit(DSET)\n",
    "\n",
    "# Load features for analysis or visualization\n",
    "features = _fetch_features(DSET, MODEL, data_dir=data_dir)\n",
    "frequencies = _fetch_frequencies(DSET, MODEL, data_dir=data_dir)\n",
    "classification, class_lst = _fetch_classification(DSET, MODEL, data_dir=data_dir)"
   ]
  },
  {
   "cell_type": "markdown",
   "metadata": {},
   "source": [
    "### Define functions to run decoder"
   ]
  },
  {
   "cell_type": "code",
   "execution_count": 5,
   "metadata": {},
   "outputs": [],
   "source": [
    "def load_combined_maps(endpt_dir, tract, isMono):\n",
    "    \"\"\"\n",
    "    This function loads maps when running analysis for combined endpoint ROIs (RAS+LPI)\n",
    "\n",
    "    Parameters\n",
    "    endpt_dir (str): file directory where the white matter end point atlases are stored\n",
    "    tract (str): name of tract\n",
    "    isMono (binary): 1 = tract is mono. 0 = tract is bi \n",
    "\n",
    "    Returns\n",
    "    map_arr_lh (1D array): probability map for left hemisphere\n",
    "    map_arr_rh (1D array): probability map for right hemisphere\n",
    "    \"\"\"\n",
    "    if isMono:\n",
    "        # file names\n",
    "        map_lpi_lh = op.join(endpt_dir, f\"lh.{tract}_box_1mm_LPI_FiberEndpoint.func.gii\")\n",
    "        map_ras_rh = op.join(endpt_dir, f\"rh.{tract}_box_1mm_RAS_FiberEndpoint.func.gii\")\n",
    "        map_arr_lh = nib.load(map_lpi_lh).agg_data()\n",
    "        map_arr_rh = nib.load(map_ras_rh).agg_data()\n",
    "    else: # if bi tracts\n",
    "        # file names\n",
    "        map_lpi_lh = op.join(endpt_dir, f\"lh.left{tract}_box_1mm_LPI_FiberEndpoint.func.gii\")\n",
    "        map_lpi_rh = op.join(endpt_dir, f\"rh.right{tract}_box_1mm_LPI_FiberEndpoint.func.gii\")\n",
    "        map_ras_lh = op.join(endpt_dir, f\"lh.left{tract}_box_1mm_RAS_FiberEndpoint.func.gii\")\n",
    "        map_ras_rh = op.join(endpt_dir, f\"rh.right{tract}_box_1mm_RAS_FiberEndpoint.func.gii\")\n",
    "        map_lpi_arr_lh = nib.load(map_lpi_lh).agg_data()\n",
    "        map_lpi_arr_rh = nib.load(map_lpi_rh).agg_data()\n",
    "        map_ras_arr_lh = nib.load(map_ras_lh).agg_data()\n",
    "        map_ras_arr_rh = nib.load(map_ras_rh).agg_data()\n",
    "        map_arr_lh = np.maximum(map_lpi_arr_lh, map_ras_arr_lh) # Take the maximum to address overlap\n",
    "        map_arr_rh = np.maximum(map_lpi_arr_rh, map_ras_arr_rh) # Take the maximum to address overlap\n",
    "        \n",
    "    return map_arr_lh, map_arr_rh"
   ]
  },
  {
   "cell_type": "code",
   "execution_count": 4,
   "metadata": {},
   "outputs": [],
   "source": [
    "def load_mono_maps(endpt_dir, tract, method=\"\"):\n",
    "    \"\"\"\n",
    "    This function loads maps when running analysis for mono tracts, separated.\n",
    "    Can be separated by hemisphere (lh vs. rh) or endpoint ROI (LPI vs. RAS). Functionally, these two are the same.\n",
    "\n",
    "    Parameters\n",
    "    endpt_dir (str): file directory where the white matter end point atlases are stored\n",
    "    tract (str): name of tract\n",
    "    isMono (binary): 1 = tract is mono. 0 = tract is bi \n",
    "\n",
    "    Returns\n",
    "    map_arr_lh (1D array): probability map for left hemisphere\n",
    "    map_arr_rh (1D array): probability map for right hemisphere\n",
    "    \"\"\"\n",
    "    # all file names\n",
    "    map_lpi_lh = op.join(endpt_dir, f\"lh.{tract}_box_1mm_LPI_FiberEndpoint.func.gii\")\n",
    "    map_ras_rh = op.join(endpt_dir, f\"rh.{tract}_box_1mm_RAS_FiberEndpoint.func.gii\")\n",
    "\n",
    "    match method:\n",
    "        case \"lh\": # separated by lh or LPI\n",
    "            map_arr_lh = nib.load(map_lpi_lh).agg_data()\n",
    "            map_arr_rh = np.zeros_like(map_arr_lh) # load blank right hemisphere\n",
    "        case \"rh\": # separated by rh or RAS\n",
    "            map_arr_rh = nib.load(map_ras_rh).agg_data()\n",
    "            map_arr_lh = np.zeros_like(map_arr_rh) # load blank left hemisphere\n",
    "        case _: # default\n",
    "            print(\"Error: No separation method provided.\")\n",
    "    \n",
    "    return map_arr_lh, map_arr_rh"
   ]
  },
  {
   "cell_type": "code",
   "execution_count": 5,
   "metadata": {},
   "outputs": [],
   "source": [
    "def load_bi_maps(endpt_dir, tract, splitby=\"\", endpt=\"\", hemisphere=\"\"):\n",
    "    \"\"\"\n",
    "    This function loads maps when running analysis for bi tracts, separated.\n",
    "    Can be separated by hemisphere (lh vs. rh), endpoint ROI (LPI vs. RAS), or both.\n",
    "\n",
    "    Parameters\n",
    "    endpt_dir (str): file directory where the white matter end point atlases are stored\n",
    "    tract (str): name of tract\n",
    "    splitby (str): method of splitting. Can split by \"roi\", \"hem\", or \"both\"\n",
    "    endpt (str): optional- endpoint ROI. \"RAS\" or \"LPI\"\n",
    "    hemisphere (str): optional- hemisphere. \"lh\" or \"rh\"\n",
    "\n",
    "    Returns\n",
    "    map_arr_lh (1D array): probability map for left hemisphere\n",
    "    map_arr_rh (1D array): probability map for right hemisphere\n",
    "    \"\"\"\n",
    "    # all file names\n",
    "    map_lpi_lh = op.join(endpt_dir, f\"lh.left{tract}_box_1mm_LPI_FiberEndpoint.func.gii\")\n",
    "    map_lpi_rh = op.join(endpt_dir, f\"rh.right{tract}_box_1mm_LPI_FiberEndpoint.func.gii\")\n",
    "    map_ras_lh = op.join(endpt_dir, f\"lh.left{tract}_box_1mm_RAS_FiberEndpoint.func.gii\")\n",
    "    map_ras_rh = op.join(endpt_dir, f\"rh.right{tract}_box_1mm_RAS_FiberEndpoint.func.gii\")\n",
    "\n",
    "    match splitby:\n",
    "        case \"roi\": # separated by endpoint ROI\n",
    "            if endpt == \"LPI\": \n",
    "                map_arr_lh = nib.load(map_lpi_lh).agg_data()\n",
    "                map_arr_rh = nib.load(map_lpi_rh).agg_data()\n",
    "            elif endpt == \"RAS\":\n",
    "                map_arr_lh = nib.load(map_ras_lh).agg_data()\n",
    "                map_arr_rh = nib.load(map_ras_rh).agg_data()\n",
    "            else:\n",
    "                print(\"Error: Can't separate by endpoint ROI. Wrong ROI provided.\")\n",
    "        case \"hem\": # separated by hemisphere\n",
    "            if hemisphere == \"lh\":\n",
    "                map_lpi_arr_lh = nib.load(map_lpi_lh).agg_data()\n",
    "                map_ras_arr_lh = nib.load(map_ras_lh).agg_data()\n",
    "                map_arr_lh = np.maximum(map_lpi_arr_lh, map_ras_arr_lh) # Take the maximum to address overlap\n",
    "                map_arr_rh = np.zeros_like(map_arr_lh) # load empty right hemisphere\n",
    "            elif hemisphere == \"rh\":\n",
    "                map_lpi_arr_rh = nib.load(map_lpi_rh).agg_data()\n",
    "                map_ras_arr_rh = nib.load(map_ras_rh).agg_data()\n",
    "                map_arr_rh = np.maximum(map_lpi_arr_rh, map_ras_arr_rh) # Take the maximum to address overlap\n",
    "                map_arr_lh = np.zeros_like(map_arr_rh) # load empty left hemisphere \n",
    "            else:\n",
    "                print(\"Error: Can't separate by hemisphere. Wrong hemisphere provided.\")\n",
    "        case \"both\": # separated by enpoint ROI and hemisphere\n",
    "            if hemisphere == \"lh\":\n",
    "                map_lh = op.join(endpt_dir, f\"lh.left{tract}_box_1mm_{endpt}_FiberEndpoint.func.gii\")\n",
    "                map_arr_lh = nib.load(map_lh).agg_data()\n",
    "                map_arr_rh = np.zeros_like(map_arr_lh) # load empty right hemisphere\n",
    "            elif hemisphere == \"rh\":\n",
    "                map_rh = op.join(endpt_dir, f\"rh.right{tract}_box_1mm_{endpt}_FiberEndpoint.func.gii\")\n",
    "                map_arr_rh = nib.load(map_rh).agg_data()\n",
    "                map_arr_lh = np.zeros_like(map_arr_rh) # load empty left hemisphere\n",
    "            else:\n",
    "                print(\"Error: Can't separate by endpoint ROI and hemisphere. Incorrect ROI or hemisphere provided.\")\n",
    "        case _: # default\n",
    "            print(\"Error: Incorrect separation method provided.\")\n",
    " \n",
    "    return map_arr_lh, map_arr_rh"
   ]
  },
  {
   "cell_type": "code",
   "execution_count": 14,
   "metadata": {},
   "outputs": [
    {
     "data": {
      "text/plain": [
       "True"
      ]
     },
     "execution_count": 14,
     "metadata": {},
     "output_type": "execute_result"
    }
   ],
   "source": [
    "hem = \"lh\"\n",
    "endpt = \"LPI\"\n",
    "hem+endpt == \"lhLPI\""
   ]
  },
  {
   "cell_type": "markdown",
   "metadata": {},
   "source": [
    "### Clustering: Run decoder on each endpoint separately"
   ]
  },
  {
   "cell_type": "code",
   "execution_count": 23,
   "metadata": {},
   "outputs": [
    {
     "data": {
      "application/vnd.jupyter.widget-view+json": {
       "model_id": "6b96b0f56b1f45adbb41faad4ed70378",
       "version_major": 2,
       "version_minor": 0
      },
      "text/plain": [
       "  0%|          | 0/1 [00:00<?, ?it/s]"
      ]
     },
     "metadata": {},
     "output_type": "display_data"
    },
    {
     "name": "stderr",
     "output_type": "stream",
     "text": [
      "/tmp/ipykernel_962006/3256806653.py:50: FutureWarning: The behavior of DataFrame concatenation with empty or all-NA entries is deprecated. In a future version, this will no longer exclude empty or all-NA columns when determining the result dtypes. To retain the old behavior, exclude the relevant entries before the concat operation.\n",
      "  map_corr_df = pd.concat([map_corr_df,\n"
     ]
    },
    {
     "data": {
      "application/vnd.jupyter.widget-view+json": {
       "model_id": "a611a000e3964b9daa165b6ff674a969",
       "version_major": 2,
       "version_minor": 0
      },
      "text/plain": [
       "  0%|          | 0/1 [00:00<?, ?it/s]"
      ]
     },
     "metadata": {},
     "output_type": "display_data"
    },
    {
     "data": {
      "application/vnd.jupyter.widget-view+json": {
       "model_id": "1773158883af4e22b04c3a0290c611c4",
       "version_major": 2,
       "version_minor": 0
      },
      "text/plain": [
       "  0%|          | 0/1 [00:00<?, ?it/s]"
      ]
     },
     "metadata": {},
     "output_type": "display_data"
    },
    {
     "data": {
      "application/vnd.jupyter.widget-view+json": {
       "model_id": "34079e4aacec47f78a435fbfedea2175",
       "version_major": 2,
       "version_minor": 0
      },
      "text/plain": [
       "  0%|          | 0/1 [00:00<?, ?it/s]"
      ]
     },
     "metadata": {},
     "output_type": "display_data"
    },
    {
     "data": {
      "application/vnd.jupyter.widget-view+json": {
       "model_id": "371d45ee186242b0b1ba58f85a092024",
       "version_major": 2,
       "version_minor": 0
      },
      "text/plain": [
       "  0%|          | 0/1 [00:00<?, ?it/s]"
      ]
     },
     "metadata": {},
     "output_type": "display_data"
    },
    {
     "data": {
      "application/vnd.jupyter.widget-view+json": {
       "model_id": "4c3ab249dbbd41ae88a55274cabee0c5",
       "version_major": 2,
       "version_minor": 0
      },
      "text/plain": [
       "  0%|          | 0/1 [00:00<?, ?it/s]"
      ]
     },
     "metadata": {},
     "output_type": "display_data"
    },
    {
     "data": {
      "application/vnd.jupyter.widget-view+json": {
       "model_id": "0ef6b23814ab49798fb5e7e98db0f85b",
       "version_major": 2,
       "version_minor": 0
      },
      "text/plain": [
       "  0%|          | 0/1 [00:00<?, ?it/s]"
      ]
     },
     "metadata": {},
     "output_type": "display_data"
    },
    {
     "data": {
      "application/vnd.jupyter.widget-view+json": {
       "model_id": "21d63e2714c94352a73d73f41ff491ff",
       "version_major": 2,
       "version_minor": 0
      },
      "text/plain": [
       "  0%|          | 0/1 [00:00<?, ?it/s]"
      ]
     },
     "metadata": {},
     "output_type": "display_data"
    },
    {
     "data": {
      "application/vnd.jupyter.widget-view+json": {
       "model_id": "dd61497a00af4dc18a184c2d205c01da",
       "version_major": 2,
       "version_minor": 0
      },
      "text/plain": [
       "  0%|          | 0/1 [00:00<?, ?it/s]"
      ]
     },
     "metadata": {},
     "output_type": "display_data"
    },
    {
     "data": {
      "application/vnd.jupyter.widget-view+json": {
       "model_id": "b8954b2d128d4629833ffd8776e1953f",
       "version_major": 2,
       "version_minor": 0
      },
      "text/plain": [
       "  0%|          | 0/1 [00:00<?, ?it/s]"
      ]
     },
     "metadata": {},
     "output_type": "display_data"
    },
    {
     "name": "stdout",
     "output_type": "stream",
     "text": [
      "AnterioFrontoCerebellar LPI lh\n"
     ]
    },
    {
     "name": "stderr",
     "output_type": "stream",
     "text": [
      "/home/sohmee/.local/share/virtualenvs/white_matter_tract-main-P1zb5N1J/lib/python3.10/site-packages/nimare/stats.py:108: RuntimeWarning: invalid value encountered in true_divide\n",
      "  rs = temp / (datass[1:] * datass[0])\n"
     ]
    },
    {
     "data": {
      "application/vnd.jupyter.widget-view+json": {
       "model_id": "fb4469e4dc844d9bbaf26fbf5c73444d",
       "version_major": 2,
       "version_minor": 0
      },
      "text/plain": [
       "  0%|          | 0/1 [00:00<?, ?it/s]"
      ]
     },
     "metadata": {},
     "output_type": "display_data"
    },
    {
     "name": "stdout",
     "output_type": "stream",
     "text": [
      "AnterioFrontoCerebellar LPI rh\n"
     ]
    },
    {
     "name": "stderr",
     "output_type": "stream",
     "text": [
      "/home/sohmee/.local/share/virtualenvs/white_matter_tract-main-P1zb5N1J/lib/python3.10/site-packages/nimare/stats.py:108: RuntimeWarning: invalid value encountered in true_divide\n",
      "  rs = temp / (datass[1:] * datass[0])\n"
     ]
    },
    {
     "data": {
      "application/vnd.jupyter.widget-view+json": {
       "model_id": "8110a3a25f6c4b708ae2be1d2930d359",
       "version_major": 2,
       "version_minor": 0
      },
      "text/plain": [
       "  0%|          | 0/1 [00:00<?, ?it/s]"
      ]
     },
     "metadata": {},
     "output_type": "display_data"
    },
    {
     "name": "stdout",
     "output_type": "stream",
     "text": [
      "AnterioFrontoCerebellar RAS lh\n"
     ]
    },
    {
     "data": {
      "application/vnd.jupyter.widget-view+json": {
       "model_id": "16aa7c4da3354bdf841f0e0066e36e18",
       "version_major": 2,
       "version_minor": 0
      },
      "text/plain": [
       "  0%|          | 0/1 [00:00<?, ?it/s]"
      ]
     },
     "metadata": {},
     "output_type": "display_data"
    },
    {
     "name": "stdout",
     "output_type": "stream",
     "text": [
      "AnterioFrontoCerebellar RAS rh\n"
     ]
    },
    {
     "data": {
      "application/vnd.jupyter.widget-view+json": {
       "model_id": "c8e9a13ca71247e4a58689c87edb7300",
       "version_major": 2,
       "version_minor": 0
      },
      "text/plain": [
       "  0%|          | 0/1 [00:00<?, ?it/s]"
      ]
     },
     "metadata": {},
     "output_type": "display_data"
    },
    {
     "name": "stdout",
     "output_type": "stream",
     "text": [
      "Arc LPI lh\n"
     ]
    },
    {
     "data": {
      "application/vnd.jupyter.widget-view+json": {
       "model_id": "f903fba6c3314ac19b7d76368246c5a9",
       "version_major": 2,
       "version_minor": 0
      },
      "text/plain": [
       "  0%|          | 0/1 [00:00<?, ?it/s]"
      ]
     },
     "metadata": {},
     "output_type": "display_data"
    },
    {
     "name": "stdout",
     "output_type": "stream",
     "text": [
      "Arc LPI rh\n"
     ]
    },
    {
     "data": {
      "application/vnd.jupyter.widget-view+json": {
       "model_id": "367e70b438d649068e9635ced03f22b8",
       "version_major": 2,
       "version_minor": 0
      },
      "text/plain": [
       "  0%|          | 0/1 [00:00<?, ?it/s]"
      ]
     },
     "metadata": {},
     "output_type": "display_data"
    },
    {
     "name": "stdout",
     "output_type": "stream",
     "text": [
      "Arc RAS lh\n"
     ]
    },
    {
     "data": {
      "application/vnd.jupyter.widget-view+json": {
       "model_id": "1994ad9e1ad543a9909b148da9221bcc",
       "version_major": 2,
       "version_minor": 0
      },
      "text/plain": [
       "  0%|          | 0/1 [00:00<?, ?it/s]"
      ]
     },
     "metadata": {},
     "output_type": "display_data"
    },
    {
     "name": "stdout",
     "output_type": "stream",
     "text": [
      "Arc RAS rh\n"
     ]
    },
    {
     "data": {
      "application/vnd.jupyter.widget-view+json": {
       "model_id": "9fa11fe7b65f491e836024b3208eb294",
       "version_major": 2,
       "version_minor": 0
      },
      "text/plain": [
       "  0%|          | 0/1 [00:00<?, ?it/s]"
      ]
     },
     "metadata": {},
     "output_type": "display_data"
    },
    {
     "name": "stdout",
     "output_type": "stream",
     "text": [
      "Aslant LPI lh\n"
     ]
    },
    {
     "data": {
      "application/vnd.jupyter.widget-view+json": {
       "model_id": "2d8dd5af25924344ab10505cbe940ba0",
       "version_major": 2,
       "version_minor": 0
      },
      "text/plain": [
       "  0%|          | 0/1 [00:00<?, ?it/s]"
      ]
     },
     "metadata": {},
     "output_type": "display_data"
    },
    {
     "name": "stdout",
     "output_type": "stream",
     "text": [
      "Aslant LPI rh\n"
     ]
    },
    {
     "data": {
      "application/vnd.jupyter.widget-view+json": {
       "model_id": "5d26d6aa62e245338332b4bfb14add5d",
       "version_major": 2,
       "version_minor": 0
      },
      "text/plain": [
       "  0%|          | 0/1 [00:00<?, ?it/s]"
      ]
     },
     "metadata": {},
     "output_type": "display_data"
    },
    {
     "name": "stdout",
     "output_type": "stream",
     "text": [
      "Aslant RAS lh\n"
     ]
    },
    {
     "data": {
      "application/vnd.jupyter.widget-view+json": {
       "model_id": "f7aea7f15efc457ca71c67072f8ab206",
       "version_major": 2,
       "version_minor": 0
      },
      "text/plain": [
       "  0%|          | 0/1 [00:00<?, ?it/s]"
      ]
     },
     "metadata": {},
     "output_type": "display_data"
    },
    {
     "name": "stdout",
     "output_type": "stream",
     "text": [
      "Aslant RAS rh\n"
     ]
    },
    {
     "data": {
      "application/vnd.jupyter.widget-view+json": {
       "model_id": "63475ac52f5845b0abfa979e3afc9676",
       "version_major": 2,
       "version_minor": 0
      },
      "text/plain": [
       "  0%|          | 0/1 [00:00<?, ?it/s]"
      ]
     },
     "metadata": {},
     "output_type": "display_data"
    },
    {
     "name": "stdout",
     "output_type": "stream",
     "text": [
      "CST LPI lh\n"
     ]
    },
    {
     "name": "stderr",
     "output_type": "stream",
     "text": [
      "/home/sohmee/.local/share/virtualenvs/white_matter_tract-main-P1zb5N1J/lib/python3.10/site-packages/nimare/stats.py:108: RuntimeWarning: invalid value encountered in true_divide\n",
      "  rs = temp / (datass[1:] * datass[0])\n"
     ]
    },
    {
     "data": {
      "application/vnd.jupyter.widget-view+json": {
       "model_id": "2df8f35dae644c94a996963e9f85a09f",
       "version_major": 2,
       "version_minor": 0
      },
      "text/plain": [
       "  0%|          | 0/1 [00:00<?, ?it/s]"
      ]
     },
     "metadata": {},
     "output_type": "display_data"
    },
    {
     "name": "stdout",
     "output_type": "stream",
     "text": [
      "CST LPI rh\n"
     ]
    },
    {
     "name": "stderr",
     "output_type": "stream",
     "text": [
      "/home/sohmee/.local/share/virtualenvs/white_matter_tract-main-P1zb5N1J/lib/python3.10/site-packages/nimare/stats.py:108: RuntimeWarning: invalid value encountered in true_divide\n",
      "  rs = temp / (datass[1:] * datass[0])\n"
     ]
    },
    {
     "data": {
      "application/vnd.jupyter.widget-view+json": {
       "model_id": "595f84e47bdd4202a309fe9955759338",
       "version_major": 2,
       "version_minor": 0
      },
      "text/plain": [
       "  0%|          | 0/1 [00:00<?, ?it/s]"
      ]
     },
     "metadata": {},
     "output_type": "display_data"
    },
    {
     "name": "stdout",
     "output_type": "stream",
     "text": [
      "CST RAS lh\n"
     ]
    },
    {
     "data": {
      "application/vnd.jupyter.widget-view+json": {
       "model_id": "94b6d29d05824fd697624dd60169dd62",
       "version_major": 2,
       "version_minor": 0
      },
      "text/plain": [
       "  0%|          | 0/1 [00:00<?, ?it/s]"
      ]
     },
     "metadata": {},
     "output_type": "display_data"
    },
    {
     "name": "stdout",
     "output_type": "stream",
     "text": [
      "CST RAS rh\n"
     ]
    },
    {
     "data": {
      "application/vnd.jupyter.widget-view+json": {
       "model_id": "3b4e08494616499aa4141a07087c64b1",
       "version_major": 2,
       "version_minor": 0
      },
      "text/plain": [
       "  0%|          | 0/1 [00:00<?, ?it/s]"
      ]
     },
     "metadata": {},
     "output_type": "display_data"
    },
    {
     "name": "stdout",
     "output_type": "stream",
     "text": [
      "ContraAnterioFrontoCerebellar LPI lh\n"
     ]
    },
    {
     "name": "stderr",
     "output_type": "stream",
     "text": [
      "/home/sohmee/.local/share/virtualenvs/white_matter_tract-main-P1zb5N1J/lib/python3.10/site-packages/nimare/stats.py:108: RuntimeWarning: invalid value encountered in true_divide\n",
      "  rs = temp / (datass[1:] * datass[0])\n"
     ]
    },
    {
     "data": {
      "application/vnd.jupyter.widget-view+json": {
       "model_id": "f0750c1a969645459d1890db8065e13c",
       "version_major": 2,
       "version_minor": 0
      },
      "text/plain": [
       "  0%|          | 0/1 [00:00<?, ?it/s]"
      ]
     },
     "metadata": {},
     "output_type": "display_data"
    },
    {
     "name": "stdout",
     "output_type": "stream",
     "text": [
      "ContraAnterioFrontoCerebellar LPI rh\n"
     ]
    },
    {
     "name": "stderr",
     "output_type": "stream",
     "text": [
      "/home/sohmee/.local/share/virtualenvs/white_matter_tract-main-P1zb5N1J/lib/python3.10/site-packages/nimare/stats.py:108: RuntimeWarning: invalid value encountered in true_divide\n",
      "  rs = temp / (datass[1:] * datass[0])\n"
     ]
    },
    {
     "data": {
      "application/vnd.jupyter.widget-view+json": {
       "model_id": "8a5a0088ee5d43b9bf5ddff64de06936",
       "version_major": 2,
       "version_minor": 0
      },
      "text/plain": [
       "  0%|          | 0/1 [00:00<?, ?it/s]"
      ]
     },
     "metadata": {},
     "output_type": "display_data"
    },
    {
     "name": "stdout",
     "output_type": "stream",
     "text": [
      "ContraAnterioFrontoCerebellar RAS lh\n"
     ]
    },
    {
     "data": {
      "application/vnd.jupyter.widget-view+json": {
       "model_id": "61a346f19d3446aba0f36523f0f80ebc",
       "version_major": 2,
       "version_minor": 0
      },
      "text/plain": [
       "  0%|          | 0/1 [00:00<?, ?it/s]"
      ]
     },
     "metadata": {},
     "output_type": "display_data"
    },
    {
     "name": "stdout",
     "output_type": "stream",
     "text": [
      "ContraAnterioFrontoCerebellar RAS rh\n"
     ]
    },
    {
     "data": {
      "application/vnd.jupyter.widget-view+json": {
       "model_id": "0fef692f79ff4e8b8f79f932bac54d46",
       "version_major": 2,
       "version_minor": 0
      },
      "text/plain": [
       "  0%|          | 0/1 [00:00<?, ?it/s]"
      ]
     },
     "metadata": {},
     "output_type": "display_data"
    },
    {
     "name": "stdout",
     "output_type": "stream",
     "text": [
      "ContraMotorCerebellar LPI lh\n"
     ]
    },
    {
     "name": "stderr",
     "output_type": "stream",
     "text": [
      "/home/sohmee/.local/share/virtualenvs/white_matter_tract-main-P1zb5N1J/lib/python3.10/site-packages/nimare/stats.py:108: RuntimeWarning: invalid value encountered in true_divide\n",
      "  rs = temp / (datass[1:] * datass[0])\n"
     ]
    },
    {
     "data": {
      "application/vnd.jupyter.widget-view+json": {
       "model_id": "2b7c8c36d2cc411481744005bdd5fd81",
       "version_major": 2,
       "version_minor": 0
      },
      "text/plain": [
       "  0%|          | 0/1 [00:00<?, ?it/s]"
      ]
     },
     "metadata": {},
     "output_type": "display_data"
    },
    {
     "name": "stdout",
     "output_type": "stream",
     "text": [
      "ContraMotorCerebellar LPI rh\n"
     ]
    },
    {
     "name": "stderr",
     "output_type": "stream",
     "text": [
      "/home/sohmee/.local/share/virtualenvs/white_matter_tract-main-P1zb5N1J/lib/python3.10/site-packages/nimare/stats.py:108: RuntimeWarning: invalid value encountered in true_divide\n",
      "  rs = temp / (datass[1:] * datass[0])\n"
     ]
    },
    {
     "data": {
      "application/vnd.jupyter.widget-view+json": {
       "model_id": "2cf08dd3e9de4b4981f49215a7321a96",
       "version_major": 2,
       "version_minor": 0
      },
      "text/plain": [
       "  0%|          | 0/1 [00:00<?, ?it/s]"
      ]
     },
     "metadata": {},
     "output_type": "display_data"
    },
    {
     "name": "stdout",
     "output_type": "stream",
     "text": [
      "ContraMotorCerebellar RAS lh\n"
     ]
    },
    {
     "data": {
      "application/vnd.jupyter.widget-view+json": {
       "model_id": "9271e65180994903a693fd7e20af329b",
       "version_major": 2,
       "version_minor": 0
      },
      "text/plain": [
       "  0%|          | 0/1 [00:00<?, ?it/s]"
      ]
     },
     "metadata": {},
     "output_type": "display_data"
    },
    {
     "name": "stdout",
     "output_type": "stream",
     "text": [
      "ContraMotorCerebellar RAS rh\n"
     ]
    },
    {
     "data": {
      "application/vnd.jupyter.widget-view+json": {
       "model_id": "39ad75ebc0844ec9b8ddfcaae4b28da5",
       "version_major": 2,
       "version_minor": 0
      },
      "text/plain": [
       "  0%|          | 0/1 [00:00<?, ?it/s]"
      ]
     },
     "metadata": {},
     "output_type": "display_data"
    },
    {
     "name": "stdout",
     "output_type": "stream",
     "text": [
      "IFOF LPI lh\n"
     ]
    },
    {
     "data": {
      "application/vnd.jupyter.widget-view+json": {
       "model_id": "d965520ce3824f3586d4c8567676d956",
       "version_major": 2,
       "version_minor": 0
      },
      "text/plain": [
       "  0%|          | 0/1 [00:00<?, ?it/s]"
      ]
     },
     "metadata": {},
     "output_type": "display_data"
    },
    {
     "name": "stdout",
     "output_type": "stream",
     "text": [
      "IFOF LPI rh\n"
     ]
    },
    {
     "data": {
      "application/vnd.jupyter.widget-view+json": {
       "model_id": "907107c4dd784979becef939e1b6d49c",
       "version_major": 2,
       "version_minor": 0
      },
      "text/plain": [
       "  0%|          | 0/1 [00:00<?, ?it/s]"
      ]
     },
     "metadata": {},
     "output_type": "display_data"
    },
    {
     "name": "stdout",
     "output_type": "stream",
     "text": [
      "IFOF RAS lh\n"
     ]
    },
    {
     "data": {
      "application/vnd.jupyter.widget-view+json": {
       "model_id": "a6438f4a603a47048e5ad0beb0152ed0",
       "version_major": 2,
       "version_minor": 0
      },
      "text/plain": [
       "  0%|          | 0/1 [00:00<?, ?it/s]"
      ]
     },
     "metadata": {},
     "output_type": "display_data"
    },
    {
     "name": "stdout",
     "output_type": "stream",
     "text": [
      "IFOF RAS rh\n"
     ]
    },
    {
     "data": {
      "application/vnd.jupyter.widget-view+json": {
       "model_id": "1f61987edaa94ef3a960019f3f5b03b3",
       "version_major": 2,
       "version_minor": 0
      },
      "text/plain": [
       "  0%|          | 0/1 [00:00<?, ?it/s]"
      ]
     },
     "metadata": {},
     "output_type": "display_data"
    },
    {
     "name": "stdout",
     "output_type": "stream",
     "text": [
      "ILF LPI lh\n"
     ]
    },
    {
     "data": {
      "application/vnd.jupyter.widget-view+json": {
       "model_id": "ba0b9f882e454b72b3307ae3deb0a149",
       "version_major": 2,
       "version_minor": 0
      },
      "text/plain": [
       "  0%|          | 0/1 [00:00<?, ?it/s]"
      ]
     },
     "metadata": {},
     "output_type": "display_data"
    },
    {
     "name": "stdout",
     "output_type": "stream",
     "text": [
      "ILF LPI rh\n"
     ]
    },
    {
     "data": {
      "application/vnd.jupyter.widget-view+json": {
       "model_id": "58e0bc633cba4f9a8257041c1c3a8a21",
       "version_major": 2,
       "version_minor": 0
      },
      "text/plain": [
       "  0%|          | 0/1 [00:00<?, ?it/s]"
      ]
     },
     "metadata": {},
     "output_type": "display_data"
    },
    {
     "name": "stdout",
     "output_type": "stream",
     "text": [
      "ILF RAS lh\n"
     ]
    },
    {
     "data": {
      "application/vnd.jupyter.widget-view+json": {
       "model_id": "11ad5a87cdf1458c95f3a2241e417551",
       "version_major": 2,
       "version_minor": 0
      },
      "text/plain": [
       "  0%|          | 0/1 [00:00<?, ?it/s]"
      ]
     },
     "metadata": {},
     "output_type": "display_data"
    },
    {
     "name": "stdout",
     "output_type": "stream",
     "text": [
      "ILF RAS rh\n"
     ]
    },
    {
     "data": {
      "application/vnd.jupyter.widget-view+json": {
       "model_id": "c40ba59febb3458d90de32dfdd4c76ca",
       "version_major": 2,
       "version_minor": 0
      },
      "text/plain": [
       "  0%|          | 0/1 [00:00<?, ?it/s]"
      ]
     },
     "metadata": {},
     "output_type": "display_data"
    },
    {
     "name": "stdout",
     "output_type": "stream",
     "text": [
      "MDLFang LPI lh\n"
     ]
    },
    {
     "data": {
      "application/vnd.jupyter.widget-view+json": {
       "model_id": "e2b9819d50134aeab00675ec6e2770cf",
       "version_major": 2,
       "version_minor": 0
      },
      "text/plain": [
       "  0%|          | 0/1 [00:00<?, ?it/s]"
      ]
     },
     "metadata": {},
     "output_type": "display_data"
    },
    {
     "name": "stdout",
     "output_type": "stream",
     "text": [
      "MDLFang LPI rh\n"
     ]
    },
    {
     "data": {
      "application/vnd.jupyter.widget-view+json": {
       "model_id": "824f2a9ff07c408ea2e4197cd703e0df",
       "version_major": 2,
       "version_minor": 0
      },
      "text/plain": [
       "  0%|          | 0/1 [00:00<?, ?it/s]"
      ]
     },
     "metadata": {},
     "output_type": "display_data"
    },
    {
     "name": "stdout",
     "output_type": "stream",
     "text": [
      "MDLFang RAS lh\n"
     ]
    },
    {
     "data": {
      "application/vnd.jupyter.widget-view+json": {
       "model_id": "85a66ead17354f8fa50f9767de4d36cb",
       "version_major": 2,
       "version_minor": 0
      },
      "text/plain": [
       "  0%|          | 0/1 [00:00<?, ?it/s]"
      ]
     },
     "metadata": {},
     "output_type": "display_data"
    },
    {
     "name": "stdout",
     "output_type": "stream",
     "text": [
      "MDLFang RAS rh\n"
     ]
    },
    {
     "data": {
      "application/vnd.jupyter.widget-view+json": {
       "model_id": "4a8a2fb3552a48ef8fc6155b69b67170",
       "version_major": 2,
       "version_minor": 0
      },
      "text/plain": [
       "  0%|          | 0/1 [00:00<?, ?it/s]"
      ]
     },
     "metadata": {},
     "output_type": "display_data"
    },
    {
     "name": "stdout",
     "output_type": "stream",
     "text": [
      "MDLFspl LPI lh\n"
     ]
    },
    {
     "data": {
      "application/vnd.jupyter.widget-view+json": {
       "model_id": "8aa4b895e6aa4e5281ad5184971c53a1",
       "version_major": 2,
       "version_minor": 0
      },
      "text/plain": [
       "  0%|          | 0/1 [00:00<?, ?it/s]"
      ]
     },
     "metadata": {},
     "output_type": "display_data"
    },
    {
     "name": "stdout",
     "output_type": "stream",
     "text": [
      "MDLFspl LPI rh\n"
     ]
    },
    {
     "data": {
      "application/vnd.jupyter.widget-view+json": {
       "model_id": "b970f1baee8048fa8bc1720a8fc59d14",
       "version_major": 2,
       "version_minor": 0
      },
      "text/plain": [
       "  0%|          | 0/1 [00:00<?, ?it/s]"
      ]
     },
     "metadata": {},
     "output_type": "display_data"
    },
    {
     "name": "stdout",
     "output_type": "stream",
     "text": [
      "MDLFspl RAS lh\n"
     ]
    },
    {
     "data": {
      "application/vnd.jupyter.widget-view+json": {
       "model_id": "9fd67289ada3477ab57a488bacea19de",
       "version_major": 2,
       "version_minor": 0
      },
      "text/plain": [
       "  0%|          | 0/1 [00:00<?, ?it/s]"
      ]
     },
     "metadata": {},
     "output_type": "display_data"
    },
    {
     "name": "stdout",
     "output_type": "stream",
     "text": [
      "MDLFspl RAS rh\n"
     ]
    },
    {
     "data": {
      "application/vnd.jupyter.widget-view+json": {
       "model_id": "1cdc9cbfa07d4f30a7c52ff97330506a",
       "version_major": 2,
       "version_minor": 0
      },
      "text/plain": [
       "  0%|          | 0/1 [00:00<?, ?it/s]"
      ]
     },
     "metadata": {},
     "output_type": "display_data"
    },
    {
     "name": "stdout",
     "output_type": "stream",
     "text": [
      "MotorCerebellar LPI lh\n"
     ]
    },
    {
     "name": "stderr",
     "output_type": "stream",
     "text": [
      "/home/sohmee/.local/share/virtualenvs/white_matter_tract-main-P1zb5N1J/lib/python3.10/site-packages/nimare/stats.py:108: RuntimeWarning: invalid value encountered in true_divide\n",
      "  rs = temp / (datass[1:] * datass[0])\n"
     ]
    },
    {
     "data": {
      "application/vnd.jupyter.widget-view+json": {
       "model_id": "08eeb0ccf18a40da82df6be6394c3e9b",
       "version_major": 2,
       "version_minor": 0
      },
      "text/plain": [
       "  0%|          | 0/1 [00:00<?, ?it/s]"
      ]
     },
     "metadata": {},
     "output_type": "display_data"
    },
    {
     "name": "stdout",
     "output_type": "stream",
     "text": [
      "MotorCerebellar LPI rh\n"
     ]
    },
    {
     "name": "stderr",
     "output_type": "stream",
     "text": [
      "/home/sohmee/.local/share/virtualenvs/white_matter_tract-main-P1zb5N1J/lib/python3.10/site-packages/nimare/stats.py:108: RuntimeWarning: invalid value encountered in true_divide\n",
      "  rs = temp / (datass[1:] * datass[0])\n"
     ]
    },
    {
     "data": {
      "application/vnd.jupyter.widget-view+json": {
       "model_id": "06f207c0e2ba440d8730ba72c8a3fd69",
       "version_major": 2,
       "version_minor": 0
      },
      "text/plain": [
       "  0%|          | 0/1 [00:00<?, ?it/s]"
      ]
     },
     "metadata": {},
     "output_type": "display_data"
    },
    {
     "name": "stdout",
     "output_type": "stream",
     "text": [
      "MotorCerebellar RAS lh\n"
     ]
    },
    {
     "data": {
      "application/vnd.jupyter.widget-view+json": {
       "model_id": "49d76af72f1c4229bc72318a1685c806",
       "version_major": 2,
       "version_minor": 0
      },
      "text/plain": [
       "  0%|          | 0/1 [00:00<?, ?it/s]"
      ]
     },
     "metadata": {},
     "output_type": "display_data"
    },
    {
     "name": "stdout",
     "output_type": "stream",
     "text": [
      "MotorCerebellar RAS rh\n"
     ]
    },
    {
     "data": {
      "application/vnd.jupyter.widget-view+json": {
       "model_id": "7911157f22504c15a6a41fcf0511bbac",
       "version_major": 2,
       "version_minor": 0
      },
      "text/plain": [
       "  0%|          | 0/1 [00:00<?, ?it/s]"
      ]
     },
     "metadata": {},
     "output_type": "display_data"
    },
    {
     "name": "stdout",
     "output_type": "stream",
     "text": [
      "OccipitoCerebellar LPI lh\n"
     ]
    },
    {
     "data": {
      "application/vnd.jupyter.widget-view+json": {
       "model_id": "c79982dace9443abb0f3d7a3fc7b960c",
       "version_major": 2,
       "version_minor": 0
      },
      "text/plain": [
       "  0%|          | 0/1 [00:00<?, ?it/s]"
      ]
     },
     "metadata": {},
     "output_type": "display_data"
    },
    {
     "name": "stdout",
     "output_type": "stream",
     "text": [
      "OccipitoCerebellar LPI rh\n"
     ]
    },
    {
     "name": "stderr",
     "output_type": "stream",
     "text": [
      "/home/sohmee/.local/share/virtualenvs/white_matter_tract-main-P1zb5N1J/lib/python3.10/site-packages/nimare/stats.py:108: RuntimeWarning: invalid value encountered in true_divide\n",
      "  rs = temp / (datass[1:] * datass[0])\n"
     ]
    },
    {
     "data": {
      "application/vnd.jupyter.widget-view+json": {
       "model_id": "51fff56af44f4db1bd727d478d9404c3",
       "version_major": 2,
       "version_minor": 0
      },
      "text/plain": [
       "  0%|          | 0/1 [00:00<?, ?it/s]"
      ]
     },
     "metadata": {},
     "output_type": "display_data"
    },
    {
     "name": "stdout",
     "output_type": "stream",
     "text": [
      "OccipitoCerebellar RAS lh\n"
     ]
    },
    {
     "data": {
      "application/vnd.jupyter.widget-view+json": {
       "model_id": "987574f3cdfa453e92ac1ae33ea3fa51",
       "version_major": 2,
       "version_minor": 0
      },
      "text/plain": [
       "  0%|          | 0/1 [00:00<?, ?it/s]"
      ]
     },
     "metadata": {},
     "output_type": "display_data"
    },
    {
     "name": "stdout",
     "output_type": "stream",
     "text": [
      "OccipitoCerebellar RAS rh\n"
     ]
    },
    {
     "data": {
      "application/vnd.jupyter.widget-view+json": {
       "model_id": "c4ac530bc93a4f12af8a5288c3915415",
       "version_major": 2,
       "version_minor": 0
      },
      "text/plain": [
       "  0%|          | 0/1 [00:00<?, ?it/s]"
      ]
     },
     "metadata": {},
     "output_type": "display_data"
    },
    {
     "name": "stdout",
     "output_type": "stream",
     "text": [
      "ParietoCerebellar LPI lh\n"
     ]
    },
    {
     "name": "stderr",
     "output_type": "stream",
     "text": [
      "/home/sohmee/.local/share/virtualenvs/white_matter_tract-main-P1zb5N1J/lib/python3.10/site-packages/nimare/stats.py:108: RuntimeWarning: invalid value encountered in true_divide\n",
      "  rs = temp / (datass[1:] * datass[0])\n"
     ]
    },
    {
     "data": {
      "application/vnd.jupyter.widget-view+json": {
       "model_id": "c83c39a6c0a94d4b9182d8e829b59d82",
       "version_major": 2,
       "version_minor": 0
      },
      "text/plain": [
       "  0%|          | 0/1 [00:00<?, ?it/s]"
      ]
     },
     "metadata": {},
     "output_type": "display_data"
    },
    {
     "name": "stdout",
     "output_type": "stream",
     "text": [
      "ParietoCerebellar LPI rh\n"
     ]
    },
    {
     "name": "stderr",
     "output_type": "stream",
     "text": [
      "/home/sohmee/.local/share/virtualenvs/white_matter_tract-main-P1zb5N1J/lib/python3.10/site-packages/nimare/stats.py:108: RuntimeWarning: invalid value encountered in true_divide\n",
      "  rs = temp / (datass[1:] * datass[0])\n"
     ]
    },
    {
     "data": {
      "application/vnd.jupyter.widget-view+json": {
       "model_id": "5ebc7b5e14bb4966b323687936935229",
       "version_major": 2,
       "version_minor": 0
      },
      "text/plain": [
       "  0%|          | 0/1 [00:00<?, ?it/s]"
      ]
     },
     "metadata": {},
     "output_type": "display_data"
    },
    {
     "name": "stdout",
     "output_type": "stream",
     "text": [
      "ParietoCerebellar RAS lh\n"
     ]
    },
    {
     "data": {
      "application/vnd.jupyter.widget-view+json": {
       "model_id": "5c577a94b02a4f99b0c517c94d247204",
       "version_major": 2,
       "version_minor": 0
      },
      "text/plain": [
       "  0%|          | 0/1 [00:00<?, ?it/s]"
      ]
     },
     "metadata": {},
     "output_type": "display_data"
    },
    {
     "name": "stdout",
     "output_type": "stream",
     "text": [
      "ParietoCerebellar RAS rh\n"
     ]
    },
    {
     "data": {
      "application/vnd.jupyter.widget-view+json": {
       "model_id": "5baab8a00c3c4ed2a6f7d607b8beedc0",
       "version_major": 2,
       "version_minor": 0
      },
      "text/plain": [
       "  0%|          | 0/1 [00:00<?, ?it/s]"
      ]
     },
     "metadata": {},
     "output_type": "display_data"
    },
    {
     "name": "stdout",
     "output_type": "stream",
     "text": [
      "SLF1And2 LPI lh\n"
     ]
    },
    {
     "data": {
      "application/vnd.jupyter.widget-view+json": {
       "model_id": "3184ea55da3b4499a7327021bfade59c",
       "version_major": 2,
       "version_minor": 0
      },
      "text/plain": [
       "  0%|          | 0/1 [00:00<?, ?it/s]"
      ]
     },
     "metadata": {},
     "output_type": "display_data"
    },
    {
     "name": "stdout",
     "output_type": "stream",
     "text": [
      "SLF1And2 LPI rh\n"
     ]
    },
    {
     "data": {
      "application/vnd.jupyter.widget-view+json": {
       "model_id": "b26a63fbb7634f099fcfb6c3762d666b",
       "version_major": 2,
       "version_minor": 0
      },
      "text/plain": [
       "  0%|          | 0/1 [00:00<?, ?it/s]"
      ]
     },
     "metadata": {},
     "output_type": "display_data"
    },
    {
     "name": "stdout",
     "output_type": "stream",
     "text": [
      "SLF1And2 RAS lh\n"
     ]
    },
    {
     "data": {
      "application/vnd.jupyter.widget-view+json": {
       "model_id": "255cf450fdcf4fa9973032b544f18672",
       "version_major": 2,
       "version_minor": 0
      },
      "text/plain": [
       "  0%|          | 0/1 [00:00<?, ?it/s]"
      ]
     },
     "metadata": {},
     "output_type": "display_data"
    },
    {
     "name": "stdout",
     "output_type": "stream",
     "text": [
      "SLF1And2 RAS rh\n"
     ]
    },
    {
     "data": {
      "application/vnd.jupyter.widget-view+json": {
       "model_id": "551f4518dae64a3d8d93b4afb5df3b7b",
       "version_major": 2,
       "version_minor": 0
      },
      "text/plain": [
       "  0%|          | 0/1 [00:00<?, ?it/s]"
      ]
     },
     "metadata": {},
     "output_type": "display_data"
    },
    {
     "name": "stdout",
     "output_type": "stream",
     "text": [
      "SLF3 LPI lh\n"
     ]
    },
    {
     "data": {
      "application/vnd.jupyter.widget-view+json": {
       "model_id": "889fea78cc35481fad7fb5013cedf493",
       "version_major": 2,
       "version_minor": 0
      },
      "text/plain": [
       "  0%|          | 0/1 [00:00<?, ?it/s]"
      ]
     },
     "metadata": {},
     "output_type": "display_data"
    },
    {
     "name": "stdout",
     "output_type": "stream",
     "text": [
      "SLF3 LPI rh\n"
     ]
    },
    {
     "data": {
      "application/vnd.jupyter.widget-view+json": {
       "model_id": "6306359dcac449769e20f74527d81769",
       "version_major": 2,
       "version_minor": 0
      },
      "text/plain": [
       "  0%|          | 0/1 [00:00<?, ?it/s]"
      ]
     },
     "metadata": {},
     "output_type": "display_data"
    },
    {
     "name": "stdout",
     "output_type": "stream",
     "text": [
      "SLF3 RAS lh\n"
     ]
    },
    {
     "data": {
      "application/vnd.jupyter.widget-view+json": {
       "model_id": "a5cb3689fbee48fca42a1a53536b9ea2",
       "version_major": 2,
       "version_minor": 0
      },
      "text/plain": [
       "  0%|          | 0/1 [00:00<?, ?it/s]"
      ]
     },
     "metadata": {},
     "output_type": "display_data"
    },
    {
     "name": "stdout",
     "output_type": "stream",
     "text": [
      "SLF3 RAS rh\n"
     ]
    },
    {
     "data": {
      "application/vnd.jupyter.widget-view+json": {
       "model_id": "6b8ebeb8866e441c8c5264ea405d5831",
       "version_major": 2,
       "version_minor": 0
      },
      "text/plain": [
       "  0%|          | 0/1 [00:00<?, ?it/s]"
      ]
     },
     "metadata": {},
     "output_type": "display_data"
    },
    {
     "name": "stdout",
     "output_type": "stream",
     "text": [
      "TPC LPI lh\n"
     ]
    },
    {
     "data": {
      "application/vnd.jupyter.widget-view+json": {
       "model_id": "722f521ab2db4839912b2f5075fdcbf9",
       "version_major": 2,
       "version_minor": 0
      },
      "text/plain": [
       "  0%|          | 0/1 [00:00<?, ?it/s]"
      ]
     },
     "metadata": {},
     "output_type": "display_data"
    },
    {
     "name": "stdout",
     "output_type": "stream",
     "text": [
      "TPC LPI rh\n"
     ]
    },
    {
     "data": {
      "application/vnd.jupyter.widget-view+json": {
       "model_id": "865494d6179c452ca4efc4693c60ef96",
       "version_major": 2,
       "version_minor": 0
      },
      "text/plain": [
       "  0%|          | 0/1 [00:00<?, ?it/s]"
      ]
     },
     "metadata": {},
     "output_type": "display_data"
    },
    {
     "name": "stdout",
     "output_type": "stream",
     "text": [
      "TPC RAS lh\n"
     ]
    },
    {
     "data": {
      "application/vnd.jupyter.widget-view+json": {
       "model_id": "90fa058dc26947b4801d4b33f12ab96f",
       "version_major": 2,
       "version_minor": 0
      },
      "text/plain": [
       "  0%|          | 0/1 [00:00<?, ?it/s]"
      ]
     },
     "metadata": {},
     "output_type": "display_data"
    },
    {
     "name": "stdout",
     "output_type": "stream",
     "text": [
      "TPC RAS rh\n"
     ]
    },
    {
     "data": {
      "application/vnd.jupyter.widget-view+json": {
       "model_id": "62b89c37ad3043cbbdea8b5f65afb50d",
       "version_major": 2,
       "version_minor": 0
      },
      "text/plain": [
       "  0%|          | 0/1 [00:00<?, ?it/s]"
      ]
     },
     "metadata": {},
     "output_type": "display_data"
    },
    {
     "name": "stdout",
     "output_type": "stream",
     "text": [
      "ThalamicoCerebellar LPI lh\n"
     ]
    },
    {
     "name": "stderr",
     "output_type": "stream",
     "text": [
      "/home/sohmee/.local/share/virtualenvs/white_matter_tract-main-P1zb5N1J/lib/python3.10/site-packages/nimare/stats.py:108: RuntimeWarning: invalid value encountered in true_divide\n",
      "  rs = temp / (datass[1:] * datass[0])\n"
     ]
    },
    {
     "data": {
      "application/vnd.jupyter.widget-view+json": {
       "model_id": "0abc2a2307df41e69cd95ebcd81b3126",
       "version_major": 2,
       "version_minor": 0
      },
      "text/plain": [
       "  0%|          | 0/1 [00:00<?, ?it/s]"
      ]
     },
     "metadata": {},
     "output_type": "display_data"
    },
    {
     "name": "stdout",
     "output_type": "stream",
     "text": [
      "ThalamicoCerebellar LPI rh\n"
     ]
    },
    {
     "name": "stderr",
     "output_type": "stream",
     "text": [
      "/home/sohmee/.local/share/virtualenvs/white_matter_tract-main-P1zb5N1J/lib/python3.10/site-packages/nimare/stats.py:108: RuntimeWarning: invalid value encountered in true_divide\n",
      "  rs = temp / (datass[1:] * datass[0])\n"
     ]
    },
    {
     "data": {
      "application/vnd.jupyter.widget-view+json": {
       "model_id": "30a39fd594c2442193cf0d544f5b64d7",
       "version_major": 2,
       "version_minor": 0
      },
      "text/plain": [
       "  0%|          | 0/1 [00:00<?, ?it/s]"
      ]
     },
     "metadata": {},
     "output_type": "display_data"
    },
    {
     "name": "stdout",
     "output_type": "stream",
     "text": [
      "ThalamicoCerebellar RAS lh\n"
     ]
    },
    {
     "name": "stderr",
     "output_type": "stream",
     "text": [
      "/home/sohmee/.local/share/virtualenvs/white_matter_tract-main-P1zb5N1J/lib/python3.10/site-packages/nimare/stats.py:108: RuntimeWarning: invalid value encountered in true_divide\n",
      "  rs = temp / (datass[1:] * datass[0])\n"
     ]
    },
    {
     "data": {
      "application/vnd.jupyter.widget-view+json": {
       "model_id": "6eeadab324034fa8834229f31492a186",
       "version_major": 2,
       "version_minor": 0
      },
      "text/plain": [
       "  0%|          | 0/1 [00:00<?, ?it/s]"
      ]
     },
     "metadata": {},
     "output_type": "display_data"
    },
    {
     "name": "stdout",
     "output_type": "stream",
     "text": [
      "ThalamicoCerebellar RAS rh\n"
     ]
    },
    {
     "name": "stderr",
     "output_type": "stream",
     "text": [
      "/home/sohmee/.local/share/virtualenvs/white_matter_tract-main-P1zb5N1J/lib/python3.10/site-packages/nimare/stats.py:108: RuntimeWarning: invalid value encountered in true_divide\n",
      "  rs = temp / (datass[1:] * datass[0])\n"
     ]
    },
    {
     "data": {
      "application/vnd.jupyter.widget-view+json": {
       "model_id": "30681a32a47149e5b246b2e9b2247e6f",
       "version_major": 2,
       "version_minor": 0
      },
      "text/plain": [
       "  0%|          | 0/1 [00:00<?, ?it/s]"
      ]
     },
     "metadata": {},
     "output_type": "display_data"
    },
    {
     "name": "stdout",
     "output_type": "stream",
     "text": [
      "Uncinate LPI lh\n"
     ]
    },
    {
     "data": {
      "application/vnd.jupyter.widget-view+json": {
       "model_id": "caec1c07c0c74eb4ab15b26806c481aa",
       "version_major": 2,
       "version_minor": 0
      },
      "text/plain": [
       "  0%|          | 0/1 [00:00<?, ?it/s]"
      ]
     },
     "metadata": {},
     "output_type": "display_data"
    },
    {
     "name": "stdout",
     "output_type": "stream",
     "text": [
      "Uncinate LPI rh\n"
     ]
    },
    {
     "data": {
      "application/vnd.jupyter.widget-view+json": {
       "model_id": "ee8e8473ec97427499135c8db7ca74a4",
       "version_major": 2,
       "version_minor": 0
      },
      "text/plain": [
       "  0%|          | 0/1 [00:00<?, ?it/s]"
      ]
     },
     "metadata": {},
     "output_type": "display_data"
    },
    {
     "name": "stdout",
     "output_type": "stream",
     "text": [
      "Uncinate RAS lh\n"
     ]
    },
    {
     "data": {
      "application/vnd.jupyter.widget-view+json": {
       "model_id": "c7fede03b7cc4d798de87d11b37d8740",
       "version_major": 2,
       "version_minor": 0
      },
      "text/plain": [
       "  0%|          | 0/1 [00:00<?, ?it/s]"
      ]
     },
     "metadata": {},
     "output_type": "display_data"
    },
    {
     "name": "stdout",
     "output_type": "stream",
     "text": [
      "Uncinate RAS rh\n"
     ]
    },
    {
     "data": {
      "application/vnd.jupyter.widget-view+json": {
       "model_id": "0d94103cf664431dba5a5dfe7f5daab0",
       "version_major": 2,
       "version_minor": 0
      },
      "text/plain": [
       "  0%|          | 0/1 [00:00<?, ?it/s]"
      ]
     },
     "metadata": {},
     "output_type": "display_data"
    },
    {
     "name": "stdout",
     "output_type": "stream",
     "text": [
      "VOF LPI lh\n"
     ]
    },
    {
     "data": {
      "application/vnd.jupyter.widget-view+json": {
       "model_id": "c4ddbe52f503409181f4e9df5140feec",
       "version_major": 2,
       "version_minor": 0
      },
      "text/plain": [
       "  0%|          | 0/1 [00:00<?, ?it/s]"
      ]
     },
     "metadata": {},
     "output_type": "display_data"
    },
    {
     "name": "stdout",
     "output_type": "stream",
     "text": [
      "VOF LPI rh\n"
     ]
    },
    {
     "data": {
      "application/vnd.jupyter.widget-view+json": {
       "model_id": "3e96f674413541efb03b6c8bfcb4a80c",
       "version_major": 2,
       "version_minor": 0
      },
      "text/plain": [
       "  0%|          | 0/1 [00:00<?, ?it/s]"
      ]
     },
     "metadata": {},
     "output_type": "display_data"
    },
    {
     "name": "stdout",
     "output_type": "stream",
     "text": [
      "VOF RAS lh\n"
     ]
    },
    {
     "data": {
      "application/vnd.jupyter.widget-view+json": {
       "model_id": "357fbe121964481e868b4f1c11e67354",
       "version_major": 2,
       "version_minor": 0
      },
      "text/plain": [
       "  0%|          | 0/1 [00:00<?, ?it/s]"
      ]
     },
     "metadata": {},
     "output_type": "display_data"
    },
    {
     "name": "stdout",
     "output_type": "stream",
     "text": [
      "VOF RAS rh\n"
     ]
    },
    {
     "data": {
      "application/vnd.jupyter.widget-view+json": {
       "model_id": "117833efa61849f186a4ad00002d3e5f",
       "version_major": 2,
       "version_minor": 0
      },
      "text/plain": [
       "  0%|          | 0/1 [00:00<?, ?it/s]"
      ]
     },
     "metadata": {},
     "output_type": "display_data"
    },
    {
     "name": "stdout",
     "output_type": "stream",
     "text": [
      "baum LPI lh\n"
     ]
    },
    {
     "data": {
      "application/vnd.jupyter.widget-view+json": {
       "model_id": "3eba887818f64cb78feaf43835f7a902",
       "version_major": 2,
       "version_minor": 0
      },
      "text/plain": [
       "  0%|          | 0/1 [00:00<?, ?it/s]"
      ]
     },
     "metadata": {},
     "output_type": "display_data"
    },
    {
     "name": "stdout",
     "output_type": "stream",
     "text": [
      "baum LPI rh\n"
     ]
    },
    {
     "data": {
      "application/vnd.jupyter.widget-view+json": {
       "model_id": "84cb132018524fa9924f213493f76592",
       "version_major": 2,
       "version_minor": 0
      },
      "text/plain": [
       "  0%|          | 0/1 [00:00<?, ?it/s]"
      ]
     },
     "metadata": {},
     "output_type": "display_data"
    },
    {
     "name": "stdout",
     "output_type": "stream",
     "text": [
      "baum RAS lh\n"
     ]
    },
    {
     "name": "stderr",
     "output_type": "stream",
     "text": [
      "/home/sohmee/.local/share/virtualenvs/white_matter_tract-main-P1zb5N1J/lib/python3.10/site-packages/nimare/stats.py:108: RuntimeWarning: invalid value encountered in true_divide\n",
      "  rs = temp / (datass[1:] * datass[0])\n"
     ]
    },
    {
     "data": {
      "application/vnd.jupyter.widget-view+json": {
       "model_id": "ddabd4fbd101406e929a1197f6618e42",
       "version_major": 2,
       "version_minor": 0
      },
      "text/plain": [
       "  0%|          | 0/1 [00:00<?, ?it/s]"
      ]
     },
     "metadata": {},
     "output_type": "display_data"
    },
    {
     "name": "stdout",
     "output_type": "stream",
     "text": [
      "baum RAS rh\n"
     ]
    },
    {
     "name": "stderr",
     "output_type": "stream",
     "text": [
      "/home/sohmee/.local/share/virtualenvs/white_matter_tract-main-P1zb5N1J/lib/python3.10/site-packages/nimare/stats.py:108: RuntimeWarning: invalid value encountered in true_divide\n",
      "  rs = temp / (datass[1:] * datass[0])\n"
     ]
    },
    {
     "data": {
      "application/vnd.jupyter.widget-view+json": {
       "model_id": "a6a99141570f4f59b1351bbc903f6d58",
       "version_major": 2,
       "version_minor": 0
      },
      "text/plain": [
       "  0%|          | 0/1 [00:00<?, ?it/s]"
      ]
     },
     "metadata": {},
     "output_type": "display_data"
    },
    {
     "name": "stdout",
     "output_type": "stream",
     "text": [
      "cingulum LPI lh\n"
     ]
    },
    {
     "data": {
      "application/vnd.jupyter.widget-view+json": {
       "model_id": "753d02f83827409081948786583e3cdd",
       "version_major": 2,
       "version_minor": 0
      },
      "text/plain": [
       "  0%|          | 0/1 [00:00<?, ?it/s]"
      ]
     },
     "metadata": {},
     "output_type": "display_data"
    },
    {
     "name": "stdout",
     "output_type": "stream",
     "text": [
      "cingulum LPI rh\n"
     ]
    },
    {
     "data": {
      "application/vnd.jupyter.widget-view+json": {
       "model_id": "6f97dacab2e343b9ac61cf91db21ffe5",
       "version_major": 2,
       "version_minor": 0
      },
      "text/plain": [
       "  0%|          | 0/1 [00:00<?, ?it/s]"
      ]
     },
     "metadata": {},
     "output_type": "display_data"
    },
    {
     "name": "stdout",
     "output_type": "stream",
     "text": [
      "cingulum RAS lh\n"
     ]
    },
    {
     "data": {
      "application/vnd.jupyter.widget-view+json": {
       "model_id": "a1c5991528e146a2bcdda7b63929fd68",
       "version_major": 2,
       "version_minor": 0
      },
      "text/plain": [
       "  0%|          | 0/1 [00:00<?, ?it/s]"
      ]
     },
     "metadata": {},
     "output_type": "display_data"
    },
    {
     "name": "stdout",
     "output_type": "stream",
     "text": [
      "cingulum RAS rh\n"
     ]
    },
    {
     "data": {
      "application/vnd.jupyter.widget-view+json": {
       "model_id": "4c0e80a4f6d54450b97bd2b73c46e40c",
       "version_major": 2,
       "version_minor": 0
      },
      "text/plain": [
       "  0%|          | 0/1 [00:00<?, ?it/s]"
      ]
     },
     "metadata": {},
     "output_type": "display_data"
    },
    {
     "name": "stdout",
     "output_type": "stream",
     "text": [
      "frontoThalamic LPI lh\n"
     ]
    },
    {
     "name": "stderr",
     "output_type": "stream",
     "text": [
      "/home/sohmee/.local/share/virtualenvs/white_matter_tract-main-P1zb5N1J/lib/python3.10/site-packages/nimare/stats.py:108: RuntimeWarning: invalid value encountered in true_divide\n",
      "  rs = temp / (datass[1:] * datass[0])\n"
     ]
    },
    {
     "data": {
      "application/vnd.jupyter.widget-view+json": {
       "model_id": "c62629ecd7fc477eafa6f2ecc1d5e907",
       "version_major": 2,
       "version_minor": 0
      },
      "text/plain": [
       "  0%|          | 0/1 [00:00<?, ?it/s]"
      ]
     },
     "metadata": {},
     "output_type": "display_data"
    },
    {
     "name": "stdout",
     "output_type": "stream",
     "text": [
      "frontoThalamic LPI rh\n"
     ]
    },
    {
     "name": "stderr",
     "output_type": "stream",
     "text": [
      "/home/sohmee/.local/share/virtualenvs/white_matter_tract-main-P1zb5N1J/lib/python3.10/site-packages/nimare/stats.py:108: RuntimeWarning: invalid value encountered in true_divide\n",
      "  rs = temp / (datass[1:] * datass[0])\n"
     ]
    },
    {
     "data": {
      "application/vnd.jupyter.widget-view+json": {
       "model_id": "de716f442b064b9188eb5838b8a849d1",
       "version_major": 2,
       "version_minor": 0
      },
      "text/plain": [
       "  0%|          | 0/1 [00:00<?, ?it/s]"
      ]
     },
     "metadata": {},
     "output_type": "display_data"
    },
    {
     "name": "stdout",
     "output_type": "stream",
     "text": [
      "frontoThalamic RAS lh\n"
     ]
    },
    {
     "data": {
      "application/vnd.jupyter.widget-view+json": {
       "model_id": "5d97c8fc53c04148bbe8fa87e92aaf03",
       "version_major": 2,
       "version_minor": 0
      },
      "text/plain": [
       "  0%|          | 0/1 [00:00<?, ?it/s]"
      ]
     },
     "metadata": {},
     "output_type": "display_data"
    },
    {
     "name": "stdout",
     "output_type": "stream",
     "text": [
      "frontoThalamic RAS rh\n"
     ]
    },
    {
     "data": {
      "application/vnd.jupyter.widget-view+json": {
       "model_id": "ac8b71bbd2884561870834ffc1fe17d7",
       "version_major": 2,
       "version_minor": 0
      },
      "text/plain": [
       "  0%|          | 0/1 [00:00<?, ?it/s]"
      ]
     },
     "metadata": {},
     "output_type": "display_data"
    },
    {
     "name": "stdout",
     "output_type": "stream",
     "text": [
      "meyer LPI lh\n"
     ]
    },
    {
     "data": {
      "application/vnd.jupyter.widget-view+json": {
       "model_id": "3f515caca2b04ce78905994c8f333ed5",
       "version_major": 2,
       "version_minor": 0
      },
      "text/plain": [
       "  0%|          | 0/1 [00:00<?, ?it/s]"
      ]
     },
     "metadata": {},
     "output_type": "display_data"
    },
    {
     "name": "stdout",
     "output_type": "stream",
     "text": [
      "meyer LPI rh\n"
     ]
    },
    {
     "data": {
      "application/vnd.jupyter.widget-view+json": {
       "model_id": "d0388f776bc341558216221ad6675a8e",
       "version_major": 2,
       "version_minor": 0
      },
      "text/plain": [
       "  0%|          | 0/1 [00:00<?, ?it/s]"
      ]
     },
     "metadata": {},
     "output_type": "display_data"
    },
    {
     "name": "stdout",
     "output_type": "stream",
     "text": [
      "meyer RAS lh\n"
     ]
    },
    {
     "name": "stderr",
     "output_type": "stream",
     "text": [
      "/home/sohmee/.local/share/virtualenvs/white_matter_tract-main-P1zb5N1J/lib/python3.10/site-packages/nimare/stats.py:108: RuntimeWarning: invalid value encountered in true_divide\n",
      "  rs = temp / (datass[1:] * datass[0])\n"
     ]
    },
    {
     "data": {
      "application/vnd.jupyter.widget-view+json": {
       "model_id": "5f2bebe79a3d4a0792e59749b14af8b4",
       "version_major": 2,
       "version_minor": 0
      },
      "text/plain": [
       "  0%|          | 0/1 [00:00<?, ?it/s]"
      ]
     },
     "metadata": {},
     "output_type": "display_data"
    },
    {
     "name": "stdout",
     "output_type": "stream",
     "text": [
      "meyer RAS rh\n"
     ]
    },
    {
     "data": {
      "application/vnd.jupyter.widget-view+json": {
       "model_id": "43c9077021dc4cd694a375e0cfa213e8",
       "version_major": 2,
       "version_minor": 0
      },
      "text/plain": [
       "  0%|          | 0/1 [00:00<?, ?it/s]"
      ]
     },
     "metadata": {},
     "output_type": "display_data"
    },
    {
     "name": "stdout",
     "output_type": "stream",
     "text": [
      "motorThalamic LPI lh\n"
     ]
    },
    {
     "name": "stderr",
     "output_type": "stream",
     "text": [
      "/home/sohmee/.local/share/virtualenvs/white_matter_tract-main-P1zb5N1J/lib/python3.10/site-packages/nimare/stats.py:108: RuntimeWarning: invalid value encountered in true_divide\n",
      "  rs = temp / (datass[1:] * datass[0])\n"
     ]
    },
    {
     "data": {
      "application/vnd.jupyter.widget-view+json": {
       "model_id": "0879546760e94a4e84d2fb650e215d10",
       "version_major": 2,
       "version_minor": 0
      },
      "text/plain": [
       "  0%|          | 0/1 [00:00<?, ?it/s]"
      ]
     },
     "metadata": {},
     "output_type": "display_data"
    },
    {
     "name": "stdout",
     "output_type": "stream",
     "text": [
      "motorThalamic LPI rh\n"
     ]
    },
    {
     "name": "stderr",
     "output_type": "stream",
     "text": [
      "/home/sohmee/.local/share/virtualenvs/white_matter_tract-main-P1zb5N1J/lib/python3.10/site-packages/nimare/stats.py:108: RuntimeWarning: invalid value encountered in true_divide\n",
      "  rs = temp / (datass[1:] * datass[0])\n"
     ]
    },
    {
     "data": {
      "application/vnd.jupyter.widget-view+json": {
       "model_id": "ed0967bbfb6b4b1a9b5c8a46a52c75d9",
       "version_major": 2,
       "version_minor": 0
      },
      "text/plain": [
       "  0%|          | 0/1 [00:00<?, ?it/s]"
      ]
     },
     "metadata": {},
     "output_type": "display_data"
    },
    {
     "name": "stdout",
     "output_type": "stream",
     "text": [
      "motorThalamic RAS lh\n"
     ]
    },
    {
     "data": {
      "application/vnd.jupyter.widget-view+json": {
       "model_id": "0c03ed089a5b43cd8dbec48364fac4aa",
       "version_major": 2,
       "version_minor": 0
      },
      "text/plain": [
       "  0%|          | 0/1 [00:00<?, ?it/s]"
      ]
     },
     "metadata": {},
     "output_type": "display_data"
    },
    {
     "name": "stdout",
     "output_type": "stream",
     "text": [
      "motorThalamic RAS rh\n"
     ]
    },
    {
     "data": {
      "application/vnd.jupyter.widget-view+json": {
       "model_id": "11d2163422f84e88b65a0d3615adcdaa",
       "version_major": 2,
       "version_minor": 0
      },
      "text/plain": [
       "  0%|          | 0/1 [00:00<?, ?it/s]"
      ]
     },
     "metadata": {},
     "output_type": "display_data"
    },
    {
     "name": "stdout",
     "output_type": "stream",
     "text": [
      "pArc LPI lh\n"
     ]
    },
    {
     "data": {
      "application/vnd.jupyter.widget-view+json": {
       "model_id": "6d9cc887e9e6458eb03584412b004c30",
       "version_major": 2,
       "version_minor": 0
      },
      "text/plain": [
       "  0%|          | 0/1 [00:00<?, ?it/s]"
      ]
     },
     "metadata": {},
     "output_type": "display_data"
    },
    {
     "name": "stdout",
     "output_type": "stream",
     "text": [
      "pArc LPI rh\n"
     ]
    },
    {
     "data": {
      "application/vnd.jupyter.widget-view+json": {
       "model_id": "db28776b750142e89ea0c3e6d7a29ad7",
       "version_major": 2,
       "version_minor": 0
      },
      "text/plain": [
       "  0%|          | 0/1 [00:00<?, ?it/s]"
      ]
     },
     "metadata": {},
     "output_type": "display_data"
    },
    {
     "name": "stdout",
     "output_type": "stream",
     "text": [
      "pArc RAS lh\n"
     ]
    },
    {
     "data": {
      "application/vnd.jupyter.widget-view+json": {
       "model_id": "d120bbaaf68d47c18876c01567446458",
       "version_major": 2,
       "version_minor": 0
      },
      "text/plain": [
       "  0%|          | 0/1 [00:00<?, ?it/s]"
      ]
     },
     "metadata": {},
     "output_type": "display_data"
    },
    {
     "name": "stdout",
     "output_type": "stream",
     "text": [
      "pArc RAS rh\n"
     ]
    },
    {
     "data": {
      "application/vnd.jupyter.widget-view+json": {
       "model_id": "81ec5e9d22c64118b22ed480297c5196",
       "version_major": 2,
       "version_minor": 0
      },
      "text/plain": [
       "  0%|          | 0/1 [00:00<?, ?it/s]"
      ]
     },
     "metadata": {},
     "output_type": "display_data"
    },
    {
     "name": "stdout",
     "output_type": "stream",
     "text": [
      "parietoThalamic LPI lh\n"
     ]
    },
    {
     "data": {
      "application/vnd.jupyter.widget-view+json": {
       "model_id": "422a9ea24ec04620a2399202d5dfaf5e",
       "version_major": 2,
       "version_minor": 0
      },
      "text/plain": [
       "  0%|          | 0/1 [00:00<?, ?it/s]"
      ]
     },
     "metadata": {},
     "output_type": "display_data"
    },
    {
     "name": "stdout",
     "output_type": "stream",
     "text": [
      "parietoThalamic LPI rh\n"
     ]
    },
    {
     "data": {
      "application/vnd.jupyter.widget-view+json": {
       "model_id": "cc52439270d74242accf7e051c81256b",
       "version_major": 2,
       "version_minor": 0
      },
      "text/plain": [
       "  0%|          | 0/1 [00:00<?, ?it/s]"
      ]
     },
     "metadata": {},
     "output_type": "display_data"
    },
    {
     "name": "stdout",
     "output_type": "stream",
     "text": [
      "parietoThalamic RAS lh\n"
     ]
    },
    {
     "data": {
      "application/vnd.jupyter.widget-view+json": {
       "model_id": "9f51f5a7b84d41bc960cbdd2adfcd60e",
       "version_major": 2,
       "version_minor": 0
      },
      "text/plain": [
       "  0%|          | 0/1 [00:00<?, ?it/s]"
      ]
     },
     "metadata": {},
     "output_type": "display_data"
    },
    {
     "name": "stdout",
     "output_type": "stream",
     "text": [
      "parietoThalamic RAS rh\n"
     ]
    },
    {
     "data": {
      "application/vnd.jupyter.widget-view+json": {
       "model_id": "161887fde82c4b738d405d7bad35c574",
       "version_major": 2,
       "version_minor": 0
      },
      "text/plain": [
       "  0%|          | 0/1 [00:00<?, ?it/s]"
      ]
     },
     "metadata": {},
     "output_type": "display_data"
    },
    {
     "name": "stdout",
     "output_type": "stream",
     "text": [
      "spinoThalamic LPI lh\n"
     ]
    },
    {
     "data": {
      "application/vnd.jupyter.widget-view+json": {
       "model_id": "893c93f342424b42aa42906a08d6d96a",
       "version_major": 2,
       "version_minor": 0
      },
      "text/plain": [
       "  0%|          | 0/1 [00:00<?, ?it/s]"
      ]
     },
     "metadata": {},
     "output_type": "display_data"
    },
    {
     "name": "stdout",
     "output_type": "stream",
     "text": [
      "spinoThalamic LPI rh\n"
     ]
    },
    {
     "name": "stderr",
     "output_type": "stream",
     "text": [
      "/home/sohmee/.local/share/virtualenvs/white_matter_tract-main-P1zb5N1J/lib/python3.10/site-packages/nimare/stats.py:108: RuntimeWarning: invalid value encountered in true_divide\n",
      "  rs = temp / (datass[1:] * datass[0])\n"
     ]
    },
    {
     "data": {
      "application/vnd.jupyter.widget-view+json": {
       "model_id": "ed6040f6428d45d199bfd75bcb886063",
       "version_major": 2,
       "version_minor": 0
      },
      "text/plain": [
       "  0%|          | 0/1 [00:00<?, ?it/s]"
      ]
     },
     "metadata": {},
     "output_type": "display_data"
    },
    {
     "name": "stdout",
     "output_type": "stream",
     "text": [
      "spinoThalamic RAS lh\n"
     ]
    },
    {
     "data": {
      "application/vnd.jupyter.widget-view+json": {
       "model_id": "d33435aee32140368807dbca87e5af86",
       "version_major": 2,
       "version_minor": 0
      },
      "text/plain": [
       "  0%|          | 0/1 [00:00<?, ?it/s]"
      ]
     },
     "metadata": {},
     "output_type": "display_data"
    },
    {
     "name": "stdout",
     "output_type": "stream",
     "text": [
      "spinoThalamic RAS rh\n"
     ]
    },
    {
     "name": "stderr",
     "output_type": "stream",
     "text": [
      "/home/sohmee/.local/share/virtualenvs/white_matter_tract-main-P1zb5N1J/lib/python3.10/site-packages/nimare/stats.py:108: RuntimeWarning: invalid value encountered in true_divide\n",
      "  rs = temp / (datass[1:] * datass[0])\n"
     ]
    },
    {
     "data": {
      "application/vnd.jupyter.widget-view+json": {
       "model_id": "697528d6cc0b463fa2bea31443af5d43",
       "version_major": 2,
       "version_minor": 0
      },
      "text/plain": [
       "  0%|          | 0/1 [00:00<?, ?it/s]"
      ]
     },
     "metadata": {},
     "output_type": "display_data"
    },
    {
     "name": "stdout",
     "output_type": "stream",
     "text": [
      "temporoThalamic LPI lh\n"
     ]
    },
    {
     "data": {
      "application/vnd.jupyter.widget-view+json": {
       "model_id": "b8a9f72de0f14d1a97f29ff559363411",
       "version_major": 2,
       "version_minor": 0
      },
      "text/plain": [
       "  0%|          | 0/1 [00:00<?, ?it/s]"
      ]
     },
     "metadata": {},
     "output_type": "display_data"
    },
    {
     "name": "stdout",
     "output_type": "stream",
     "text": [
      "temporoThalamic LPI rh\n"
     ]
    },
    {
     "data": {
      "application/vnd.jupyter.widget-view+json": {
       "model_id": "a953c2c4fb034fbb9edfd1c722ae8bf0",
       "version_major": 2,
       "version_minor": 0
      },
      "text/plain": [
       "  0%|          | 0/1 [00:00<?, ?it/s]"
      ]
     },
     "metadata": {},
     "output_type": "display_data"
    },
    {
     "name": "stdout",
     "output_type": "stream",
     "text": [
      "temporoThalamic RAS lh\n"
     ]
    },
    {
     "data": {
      "application/vnd.jupyter.widget-view+json": {
       "model_id": "057bb54fb5424dcd813e981c784f4ae8",
       "version_major": 2,
       "version_minor": 0
      },
      "text/plain": [
       "  0%|          | 0/1 [00:00<?, ?it/s]"
      ]
     },
     "metadata": {},
     "output_type": "display_data"
    },
    {
     "name": "stdout",
     "output_type": "stream",
     "text": [
      "temporoThalamic RAS rh\n"
     ]
    },
    {
     "data": {
      "application/vnd.jupyter.widget-view+json": {
       "model_id": "9b9ad7bc974043c1855198795f6969b6",
       "version_major": 2,
       "version_minor": 0
      },
      "text/plain": [
       "  0%|          | 0/1 [00:00<?, ?it/s]"
      ]
     },
     "metadata": {},
     "output_type": "display_data"
    }
   ],
   "source": [
    "'''IF only wanting to test a few tracts\n",
    "tracts = all\n",
    "endpts = [\"LPI\", \"RAS\"]\n",
    "'''\n",
    "map_corr_df = pd.DataFrame(columns=['ROI', 'topic', 'r']) # 200 topics*ROIs data table in long form. 61 ROIs or 33 ROIs.\n",
    "\n",
    "# constants for separation method of bi tracts used inside for loop\n",
    "SPLIT_ROI = \"roi\"\n",
    "SPLIT_HEM = \"hem\"\n",
    "SPLIT_BOTH = \"both\"\n",
    "\n",
    "hemispheres_to_analyze = [\"lh\", \"rh\"] # modify this to just look at lh vs. rh or keep both \n",
    "endpts_to_analyze = [\"LPI\", \"RAS\"] # modify this to just look at ras vs. lpi or keep both\n",
    "\n",
    "# to keep track of lh-LPI, rh-RAS for mono tracks to not have duplicate iterations\n",
    "completed_dict = {\"lhLPI\": False, \"rhRAS\": False, \"lhRAS\": True, \"rhLPI\": True} # true = do not run \n",
    "prevTract = \"\"\n",
    "\n",
    "for index, (tract, endpt, hem) in enumerate(itertools.product(tracts, endpts_to_analyze, hemispheres_to_analyze)):\n",
    "    # Read map\n",
    "    if MONO_OR_BI_DICT.get(tract): # if mono tract\n",
    "        if prevTract != tract: # if new track iteration, reset values\n",
    "            completed_dict[\"lhLPI\"] = False\n",
    "            completed_dict[\"rhRAS\"] = False\n",
    "        if completed_dict[hem+endpt]: # check if need to run iteration\n",
    "            continue\n",
    "        else:\n",
    "            map_arr_lh, map_arr_rh = load_mono_maps(endpt_dir, tract, hem)\n",
    "            completed_dict[hem+endpt] = True\n",
    "        prevTract = tract\n",
    "    else: # if bi tract\n",
    "        print(tract, endpt, hem)\n",
    "        map_arr_lh, map_arr_rh = load_bi_maps(endpt_dir, tract, SPLIT_BOTH, endpt, hem) # CHANGE SPLIT METHOD HERE\n",
    "\n",
    "    # Remove medial wall\n",
    "    map_arr = _rm_medial_wall(\n",
    "        map_arr_lh,\n",
    "        map_arr_rh,\n",
    "        space=SPACE,\n",
    "        density=DENSITY,\n",
    "        neuromaps_dir=neuromaps_dir,\n",
    "    )\n",
    "\n",
    "    # Decode map and calculate correlation of activation map and white matter termination map\n",
    "    temp_corrs_df = decode.transform([map_arr], method=\"correlation\") # vertex-wise Pearson's r\n",
    "\n",
    "    # transform and concat df \n",
    "    temp_corrs_df.columns = [\"r\"]\n",
    "    sorted_df = temp_corrs_df.sort_values(by='r', ascending=False)\n",
    "    map_corr_df = pd.concat([map_corr_df, \n",
    "                             pd.DataFrame({'ROI': f\"{hem}_{tract}_{endpt}\", \n",
    "                                           'topic': sorted_df.index, \n",
    "                                           'r': sorted_df['r']})], \n",
    "                                           ignore_index=True)"
   ]
  },
  {
   "cell_type": "markdown",
   "metadata": {},
   "source": [
    "### Clustering: Run decoder on each endpoint ROI combined"
   ]
  },
  {
   "cell_type": "code",
   "execution_count": 6,
   "metadata": {},
   "outputs": [
    {
     "data": {
      "application/vnd.jupyter.widget-view+json": {
       "model_id": "c3f8debcccaf4f4096505726bc43c09b",
       "version_major": 2,
       "version_minor": 0
      },
      "text/plain": [
       "  0%|          | 0/1 [00:00<?, ?it/s]"
      ]
     },
     "metadata": {},
     "output_type": "display_data"
    },
    {
     "name": "stderr",
     "output_type": "stream",
     "text": [
      "/tmp/ipykernel_938234/2637912993.py:26: FutureWarning: The behavior of DataFrame concatenation with empty or all-NA entries is deprecated. In a future version, this will no longer exclude empty or all-NA columns when determining the result dtypes. To retain the old behavior, exclude the relevant entries before the concat operation.\n",
      "  map_corr_df = pd.concat([map_corr_df,\n"
     ]
    },
    {
     "data": {
      "application/vnd.jupyter.widget-view+json": {
       "model_id": "eeffa2c5a6d045e2987d75aa6634f46c",
       "version_major": 2,
       "version_minor": 0
      },
      "text/plain": [
       "  0%|          | 0/1 [00:00<?, ?it/s]"
      ]
     },
     "metadata": {},
     "output_type": "display_data"
    },
    {
     "data": {
      "application/vnd.jupyter.widget-view+json": {
       "model_id": "d98cc0629b9e4f0abb98fef9c0fb2146",
       "version_major": 2,
       "version_minor": 0
      },
      "text/plain": [
       "  0%|          | 0/1 [00:00<?, ?it/s]"
      ]
     },
     "metadata": {},
     "output_type": "display_data"
    },
    {
     "data": {
      "application/vnd.jupyter.widget-view+json": {
       "model_id": "fedf523faa4342a5a92a3b42518099ef",
       "version_major": 2,
       "version_minor": 0
      },
      "text/plain": [
       "  0%|          | 0/1 [00:00<?, ?it/s]"
      ]
     },
     "metadata": {},
     "output_type": "display_data"
    },
    {
     "data": {
      "application/vnd.jupyter.widget-view+json": {
       "model_id": "84e11b17037f47c4a4919037d34fd0a9",
       "version_major": 2,
       "version_minor": 0
      },
      "text/plain": [
       "  0%|          | 0/1 [00:00<?, ?it/s]"
      ]
     },
     "metadata": {},
     "output_type": "display_data"
    },
    {
     "data": {
      "application/vnd.jupyter.widget-view+json": {
       "model_id": "efa8495d1c9441f79412db9765ace7db",
       "version_major": 2,
       "version_minor": 0
      },
      "text/plain": [
       "  0%|          | 0/1 [00:00<?, ?it/s]"
      ]
     },
     "metadata": {},
     "output_type": "display_data"
    },
    {
     "data": {
      "application/vnd.jupyter.widget-view+json": {
       "model_id": "558375629b5a42afacbe392796e6205c",
       "version_major": 2,
       "version_minor": 0
      },
      "text/plain": [
       "  0%|          | 0/1 [00:00<?, ?it/s]"
      ]
     },
     "metadata": {},
     "output_type": "display_data"
    },
    {
     "data": {
      "application/vnd.jupyter.widget-view+json": {
       "model_id": "1ed5b0f071b04f1aa0554fd10f0361e0",
       "version_major": 2,
       "version_minor": 0
      },
      "text/plain": [
       "  0%|          | 0/1 [00:00<?, ?it/s]"
      ]
     },
     "metadata": {},
     "output_type": "display_data"
    },
    {
     "data": {
      "application/vnd.jupyter.widget-view+json": {
       "model_id": "e2a477f038454663affe9e7be6cbbd94",
       "version_major": 2,
       "version_minor": 0
      },
      "text/plain": [
       "  0%|          | 0/1 [00:00<?, ?it/s]"
      ]
     },
     "metadata": {},
     "output_type": "display_data"
    },
    {
     "data": {
      "application/vnd.jupyter.widget-view+json": {
       "model_id": "2caa5628c71f473aa636a7e32aff3f1d",
       "version_major": 2,
       "version_minor": 0
      },
      "text/plain": [
       "  0%|          | 0/1 [00:00<?, ?it/s]"
      ]
     },
     "metadata": {},
     "output_type": "display_data"
    },
    {
     "data": {
      "application/vnd.jupyter.widget-view+json": {
       "model_id": "d7c06e368c2d44a7a007d67691e526db",
       "version_major": 2,
       "version_minor": 0
      },
      "text/plain": [
       "  0%|          | 0/1 [00:00<?, ?it/s]"
      ]
     },
     "metadata": {},
     "output_type": "display_data"
    },
    {
     "data": {
      "application/vnd.jupyter.widget-view+json": {
       "model_id": "5a4e65168f924031b94826916db1d51e",
       "version_major": 2,
       "version_minor": 0
      },
      "text/plain": [
       "  0%|          | 0/1 [00:00<?, ?it/s]"
      ]
     },
     "metadata": {},
     "output_type": "display_data"
    },
    {
     "data": {
      "application/vnd.jupyter.widget-view+json": {
       "model_id": "e13925b4b5fd47bdb2436431c5edde8d",
       "version_major": 2,
       "version_minor": 0
      },
      "text/plain": [
       "  0%|          | 0/1 [00:00<?, ?it/s]"
      ]
     },
     "metadata": {},
     "output_type": "display_data"
    },
    {
     "data": {
      "application/vnd.jupyter.widget-view+json": {
       "model_id": "71f75fa077ec4f519f5aedeac7dfc22d",
       "version_major": 2,
       "version_minor": 0
      },
      "text/plain": [
       "  0%|          | 0/1 [00:00<?, ?it/s]"
      ]
     },
     "metadata": {},
     "output_type": "display_data"
    },
    {
     "data": {
      "application/vnd.jupyter.widget-view+json": {
       "model_id": "a9bbc1726ecc42c19f35118803be150a",
       "version_major": 2,
       "version_minor": 0
      },
      "text/plain": [
       "  0%|          | 0/1 [00:00<?, ?it/s]"
      ]
     },
     "metadata": {},
     "output_type": "display_data"
    },
    {
     "data": {
      "application/vnd.jupyter.widget-view+json": {
       "model_id": "62dc3b1d1748409e935613886ff221b4",
       "version_major": 2,
       "version_minor": 0
      },
      "text/plain": [
       "  0%|          | 0/1 [00:00<?, ?it/s]"
      ]
     },
     "metadata": {},
     "output_type": "display_data"
    },
    {
     "data": {
      "application/vnd.jupyter.widget-view+json": {
       "model_id": "b7d4e5194f884890a43a6425e703a08d",
       "version_major": 2,
       "version_minor": 0
      },
      "text/plain": [
       "  0%|          | 0/1 [00:00<?, ?it/s]"
      ]
     },
     "metadata": {},
     "output_type": "display_data"
    },
    {
     "data": {
      "application/vnd.jupyter.widget-view+json": {
       "model_id": "3f9511f3223a493c80933d9a83d30178",
       "version_major": 2,
       "version_minor": 0
      },
      "text/plain": [
       "  0%|          | 0/1 [00:00<?, ?it/s]"
      ]
     },
     "metadata": {},
     "output_type": "display_data"
    },
    {
     "data": {
      "application/vnd.jupyter.widget-view+json": {
       "model_id": "cdc7de37d88a47d9bc036f7b7eba481b",
       "version_major": 2,
       "version_minor": 0
      },
      "text/plain": [
       "  0%|          | 0/1 [00:00<?, ?it/s]"
      ]
     },
     "metadata": {},
     "output_type": "display_data"
    },
    {
     "data": {
      "application/vnd.jupyter.widget-view+json": {
       "model_id": "2ad418088dbd492b8efa6df1c479c7df",
       "version_major": 2,
       "version_minor": 0
      },
      "text/plain": [
       "  0%|          | 0/1 [00:00<?, ?it/s]"
      ]
     },
     "metadata": {},
     "output_type": "display_data"
    },
    {
     "data": {
      "application/vnd.jupyter.widget-view+json": {
       "model_id": "484b49b8d9ee4ec6a260d2ef55c1fc9e",
       "version_major": 2,
       "version_minor": 0
      },
      "text/plain": [
       "  0%|          | 0/1 [00:00<?, ?it/s]"
      ]
     },
     "metadata": {},
     "output_type": "display_data"
    },
    {
     "name": "stderr",
     "output_type": "stream",
     "text": [
      "/home/sohmee/.local/share/virtualenvs/white_matter_tract-main-P1zb5N1J/lib/python3.10/site-packages/nimare/stats.py:108: RuntimeWarning: invalid value encountered in true_divide\n",
      "  rs = temp / (datass[1:] * datass[0])\n"
     ]
    },
    {
     "data": {
      "application/vnd.jupyter.widget-view+json": {
       "model_id": "58252b963a85486c8e3bfb7663abfb24",
       "version_major": 2,
       "version_minor": 0
      },
      "text/plain": [
       "  0%|          | 0/1 [00:00<?, ?it/s]"
      ]
     },
     "metadata": {},
     "output_type": "display_data"
    },
    {
     "data": {
      "application/vnd.jupyter.widget-view+json": {
       "model_id": "563b0fb856a549daa3ede6ad7cb7b8e0",
       "version_major": 2,
       "version_minor": 0
      },
      "text/plain": [
       "  0%|          | 0/1 [00:00<?, ?it/s]"
      ]
     },
     "metadata": {},
     "output_type": "display_data"
    },
    {
     "data": {
      "application/vnd.jupyter.widget-view+json": {
       "model_id": "aaabdf5257d24827ab10b328fb691887",
       "version_major": 2,
       "version_minor": 0
      },
      "text/plain": [
       "  0%|          | 0/1 [00:00<?, ?it/s]"
      ]
     },
     "metadata": {},
     "output_type": "display_data"
    },
    {
     "data": {
      "application/vnd.jupyter.widget-view+json": {
       "model_id": "39161e7b7fda4b5987bddd82afc65c03",
       "version_major": 2,
       "version_minor": 0
      },
      "text/plain": [
       "  0%|          | 0/1 [00:00<?, ?it/s]"
      ]
     },
     "metadata": {},
     "output_type": "display_data"
    },
    {
     "data": {
      "application/vnd.jupyter.widget-view+json": {
       "model_id": "65b33f81838b4cf68a05979c28b8ea36",
       "version_major": 2,
       "version_minor": 0
      },
      "text/plain": [
       "  0%|          | 0/1 [00:00<?, ?it/s]"
      ]
     },
     "metadata": {},
     "output_type": "display_data"
    },
    {
     "data": {
      "application/vnd.jupyter.widget-view+json": {
       "model_id": "d4bc89844a5d426d9cbec409885ea76b",
       "version_major": 2,
       "version_minor": 0
      },
      "text/plain": [
       "  0%|          | 0/1 [00:00<?, ?it/s]"
      ]
     },
     "metadata": {},
     "output_type": "display_data"
    },
    {
     "data": {
      "application/vnd.jupyter.widget-view+json": {
       "model_id": "4170e1eba8f24b27a1701456981ac024",
       "version_major": 2,
       "version_minor": 0
      },
      "text/plain": [
       "  0%|          | 0/1 [00:00<?, ?it/s]"
      ]
     },
     "metadata": {},
     "output_type": "display_data"
    },
    {
     "data": {
      "application/vnd.jupyter.widget-view+json": {
       "model_id": "7832b39296ac473599a94c0503f21c9f",
       "version_major": 2,
       "version_minor": 0
      },
      "text/plain": [
       "  0%|          | 0/1 [00:00<?, ?it/s]"
      ]
     },
     "metadata": {},
     "output_type": "display_data"
    },
    {
     "data": {
      "application/vnd.jupyter.widget-view+json": {
       "model_id": "caf0f19e6a2f4a668879677782880d99",
       "version_major": 2,
       "version_minor": 0
      },
      "text/plain": [
       "  0%|          | 0/1 [00:00<?, ?it/s]"
      ]
     },
     "metadata": {},
     "output_type": "display_data"
    },
    {
     "data": {
      "application/vnd.jupyter.widget-view+json": {
       "model_id": "c65660ee1fa64166a8d2d34f76cff690",
       "version_major": 2,
       "version_minor": 0
      },
      "text/plain": [
       "  0%|          | 0/1 [00:00<?, ?it/s]"
      ]
     },
     "metadata": {},
     "output_type": "display_data"
    },
    {
     "data": {
      "application/vnd.jupyter.widget-view+json": {
       "model_id": "77bf144efb714addbbdb897893150811",
       "version_major": 2,
       "version_minor": 0
      },
      "text/plain": [
       "  0%|          | 0/1 [00:00<?, ?it/s]"
      ]
     },
     "metadata": {},
     "output_type": "display_data"
    },
    {
     "data": {
      "application/vnd.jupyter.widget-view+json": {
       "model_id": "258e63b0040143d3ad0cbbd81d7a4e31",
       "version_major": 2,
       "version_minor": 0
      },
      "text/plain": [
       "  0%|          | 0/1 [00:00<?, ?it/s]"
      ]
     },
     "metadata": {},
     "output_type": "display_data"
    }
   ],
   "source": [
    "'''IF only wanting to test a few tracts\n",
    "tracts = all\n",
    "endpts = [\"LPI\", \"RAS\"]\n",
    "'''\n",
    "map_corr_df = pd.DataFrame(columns=['ROI', 'topic', 'r']) # 200 topics*ROIs data table in long form. can be 61 or 33 ROIs\n",
    "\n",
    "for tract in tracts:\n",
    "    # Read map\n",
    "    map_arr_lh, map_arr_rh = load_combined_maps(endpt_dir, tract, MONO_OR_BI_DICT.get(tract))\n",
    "\n",
    "    # Remove medial wall\n",
    "    map_arr = _rm_medial_wall(\n",
    "        map_arr_lh,\n",
    "        map_arr_rh,\n",
    "        space=SPACE,\n",
    "        density=DENSITY,\n",
    "        neuromaps_dir=neuromaps_dir,\n",
    "    )\n",
    "\n",
    "    # Decode map and calculate correlation of activation map and white matter termination map\n",
    "    temp_corrs_df = decode.transform([map_arr], method=\"correlation\") # vertex-wise Pearson's r\n",
    "\n",
    "    # transform and concat df \n",
    "    temp_corrs_df.columns = [\"r\"]\n",
    "    sorted_df = temp_corrs_df.sort_values(by='r', ascending=False)\n",
    "    map_corr_df = pd.concat([map_corr_df, \n",
    "                             pd.DataFrame({'ROI': f\"{tract}_LPI+RAS\", \n",
    "                                           'topic': sorted_df.index, \n",
    "                                           'r': sorted_df['r']})], \n",
    "                                           ignore_index=True)"
   ]
  },
  {
   "cell_type": "markdown",
   "metadata": {},
   "source": [
    "### Clustering: Hierarchical cluster analysis"
   ]
  },
  {
   "cell_type": "code",
   "execution_count": 20,
   "metadata": {},
   "outputs": [],
   "source": [
    "from scipy.cluster.hierarchy import linkage, dendrogram, fcluster\n",
    "import matplotlib.pyplot as plt\n",
    "from matplotlib.pyplot import cm"
   ]
  },
  {
   "cell_type": "code",
   "execution_count": 21,
   "metadata": {},
   "outputs": [
    {
     "name": "stderr",
     "output_type": "stream",
     "text": [
      "/tmp/ipykernel_938234/50985014.py:9: ClusterWarning: scipy.cluster: The symmetric non-negative hollow observation matrix looks suspiciously like an uncondensed distance matrix\n",
      "  hca = linkage((dissimilarity), 'centroid')\n"
     ]
    },
    {
     "data": {
      "text/plain": [
       "{'icoord': [[5.0, 5.0, 15.0, 15.0],\n",
       "  [35.0, 35.0, 45.0, 45.0],\n",
       "  [25.0, 25.0, 40.0, 40.0],\n",
       "  [55.0, 55.0, 65.0, 65.0],\n",
       "  [32.5, 32.5, 60.0, 60.0],\n",
       "  [85.0, 85.0, 95.0, 95.0],\n",
       "  [75.0, 75.0, 90.0, 90.0],\n",
       "  [46.25, 46.25, 82.5, 82.5],\n",
       "  [10.0, 10.0, 64.375, 64.375],\n",
       "  [105.0, 105.0, 115.0, 115.0],\n",
       "  [125.0, 125.0, 135.0, 135.0],\n",
       "  [145.0, 145.0, 155.0, 155.0],\n",
       "  [165.0, 165.0, 175.0, 175.0],\n",
       "  [150.0, 150.0, 170.0, 170.0],\n",
       "  [195.0, 195.0, 205.0, 205.0],\n",
       "  [185.0, 185.0, 200.0, 200.0],\n",
       "  [160.0, 160.0, 192.5, 192.5],\n",
       "  [130.0, 130.0, 176.25, 176.25],\n",
       "  [235.0, 235.0, 245.0, 245.0],\n",
       "  [255.0, 255.0, 265.0, 265.0],\n",
       "  [275.0, 275.0, 285.0, 285.0],\n",
       "  [260.0, 260.0, 280.0, 280.0],\n",
       "  [295.0, 295.0, 305.0, 305.0],\n",
       "  [325.0, 325.0, 335.0, 335.0],\n",
       "  [345.0, 345.0, 355.0, 355.0],\n",
       "  [330.0, 330.0, 350.0, 350.0],\n",
       "  [315.0, 315.0, 340.0, 340.0],\n",
       "  [300.0, 300.0, 327.5, 327.5],\n",
       "  [270.0, 270.0, 313.75, 313.75],\n",
       "  [240.0, 240.0, 291.875, 291.875],\n",
       "  [225.0, 225.0, 265.9375, 265.9375],\n",
       "  [215.0, 215.0, 245.46875, 245.46875],\n",
       "  [153.125, 153.125, 230.234375, 230.234375],\n",
       "  [110.0, 110.0, 191.6796875, 191.6796875],\n",
       "  [37.1875, 37.1875, 150.83984375, 150.83984375],\n",
       "  [375.0, 375.0, 385.0, 385.0],\n",
       "  [365.0, 365.0, 380.0, 380.0],\n",
       "  [405.0, 405.0, 415.0, 415.0],\n",
       "  [395.0, 395.0, 410.0, 410.0],\n",
       "  [372.5, 372.5, 402.5, 402.5],\n",
       "  [425.0, 425.0, 435.0, 435.0],\n",
       "  [445.0, 445.0, 455.0, 455.0],\n",
       "  [475.0, 475.0, 485.0, 485.0],\n",
       "  [465.0, 465.0, 480.0, 480.0],\n",
       "  [505.0, 505.0, 515.0, 515.0],\n",
       "  [495.0, 495.0, 510.0, 510.0],\n",
       "  [472.5, 472.5, 502.5, 502.5],\n",
       "  [450.0, 450.0, 487.5, 487.5],\n",
       "  [525.0, 525.0, 535.0, 535.0],\n",
       "  [468.75, 468.75, 530.0, 530.0],\n",
       "  [430.0, 430.0, 499.375, 499.375],\n",
       "  [387.5, 387.5, 464.6875, 464.6875],\n",
       "  [94.013671875, 94.013671875, 426.09375, 426.09375],\n",
       "  [545.0, 545.0, 555.0, 555.0],\n",
       "  [585.0, 585.0, 595.0, 595.0],\n",
       "  [575.0, 575.0, 590.0, 590.0],\n",
       "  [565.0, 565.0, 582.5, 582.5],\n",
       "  [635.0, 635.0, 645.0, 645.0],\n",
       "  [625.0, 625.0, 640.0, 640.0],\n",
       "  [615.0, 615.0, 632.5, 632.5],\n",
       "  [665.0, 665.0, 675.0, 675.0],\n",
       "  [655.0, 655.0, 670.0, 670.0],\n",
       "  [695.0, 695.0, 705.0, 705.0],\n",
       "  [685.0, 685.0, 700.0, 700.0],\n",
       "  [662.5, 662.5, 692.5, 692.5],\n",
       "  [623.75, 623.75, 677.5, 677.5],\n",
       "  [605.0, 605.0, 650.625, 650.625],\n",
       "  [573.75, 573.75, 627.8125, 627.8125],\n",
       "  [715.0, 715.0, 725.0, 725.0],\n",
       "  [600.78125, 600.78125, 720.0, 720.0],\n",
       "  [550.0, 550.0, 660.390625, 660.390625],\n",
       "  [735.0, 735.0, 745.0, 745.0],\n",
       "  [755.0, 755.0, 765.0, 765.0],\n",
       "  [740.0, 740.0, 760.0, 760.0],\n",
       "  [785.0, 785.0, 795.0, 795.0],\n",
       "  [775.0, 775.0, 790.0, 790.0],\n",
       "  [750.0, 750.0, 782.5, 782.5],\n",
       "  [805.0, 805.0, 815.0, 815.0],\n",
       "  [825.0, 825.0, 835.0, 835.0],\n",
       "  [855.0, 855.0, 865.0, 865.0],\n",
       "  [885.0, 885.0, 895.0, 895.0],\n",
       "  [875.0, 875.0, 890.0, 890.0],\n",
       "  [860.0, 860.0, 882.5, 882.5],\n",
       "  [845.0, 845.0, 871.25, 871.25],\n",
       "  [830.0, 830.0, 858.125, 858.125],\n",
       "  [810.0, 810.0, 844.0625, 844.0625],\n",
       "  [766.25, 766.25, 827.03125, 827.03125],\n",
       "  [905.0, 905.0, 915.0, 915.0],\n",
       "  [955.0, 955.0, 965.0, 965.0],\n",
       "  [945.0, 945.0, 960.0, 960.0],\n",
       "  [995.0, 995.0, 1005.0, 1005.0],\n",
       "  [985.0, 985.0, 1000.0, 1000.0],\n",
       "  [975.0, 975.0, 992.5, 992.5],\n",
       "  [952.5, 952.5, 983.75, 983.75],\n",
       "  [935.0, 935.0, 968.125, 968.125],\n",
       "  [925.0, 925.0, 951.5625, 951.5625],\n",
       "  [1015.0, 1015.0, 1025.0, 1025.0],\n",
       "  [1045.0, 1045.0, 1055.0, 1055.0],\n",
       "  [1035.0, 1035.0, 1050.0, 1050.0],\n",
       "  [1020.0, 1020.0, 1042.5, 1042.5],\n",
       "  [938.28125, 938.28125, 1031.25, 1031.25],\n",
       "  [910.0, 910.0, 984.765625, 984.765625],\n",
       "  [796.640625, 796.640625, 947.3828125, 947.3828125],\n",
       "  [605.1953125, 605.1953125, 872.01171875, 872.01171875],\n",
       "  [260.0537109375, 260.0537109375, 738.603515625, 738.603515625]],\n",
       " 'dcoord': [[0.0, 0.36388423812676013, 0.36388423812676013, 0.0],\n",
       "  [0.0, 0.2708035484219611, 0.2708035484219611, 0.0],\n",
       "  [0.0, 1.307399689665617, 1.307399689665617, 0.2708035484219611],\n",
       "  [0.0, 1.4419382564225132, 1.4419382564225132, 0.0],\n",
       "  [1.307399689665617,\n",
       "   1.7113524873049335,\n",
       "   1.7113524873049335,\n",
       "   1.4419382564225132],\n",
       "  [0.0, 1.5939976099537565, 1.5939976099537565, 0.0],\n",
       "  [0.0, 2.1569783105207656, 2.1569783105207656, 1.5939976099537565],\n",
       "  [1.7113524873049335,\n",
       "   2.3398563116532336,\n",
       "   2.3398563116532336,\n",
       "   2.1569783105207656],\n",
       "  [0.36388423812676013,\n",
       "   2.851016778284339,\n",
       "   2.851016778284339,\n",
       "   2.3398563116532336],\n",
       "  [0.0, 0.9461928834293712, 0.9461928834293712, 0.0],\n",
       "  [0.0, 0.847382992793617, 0.847382992793617, 0.0],\n",
       "  [0.0, 0.12335452433657487, 0.12335452433657487, 0.0],\n",
       "  [0.0, 0.764277700234839, 0.764277700234839, 0.0],\n",
       "  [0.12335452433657487,\n",
       "   0.8015270586764328,\n",
       "   0.8015270586764328,\n",
       "   0.764277700234839],\n",
       "  [0.0, 0.7268410483395777, 0.7268410483395777, 0.0],\n",
       "  [0.0, 1.0875573649532186, 1.0875573649532186, 0.7268410483395777],\n",
       "  [0.8015270586764328,\n",
       "   1.099791808788912,\n",
       "   1.099791808788912,\n",
       "   1.0875573649532186],\n",
       "  [0.847382992793617,\n",
       "   1.5526089946154455,\n",
       "   1.5526089946154455,\n",
       "   1.099791808788912],\n",
       "  [0.0, 0.592000431111482, 0.592000431111482, 0.0],\n",
       "  [0.0, 0.0, 0.0, 0.0],\n",
       "  [0.0, 0.0, 0.0, 0.0],\n",
       "  [0.0, 0.3821678280512868, 0.3821678280512868, 0.0],\n",
       "  [0.0, 0.8956065590708808, 0.8956065590708808, 0.0],\n",
       "  [0.0, 0.0, 0.0, 0.0],\n",
       "  [0.0, 0.0, 0.0, 0.0],\n",
       "  [0.0, 0.29989801148726486, 0.29989801148726486, 0.0],\n",
       "  [0.0, 1.0553893302294672, 1.0553893302294672, 0.29989801148726486],\n",
       "  [0.8956065590708808,\n",
       "   1.0703826843060558,\n",
       "   1.0703826843060558,\n",
       "   1.0553893302294672],\n",
       "  [0.3821678280512868,\n",
       "   1.1334476206690802,\n",
       "   1.1334476206690802,\n",
       "   1.0703826843060558],\n",
       "  [0.592000431111482,\n",
       "   1.3700313204959638,\n",
       "   1.3700313204959638,\n",
       "   1.1334476206690802],\n",
       "  [0.0, 1.8418918328017062, 1.8418918328017062, 1.3700313204959638],\n",
       "  [0.0, 2.262574858157343, 2.262574858157343, 1.8418918328017062],\n",
       "  [1.5526089946154455,\n",
       "   2.9539570181168258,\n",
       "   2.9539570181168258,\n",
       "   2.262574858157343],\n",
       "  [0.9461928834293712,\n",
       "   3.0771857814812473,\n",
       "   3.0771857814812473,\n",
       "   2.9539570181168258],\n",
       "  [2.851016778284339,\n",
       "   3.259049120773617,\n",
       "   3.259049120773617,\n",
       "   3.0771857814812473],\n",
       "  [0.0, 0.7098558693551933, 0.7098558693551933, 0.0],\n",
       "  [0.0, 1.5067937237189892, 1.5067937237189892, 0.7098558693551933],\n",
       "  [0.0, 1.1531267443543793, 1.1531267443543793, 0.0],\n",
       "  [0.0, 1.7058046996106058, 1.7058046996106058, 1.1531267443543793],\n",
       "  [1.5067937237189892, 2.78917274960635, 2.78917274960635, 1.7058046996106058],\n",
       "  [0.0, 1.408610097663393, 1.408610097663393, 0.0],\n",
       "  [0.0, 2.028314763358929, 2.028314763358929, 0.0],\n",
       "  [0.0, 1.8490465696328233, 1.8490465696328233, 0.0],\n",
       "  [0.0, 1.7760202453518652, 1.7760202453518652, 1.8490465696328233],\n",
       "  [0.0, 0.4053478552812042, 0.4053478552812042, 0.0],\n",
       "  [0.0, 2.122392792824522, 2.122392792824522, 0.4053478552812042],\n",
       "  [1.7760202453518652,\n",
       "   2.5208757579375467,\n",
       "   2.5208757579375467,\n",
       "   2.122392792824522],\n",
       "  [2.028314763358929,\n",
       "   2.639359602915209,\n",
       "   2.639359602915209,\n",
       "   2.5208757579375467],\n",
       "  [0.0, 2.6679463251210085, 2.6679463251210085, 0.0],\n",
       "  [2.639359602915209,\n",
       "   2.766749721920215,\n",
       "   2.766749721920215,\n",
       "   2.6679463251210085],\n",
       "  [1.408610097663393,\n",
       "   2.9150832968258125,\n",
       "   2.9150832968258125,\n",
       "   2.766749721920215],\n",
       "  [2.78917274960635,\n",
       "   3.6533339545442756,\n",
       "   3.6533339545442756,\n",
       "   2.9150832968258125],\n",
       "  [3.259049120773617,\n",
       "   4.067345356313475,\n",
       "   4.067345356313475,\n",
       "   3.6533339545442756],\n",
       "  [0.0, 0.693400866051734, 0.693400866051734, 0.0],\n",
       "  [0.0, 0.0, 0.0, 0.0],\n",
       "  [0.0, 0.6378651281264869, 0.6378651281264869, 0.0],\n",
       "  [0.0, 0.6624361326076671, 0.6624361326076671, 0.6378651281264869],\n",
       "  [0.0, 0.07904095867310007, 0.07904095867310007, 0.0],\n",
       "  [0.0, 0.2772974148202563, 0.2772974148202563, 0.07904095867310007],\n",
       "  [0.0, 0.5054699812412842, 0.5054699812412842, 0.2772974148202563],\n",
       "  [0.0, 0.14028540957464947, 0.14028540957464947, 0.0],\n",
       "  [0.0, 0.33366483508807865, 0.33366483508807865, 0.14028540957464947],\n",
       "  [0.0, 0.0, 0.0, 0.0],\n",
       "  [0.0, 0.4343051577977053, 0.4343051577977053, 0.0],\n",
       "  [0.33366483508807865,\n",
       "   0.6359683896375861,\n",
       "   0.6359683896375861,\n",
       "   0.4343051577977053],\n",
       "  [0.5054699812412842,\n",
       "   0.8084341691035656,\n",
       "   0.8084341691035656,\n",
       "   0.6359683896375861],\n",
       "  [0.0, 0.9252888280863544, 0.9252888280863544, 0.8084341691035656],\n",
       "  [0.6624361326076671,\n",
       "   0.9572196602228124,\n",
       "   0.9572196602228124,\n",
       "   0.9252888280863544],\n",
       "  [0.0, 0.9934415102222481, 0.9934415102222481, 0.0],\n",
       "  [0.9572196602228124,\n",
       "   0.9071331604341978,\n",
       "   0.9071331604341978,\n",
       "   0.9934415102222481],\n",
       "  [0.693400866051734,\n",
       "   1.288653347338164,\n",
       "   1.288653347338164,\n",
       "   0.9071331604341978],\n",
       "  [0.0, 0.0, 0.0, 0.0],\n",
       "  [0.0, 0.0, 0.0, 0.0],\n",
       "  [0.0, 1.4506847148780067, 1.4506847148780067, 0.0],\n",
       "  [0.0, 0.675371248769043, 0.675371248769043, 0.0],\n",
       "  [0.0, 1.5435039522418814, 1.5435039522418814, 0.675371248769043],\n",
       "  [1.4506847148780067,\n",
       "   1.7162347536014793,\n",
       "   1.7162347536014793,\n",
       "   1.5435039522418814],\n",
       "  [0.0, 1.0617445745420935, 1.0617445745420935, 0.0],\n",
       "  [0.0, 1.013086247527387, 1.013086247527387, 0.0],\n",
       "  [0.0, 0.8667106357929658, 0.8667106357929658, 0.0],\n",
       "  [0.0, 0.5057930861932455, 0.5057930861932455, 0.0],\n",
       "  [0.0, 1.0695510884072081, 1.0695510884072081, 0.5057930861932455],\n",
       "  [0.8667106357929658,\n",
       "   1.2214240513643673,\n",
       "   1.2214240513643673,\n",
       "   1.0695510884072081],\n",
       "  [0.0, 1.5668257194741362, 1.5668257194741362, 1.2214240513643673],\n",
       "  [1.013086247527387,\n",
       "   1.7636775221791494,\n",
       "   1.7636775221791494,\n",
       "   1.5668257194741362],\n",
       "  [1.0617445745420935,\n",
       "   1.9507953777686338,\n",
       "   1.9507953777686338,\n",
       "   1.7636775221791494],\n",
       "  [1.7162347536014793,\n",
       "   2.655059942769577,\n",
       "   2.655059942769577,\n",
       "   1.9507953777686338],\n",
       "  [0.0, 1.9323579361726895, 1.9323579361726895, 0.0],\n",
       "  [0.0, 0.2033898331214101, 0.2033898331214101, 0.0],\n",
       "  [0.0, 0.3472144319928441, 0.3472144319928441, 0.2033898331214101],\n",
       "  [0.0, 0.07638456094700595, 0.07638456094700595, 0.0],\n",
       "  [0.0, 0.24688855821685624, 0.24688855821685624, 0.07638456094700595],\n",
       "  [0.0, 0.452406039948325, 0.452406039948325, 0.24688855821685624],\n",
       "  [0.3472144319928441,\n",
       "   0.6841000904713482,\n",
       "   0.6841000904713482,\n",
       "   0.452406039948325],\n",
       "  [0.0, 1.1101909333565985, 1.1101909333565985, 0.6841000904713482],\n",
       "  [0.0, 1.6529267805592578, 1.6529267805592578, 1.1101909333565985],\n",
       "  [0.0, 0.0, 0.0, 0.0],\n",
       "  [0.0, 0.0, 0.0, 0.0],\n",
       "  [0.0, 1.7650976836649517, 1.7650976836649517, 0.0],\n",
       "  [0.0, 1.9106388034574862, 1.9106388034574862, 1.7650976836649517],\n",
       "  [1.6529267805592578,\n",
       "   2.2930836193543844,\n",
       "   2.2930836193543844,\n",
       "   1.9106388034574862],\n",
       "  [1.9323579361726895,\n",
       "   2.7863030903884374,\n",
       "   2.7863030903884374,\n",
       "   2.2930836193543844],\n",
       "  [2.655059942769577,\n",
       "   3.351645172425753,\n",
       "   3.351645172425753,\n",
       "   2.7863030903884374],\n",
       "  [1.288653347338164, 5.105436289902097, 5.105436289902097, 3.351645172425753],\n",
       "  [4.067345356313475,\n",
       "   5.305754022931427,\n",
       "   5.305754022931427,\n",
       "   5.105436289902097]],\n",
       " 'ivl': ['lh_spinoThalamic_LPI',\n",
       "  'lh_spinoThalamic_RAS',\n",
       "  'rh_cingulum_RAS',\n",
       "  'rh_AnterioFrontoCerebellar_RAS',\n",
       "  'rh_ContraAnterioFrontoCerebellar_RAS',\n",
       "  'rh_Arc_RAS',\n",
       "  'rh_Aslant_RAS',\n",
       "  'rh_meyer_RAS',\n",
       "  'rh_Aslant_LPI',\n",
       "  'rh_SLF3_RAS',\n",
       "  'lh_cingulum_LPI',\n",
       "  'rh_cingulum_LPI',\n",
       "  'lh_Uncinate_LPI',\n",
       "  'rh_Uncinate_LPI',\n",
       "  'lh_temporoThalamic_LPI',\n",
       "  'lh_temporoThalamic_RAS',\n",
       "  'rh_temporoThalamic_LPI',\n",
       "  'rh_temporoThalamic_RAS',\n",
       "  'lh_ILF_RAS',\n",
       "  'rh_ILF_RAS',\n",
       "  'rh_MDLFang_RAS',\n",
       "  'lh_frontoThalamic_RAS',\n",
       "  'lh_cingulum_RAS',\n",
       "  'lh_IFOF_RAS',\n",
       "  'lh_Uncinate_RAS',\n",
       "  'lh_forcepsMinor_LPI',\n",
       "  'lh_forcepsMinor_RAS',\n",
       "  'lh_anterioFrontalCC_LPI',\n",
       "  'lh_anterioFrontalCC_RAS',\n",
       "  'rh_IFOF_RAS',\n",
       "  'rh_frontoThalamic_RAS',\n",
       "  'rh_Uncinate_RAS',\n",
       "  'rh_anterioFrontalCC_LPI',\n",
       "  'rh_anterioFrontalCC_RAS',\n",
       "  'rh_forcepsMinor_LPI',\n",
       "  'rh_forcepsMinor_RAS',\n",
       "  'lh_Arc_LPI',\n",
       "  'lh_TPC_LPI',\n",
       "  'lh_pArc_LPI',\n",
       "  'rh_TPC_LPI',\n",
       "  'rh_Arc_LPI',\n",
       "  'rh_pArc_LPI',\n",
       "  'rh_MDLFang_LPI',\n",
       "  'rh_pArc_RAS',\n",
       "  'lh_MDLFang_LPI',\n",
       "  'lh_pArc_RAS',\n",
       "  'lh_SLF3_RAS',\n",
       "  'lh_Arc_RAS',\n",
       "  'lh_Aslant_LPI',\n",
       "  'lh_Aslant_RAS',\n",
       "  'lh_AnterioFrontoCerebellar_RAS',\n",
       "  'lh_ContraAnterioFrontoCerebellar_RAS',\n",
       "  'lh_MDLFang_RAS',\n",
       "  'rh_parietoThalamic_LPI',\n",
       "  'lh_VOF_LPI',\n",
       "  'rh_VOF_LPI',\n",
       "  'rh_VOF_RAS',\n",
       "  'rh_baum_LPI',\n",
       "  'rh_forcepsMajor_LPI',\n",
       "  'rh_forcepsMajor_RAS',\n",
       "  'lh_OccipitoCerebellar_LPI',\n",
       "  'rh_OccipitoCerebellar_RAS',\n",
       "  'rh_IFOF_LPI',\n",
       "  'rh_ILF_LPI',\n",
       "  'rh_meyer_LPI',\n",
       "  'lh_IFOF_LPI',\n",
       "  'lh_ILF_LPI',\n",
       "  'lh_meyer_LPI',\n",
       "  'lh_OccipitoCerebellar_RAS',\n",
       "  'lh_forcepsMajor_LPI',\n",
       "  'lh_forcepsMajor_RAS',\n",
       "  'lh_VOF_RAS',\n",
       "  'lh_baum_LPI',\n",
       "  'lh_parietalCC_LPI',\n",
       "  'lh_parietalCC_RAS',\n",
       "  'rh_parietalCC_LPI',\n",
       "  'rh_parietalCC_RAS',\n",
       "  'rh_SLF1And2_LPI',\n",
       "  'rh_ParietoCerebellar_RAS',\n",
       "  'rh_parietoThalamic_RAS',\n",
       "  'lh_ParietoCerebellar_RAS',\n",
       "  'lh_SLF1And2_LPI',\n",
       "  'lh_MDLFspl_LPI',\n",
       "  'lh_MDLFspl_RAS',\n",
       "  'rh_MDLFspl_LPI',\n",
       "  'rh_MDLFspl_RAS',\n",
       "  'rh_TPC_RAS',\n",
       "  'lh_TPC_RAS',\n",
       "  'lh_parietoThalamic_LPI',\n",
       "  'lh_parietoThalamic_RAS',\n",
       "  'lh_SLF1And2_RAS',\n",
       "  'lh_SLF3_LPI',\n",
       "  'rh_SLF3_LPI',\n",
       "  'lh_motorThalamic_RAS',\n",
       "  'lh_CST_RAS',\n",
       "  'lh_ContraMotorCerebellar_RAS',\n",
       "  'lh_MotorCerebellar_RAS',\n",
       "  'rh_motorThalamic_RAS',\n",
       "  'rh_CST_RAS',\n",
       "  'rh_ContraMotorCerebellar_RAS',\n",
       "  'rh_MotorCerebellar_RAS',\n",
       "  'lh_middleFrontalCC_LPI',\n",
       "  'lh_middleFrontalCC_RAS',\n",
       "  'rh_SLF1And2_RAS',\n",
       "  'rh_middleFrontalCC_LPI',\n",
       "  'rh_middleFrontalCC_RAS'],\n",
       " 'leaves': [50,\n",
       "  51,\n",
       "  87,\n",
       "  54,\n",
       "  60,\n",
       "  56,\n",
       "  58,\n",
       "  94,\n",
       "  57,\n",
       "  76,\n",
       "  33,\n",
       "  86,\n",
       "  26,\n",
       "  79,\n",
       "  52,\n",
       "  53,\n",
       "  104,\n",
       "  105,\n",
       "  11,\n",
       "  65,\n",
       "  67,\n",
       "  39,\n",
       "  34,\n",
       "  9,\n",
       "  27,\n",
       "  37,\n",
       "  38,\n",
       "  30,\n",
       "  31,\n",
       "  63,\n",
       "  92,\n",
       "  80,\n",
       "  83,\n",
       "  84,\n",
       "  90,\n",
       "  91,\n",
       "  1,\n",
       "  24,\n",
       "  44,\n",
       "  77,\n",
       "  55,\n",
       "  98,\n",
       "  66,\n",
       "  99,\n",
       "  12,\n",
       "  45,\n",
       "  23,\n",
       "  2,\n",
       "  3,\n",
       "  4,\n",
       "  0,\n",
       "  6,\n",
       "  13,\n",
       "  102,\n",
       "  28,\n",
       "  81,\n",
       "  82,\n",
       "  85,\n",
       "  88,\n",
       "  89,\n",
       "  17,\n",
       "  71,\n",
       "  62,\n",
       "  64,\n",
       "  93,\n",
       "  8,\n",
       "  10,\n",
       "  40,\n",
       "  18,\n",
       "  35,\n",
       "  36,\n",
       "  29,\n",
       "  32,\n",
       "  46,\n",
       "  47,\n",
       "  100,\n",
       "  101,\n",
       "  73,\n",
       "  72,\n",
       "  103,\n",
       "  19,\n",
       "  20,\n",
       "  14,\n",
       "  15,\n",
       "  68,\n",
       "  69,\n",
       "  78,\n",
       "  25,\n",
       "  48,\n",
       "  49,\n",
       "  21,\n",
       "  22,\n",
       "  75,\n",
       "  43,\n",
       "  5,\n",
       "  7,\n",
       "  16,\n",
       "  97,\n",
       "  59,\n",
       "  61,\n",
       "  70,\n",
       "  41,\n",
       "  42,\n",
       "  74,\n",
       "  95,\n",
       "  96],\n",
       " 'color_list': ['C1',\n",
       "  'C1',\n",
       "  'C1',\n",
       "  'C1',\n",
       "  'C1',\n",
       "  'C1',\n",
       "  'C1',\n",
       "  'C1',\n",
       "  'C1',\n",
       "  'C1',\n",
       "  'C1',\n",
       "  'C1',\n",
       "  'C1',\n",
       "  'C1',\n",
       "  'C1',\n",
       "  'C1',\n",
       "  'C1',\n",
       "  'C1',\n",
       "  'C1',\n",
       "  'C1',\n",
       "  'C1',\n",
       "  'C1',\n",
       "  'C1',\n",
       "  'C1',\n",
       "  'C1',\n",
       "  'C1',\n",
       "  'C1',\n",
       "  'C1',\n",
       "  'C1',\n",
       "  'C1',\n",
       "  'C1',\n",
       "  'C1',\n",
       "  'C1',\n",
       "  'C1',\n",
       "  'C1',\n",
       "  'C2',\n",
       "  'C2',\n",
       "  'C2',\n",
       "  'C2',\n",
       "  'C2',\n",
       "  'C2',\n",
       "  'C2',\n",
       "  'C2',\n",
       "  'C2',\n",
       "  'C2',\n",
       "  'C2',\n",
       "  'C2',\n",
       "  'C2',\n",
       "  'C2',\n",
       "  'C2',\n",
       "  'C2',\n",
       "  'C2',\n",
       "  'C0',\n",
       "  'C3',\n",
       "  'C3',\n",
       "  'C3',\n",
       "  'C3',\n",
       "  'C3',\n",
       "  'C3',\n",
       "  'C3',\n",
       "  'C3',\n",
       "  'C3',\n",
       "  'C3',\n",
       "  'C3',\n",
       "  'C3',\n",
       "  'C3',\n",
       "  'C3',\n",
       "  'C3',\n",
       "  'C3',\n",
       "  'C3',\n",
       "  'C3',\n",
       "  'C4',\n",
       "  'C4',\n",
       "  'C4',\n",
       "  'C4',\n",
       "  'C4',\n",
       "  'C4',\n",
       "  'C4',\n",
       "  'C4',\n",
       "  'C4',\n",
       "  'C4',\n",
       "  'C4',\n",
       "  'C4',\n",
       "  'C4',\n",
       "  'C4',\n",
       "  'C4',\n",
       "  'C4',\n",
       "  'C4',\n",
       "  'C4',\n",
       "  'C4',\n",
       "  'C4',\n",
       "  'C4',\n",
       "  'C4',\n",
       "  'C4',\n",
       "  'C4',\n",
       "  'C4',\n",
       "  'C4',\n",
       "  'C4',\n",
       "  'C4',\n",
       "  'C4',\n",
       "  'C4',\n",
       "  'C4',\n",
       "  'C4',\n",
       "  'C0',\n",
       "  'C0'],\n",
       " 'leaves_color_list': ['C1',\n",
       "  'C1',\n",
       "  'C1',\n",
       "  'C1',\n",
       "  'C1',\n",
       "  'C1',\n",
       "  'C1',\n",
       "  'C1',\n",
       "  'C1',\n",
       "  'C1',\n",
       "  'C1',\n",
       "  'C1',\n",
       "  'C1',\n",
       "  'C1',\n",
       "  'C1',\n",
       "  'C1',\n",
       "  'C1',\n",
       "  'C1',\n",
       "  'C1',\n",
       "  'C1',\n",
       "  'C1',\n",
       "  'C1',\n",
       "  'C1',\n",
       "  'C1',\n",
       "  'C1',\n",
       "  'C1',\n",
       "  'C1',\n",
       "  'C1',\n",
       "  'C1',\n",
       "  'C1',\n",
       "  'C1',\n",
       "  'C1',\n",
       "  'C1',\n",
       "  'C1',\n",
       "  'C1',\n",
       "  'C1',\n",
       "  'C2',\n",
       "  'C2',\n",
       "  'C2',\n",
       "  'C2',\n",
       "  'C2',\n",
       "  'C2',\n",
       "  'C2',\n",
       "  'C2',\n",
       "  'C2',\n",
       "  'C2',\n",
       "  'C2',\n",
       "  'C2',\n",
       "  'C2',\n",
       "  'C2',\n",
       "  'C2',\n",
       "  'C2',\n",
       "  'C2',\n",
       "  'C2',\n",
       "  'C3',\n",
       "  'C3',\n",
       "  'C3',\n",
       "  'C3',\n",
       "  'C3',\n",
       "  'C3',\n",
       "  'C3',\n",
       "  'C3',\n",
       "  'C3',\n",
       "  'C3',\n",
       "  'C3',\n",
       "  'C3',\n",
       "  'C3',\n",
       "  'C3',\n",
       "  'C3',\n",
       "  'C3',\n",
       "  'C3',\n",
       "  'C3',\n",
       "  'C3',\n",
       "  'C4',\n",
       "  'C4',\n",
       "  'C4',\n",
       "  'C4',\n",
       "  'C4',\n",
       "  'C4',\n",
       "  'C4',\n",
       "  'C4',\n",
       "  'C4',\n",
       "  'C4',\n",
       "  'C4',\n",
       "  'C4',\n",
       "  'C4',\n",
       "  'C4',\n",
       "  'C4',\n",
       "  'C4',\n",
       "  'C4',\n",
       "  'C4',\n",
       "  'C4',\n",
       "  'C4',\n",
       "  'C4',\n",
       "  'C4',\n",
       "  'C4',\n",
       "  'C4',\n",
       "  'C4',\n",
       "  'C4',\n",
       "  'C4',\n",
       "  'C4',\n",
       "  'C4',\n",
       "  'C4',\n",
       "  'C4',\n",
       "  'C4',\n",
       "  'C4']}"
      ]
     },
     "execution_count": 21,
     "metadata": {},
     "output_type": "execute_result"
    },
    {
     "data": {
      "image/png": "[encoded data removed]",
      "text/plain": [
       "<Figure size 1200x500 with 1 Axes>"
      ]
     },
     "metadata": {},
     "output_type": "display_data"
    }
   ],
   "source": [
    "# transform and clean df\n",
    "pivot_df = map_corr_df.pivot_table(index = 'topic', columns='ROI', values='r') # pivot from long to wide\n",
    "pivot_df_cleaned = pivot_df.dropna(axis = 1) # remove col with NaN\n",
    "# note to self: pivot_df.to_csv('output.csv', index=True)\n",
    "\n",
    "# compute correlation matrix and HCA\n",
    "corr_mtrix = pivot_df_cleaned.corr()\n",
    "dissimilarity = 1 - corr_mtrix\n",
    "hca = linkage((dissimilarity), 'centroid')\n",
    "\n",
    "# plot dendrogram\n",
    "plt.figure(figsize=(12,5))\n",
    "dendrogram(hca, labels=corr_mtrix.columns, \n",
    "           orientation='top', \n",
    "           leaf_rotation=90)"
   ]
  },
  {
   "cell_type": "markdown",
   "metadata": {},
   "source": [
    "### Visualization: Run decoder on each regions separate"
   ]
  },
  {
   "cell_type": "code",
   "execution_count": 55,
   "metadata": {},
   "outputs": [
    {
     "name": "stderr",
     "output_type": "stream",
     "text": [
      "  0%|          | 0/1 [00:00<?, ?it/s]\n",
      "/home/sohmee/.local/share/virtualenvs/test-uar988OR/lib/python3.10/site-packages/numpy/lib/npyio.py:1393: VisibleDeprecationWarning: Creating an ndarray from ragged nested sequences (which is a list-or-tuple of lists-or-tuples-or ndarrays with different lengths or shapes) is deprecated. If you meant to do this, you must specify 'dtype=object' when creating the ndarray.\n",
      "  X = np.asarray(X)\n",
      "  0%|          | 0/1 [00:00<?, ?it/s]\n",
      "/home/sohmee/.local/share/virtualenvs/test-uar988OR/lib/python3.10/site-packages/numpy/lib/npyio.py:1393: VisibleDeprecationWarning: Creating an ndarray from ragged nested sequences (which is a list-or-tuple of lists-or-tuples-or ndarrays with different lengths or shapes) is deprecated. If you meant to do this, you must specify 'dtype=object' when creating the ndarray.\n",
      "  X = np.asarray(X)\n",
      "/home/sohmee/.local/share/virtualenvs/test-uar988OR/lib/python3.10/site-packages/nimare/stats.py:109: RuntimeWarning: invalid value encountered in true_divide\n",
      "  rs = temp / (datass[1:] * datass[0])\n",
      "  0%|          | 0/1 [00:00<?, ?it/s]\n",
      "/home/sohmee/.local/share/virtualenvs/test-uar988OR/lib/python3.10/site-packages/nimare/stats.py:109: RuntimeWarning: invalid value encountered in true_divide\n",
      "  rs = temp / (datass[1:] * datass[0])\n",
      "  0%|          | 0/1 [00:00<?, ?it/s]\n",
      "  0%|          | 0/1 [00:00<?, ?it/s]\n",
      "/home/sohmee/.local/share/virtualenvs/test-uar988OR/lib/python3.10/site-packages/numpy/lib/npyio.py:1393: VisibleDeprecationWarning: Creating an ndarray from ragged nested sequences (which is a list-or-tuple of lists-or-tuples-or ndarrays with different lengths or shapes) is deprecated. If you meant to do this, you must specify 'dtype=object' when creating the ndarray.\n",
      "  X = np.asarray(X)\n",
      "  0%|          | 0/1 [00:00<?, ?it/s]\n",
      "/home/sohmee/.local/share/virtualenvs/test-uar988OR/lib/python3.10/site-packages/numpy/lib/npyio.py:1393: VisibleDeprecationWarning: Creating an ndarray from ragged nested sequences (which is a list-or-tuple of lists-or-tuples-or ndarrays with different lengths or shapes) is deprecated. If you meant to do this, you must specify 'dtype=object' when creating the ndarray.\n",
      "  X = np.asarray(X)\n",
      "/home/sohmee/.local/share/virtualenvs/test-uar988OR/lib/python3.10/site-packages/nimare/stats.py:109: RuntimeWarning: invalid value encountered in true_divide\n",
      "  rs = temp / (datass[1:] * datass[0])\n",
      "  0%|          | 0/1 [00:00<?, ?it/s]\n",
      "/home/sohmee/.local/share/virtualenvs/test-uar988OR/lib/python3.10/site-packages/nimare/stats.py:109: RuntimeWarning: invalid value encountered in true_divide\n",
      "  rs = temp / (datass[1:] * datass[0])\n",
      "  0%|          | 0/1 [00:00<?, ?it/s]\n",
      "  0%|          | 0/1 [00:00<?, ?it/s]\n",
      "/home/sohmee/.local/share/virtualenvs/test-uar988OR/lib/python3.10/site-packages/numpy/lib/npyio.py:1393: VisibleDeprecationWarning: Creating an ndarray from ragged nested sequences (which is a list-or-tuple of lists-or-tuples-or ndarrays with different lengths or shapes) is deprecated. If you meant to do this, you must specify 'dtype=object' when creating the ndarray.\n",
      "  X = np.asarray(X)\n",
      "  0%|          | 0/1 [00:00<?, ?it/s]\n",
      "/home/sohmee/.local/share/virtualenvs/test-uar988OR/lib/python3.10/site-packages/numpy/lib/npyio.py:1393: VisibleDeprecationWarning: Creating an ndarray from ragged nested sequences (which is a list-or-tuple of lists-or-tuples-or ndarrays with different lengths or shapes) is deprecated. If you meant to do this, you must specify 'dtype=object' when creating the ndarray.\n",
      "  X = np.asarray(X)\n",
      "/home/sohmee/.local/share/virtualenvs/test-uar988OR/lib/python3.10/site-packages/nimare/stats.py:109: RuntimeWarning: invalid value encountered in true_divide\n",
      "  rs = temp / (datass[1:] * datass[0])\n",
      "  0%|          | 0/1 [00:00<?, ?it/s]\n",
      "/home/sohmee/.local/share/virtualenvs/test-uar988OR/lib/python3.10/site-packages/nimare/stats.py:109: RuntimeWarning: invalid value encountered in true_divide\n",
      "  rs = temp / (datass[1:] * datass[0])\n",
      "  0%|          | 0/1 [00:00<?, ?it/s]\n"
     ]
    }
   ],
   "source": [
    "sep_figures_dir = op.join(figures_dir, \"separated\")\n",
    "os.makedirs(sep_figures_dir, exist_ok=True)\n",
    "\n",
    "separated_results = {}\n",
    "for fig_i, (threshold, tract, region, smth) in enumerate(itertools.product(thresholds, tracts, regions, smths)):\n",
    "    # Path to the maps\n",
    "    regions_dir = op.join(\n",
    "        data_dir, \n",
    "        \"white-matter-atlas_thresholds\", \n",
    "        f\"cortexmap_binarize_smooth-surf-1_threshold-{threshold}_dilate-0\", \n",
    "        \"cortexmap\", \n",
    "        \"func\",\n",
    "    )\n",
    "    \n",
    "    # Read maps\n",
    "    map_lh = op.join(regions_dir, f\"lh.left{tract}_box_1mm_{region}_FiberEndpoint{smth}.func.gii\")\n",
    "    map_rh = op.join(regions_dir, f\"rh.right{tract}_box_1mm_{region}_FiberEndpoint{smth}.func.gii\")\n",
    "    map_arr_lh = nib.load(map_lh).agg_data()\n",
    "    map_arr_rh = nib.load(map_rh).agg_data()\n",
    "\n",
    "    # Remove medial wall\n",
    "    map_arr = _rm_medial_wall(\n",
    "        map_arr_lh,\n",
    "        map_arr_rh,\n",
    "        space=SPACE,\n",
    "        density=DENSITY,\n",
    "        neuromaps_dir=neuromaps_dir,\n",
    "    )\n",
    "\n",
    "    # Decode map\n",
    "    corrs_df = decode.transform([map_arr], method=\"correlation\")\n",
    "    filtered_df, filtered_features, filtered_frequencies = _decoding_filter(\n",
    "        corrs_df,\n",
    "        features,\n",
    "        classification,\n",
    "        freq_by_topic=frequencies,\n",
    "        class_by_topic=class_lst,\n",
    "    )\n",
    "    filtered_df.columns = [\"r\"]\n",
    "    separated_results[f\"{tract}_{region}{smth}_thr-{threshold}\"] = filtered_df.sort_values(by=\"r\", ascending=False)\n",
    "\n",
    "    # Visualize maps to decode\n",
    "    plot_surf_maps(\n",
    "        map_arr_lh, \n",
    "        map_arr_rh, \n",
    "        space=SPACE, \n",
    "        density=DENSITY, \n",
    "        cmap=\"YlOrRd\",\n",
    "        color_range=(0, 1),\n",
    "        title=f\"{TRACTS_DICT[tract]} {REGIONS_DICT[region]}\\n{SMTHS_DICT[smth]}. Threshold: {threshold}\",\n",
    "        data_dir=data_dir,\n",
    "        out_fig=op.join(sep_figures_dir, f\"{fig_i}-01_{tract}_{region}{smth}_thr-{threshold}_surf.png\"),\n",
    "    )\n",
    "\n",
    "    # Visualize results\n",
    "    corrs = filtered_df[\"r\"].to_numpy()\n",
    "    if not np.any(np.isnan(corrs)) and corrs.size > 0: # Skip one of the regions of CST\n",
    "        # Radar plot\n",
    "        plot_radar(\n",
    "            corrs, \n",
    "            filtered_features, \n",
    "            MODEL,\n",
    "            out_fig=op.join(sep_figures_dir, f\"{fig_i}-02_{tract}_{region}{smth}_thr-{threshold}_radar.png\"),\n",
    "        )\n",
    "        \n",
    "        # Word cloud plot\n",
    "        plot_cloud(\n",
    "            corrs, \n",
    "            filtered_features,\n",
    "            MODEL,\n",
    "            frequencies=filtered_frequencies,\n",
    "            out_fig=op.join(sep_figures_dir, f\"{fig_i}-03_{tract}_{region}{smth}_thr-{threshold}_wordcloud.png\"),\n",
    "        )"
   ]
  },
  {
   "cell_type": "markdown",
   "metadata": {},
   "source": [
    "### Run decoder on combined regions for each tract"
   ]
  },
  {
   "cell_type": "code",
   "execution_count": 20,
   "metadata": {},
   "outputs": [
    {
     "name": "stderr",
     "output_type": "stream",
     "text": [
      "  0%|          | 0/1 [00:00<?, ?it/s]\n",
      "  0%|          | 0/1 [00:00<?, ?it/s]\n",
      "  0%|          | 0/1 [00:00<?, ?it/s]\n",
      "  0%|          | 0/1 [00:00<?, ?it/s]\n",
      "  0%|          | 0/1 [00:00<?, ?it/s]\n",
      "/home/sohmee/.local/share/virtualenvs/test-uar988OR/lib/python3.10/site-packages/nimare/stats.py:109: RuntimeWarning: invalid value encountered in true_divide\n",
      "  rs = temp / (datass[1:] * datass[0])\n",
      "  0%|          | 0/1 [00:00<?, ?it/s]\n"
     ]
    },
    {
     "data": {
      "text/plain": [
       "115119"
      ]
     },
     "execution_count": 20,
     "metadata": {},
     "output_type": "execute_result"
    }
   ],
   "source": [
    "com_figures_dir = op.join(figures_dir, \"combined\")\n",
    "os.makedirs(com_figures_dir, exist_ok=True)\n",
    "\n",
    "combined_results = {}\n",
    "for fig_i, (threshold, tract, smth) in enumerate(itertools.product(thresholds, tracts, smths)):\n",
    "    # Path to the maps\n",
    "    regions_dir = op.join(\n",
    "        data_dir, \n",
    "        \"white-matter-atlas_thresholds\", \n",
    "        f\"cortexmap_binarize_smooth-surf-1_threshold-{threshold}_dilate-0\", \n",
    "        \"cortexmap\", \n",
    "        \"func\",\n",
    "    )\n",
    "    \n",
    "    # Read maps\n",
    "    map_lpi_lh = op.join(regions_dir, f\"lh.left{tract}_box_1mm_LPI_FiberEndpoint{smth}.func.gii\")\n",
    "    map_lpi_rh = op.join(regions_dir, f\"rh.right{tract}_box_1mm_LPI_FiberEndpoint{smth}.func.gii\")\n",
    "    map_ras_lh = op.join(regions_dir, f\"lh.left{tract}_box_1mm_RAS_FiberEndpoint{smth}.func.gii\")\n",
    "    map_ras_rh = op.join(regions_dir, f\"rh.right{tract}_box_1mm_RAS_FiberEndpoint{smth}.func.gii\")\n",
    "    \n",
    "    map_lpi_arr_lh = nib.load(map_lpi_lh).agg_data()\n",
    "    map_lpi_arr_rh = nib.load(map_lpi_rh).agg_data()\n",
    "    map_ras_arr_lh = nib.load(map_ras_lh).agg_data()\n",
    "    map_ras_arr_rh = nib.load(map_ras_rh).agg_data()\n",
    "\n",
    "    # Combined regions for each tract\n",
    "    map_arr_lh = np.maximum(map_lpi_arr_lh, map_ras_arr_lh) # Take the maximum to address overlap\n",
    "    map_arr_rh = np.maximum(map_lpi_arr_rh, map_ras_arr_rh) # Take the maximum to address overlap\n",
    "    \n",
    "    # Remove medial wall\n",
    "    map_arr = _rm_medial_wall(\n",
    "        map_arr_lh,\n",
    "        map_arr_rh,\n",
    "        space=SPACE,\n",
    "        density=DENSITY,\n",
    "        neuromaps_dir=neuromaps_dir,\n",
    "    )\n",
    "\n",
    "    # Decode map\n",
    "    corrs_df = decode.transform([map_arr], method=\"correlation\")\n",
    "    filtered_df, filtered_features, filtered_frequencies = _decoding_filter(\n",
    "        corrs_df,\n",
    "        features,\n",
    "        classification,\n",
    "        freq_by_topic=frequencies,\n",
    "        class_by_topic=class_lst,\n",
    "    )\n",
    "\n",
    "    filtered_df.columns = [\"r\"]\n",
    "    combined_results[f\"{tract}{smth}_thr-{threshold}\"] = filtered_df.sort_values(by=\"r\", ascending=False)\n",
    "\n",
    "    # Visualize maps to decode\n",
    "    surf_fig = plot_surf_maps(\n",
    "        map_arr_lh, \n",
    "        map_arr_rh, \n",
    "        space=SPACE, \n",
    "        density=DENSITY, \n",
    "        cmap=\"YlOrRd\",\n",
    "        color_range=(0, 1),\n",
    "        title=f\"{TRACTS_DICT[tract]} LPI+RAS\\n{SMTHS_DICT[smth]}. Threshold: {threshold}\",\n",
    "        data_dir=data_dir,\n",
    "        out_fig=op.join(com_figures_dir, f\"{fig_i}-01_{tract}_LPI+RAS{smth}_thr-{threshold}_surf.png\"),\n",
    "    )\n",
    "\n",
    "    # Visualize results\n",
    "    corrs = filtered_df[\"r\"].to_numpy()\n",
    "    if not np.any(np.isnan(corrs)) and corrs.size > 0: # Skip one of the regions of CST\n",
    "        # Radar plot\n",
    "        plot_radar(\n",
    "            corrs, \n",
    "            filtered_features, \n",
    "            MODEL,\n",
    "            out_fig=op.join(com_figures_dir, f\"{fig_i}-02_{tract}_LPI+RAS{smth}_thr-{threshold}_radar.png\"),\n",
    "        )\n",
    "\n",
    "        # Word cloud plot\n",
    "        plot_cloud(\n",
    "            corrs, \n",
    "            filtered_features,\n",
    "            MODEL,\n",
    "            frequencies=filtered_frequencies,\n",
    "            out_fig=op.join(com_figures_dir, f\"{fig_i}-03_{tract}_LPI+RAS{smth}_thr-{threshold}_wordcloud.png\"),\n",
    "        )"
   ]
  },
  {
   "cell_type": "markdown",
   "metadata": {},
   "source": [
    "### Visualizaiton: Make figures - Julio's version"
   ]
  },
  {
   "cell_type": "code",
   "execution_count": 24,
   "metadata": {},
   "outputs": [],
   "source": [
    "from matplotlib import pyplot as plt\n",
    "from matplotlib.gridspec import GridSpec\n",
    "import matplotlib.image as mpimg"
   ]
  },
  {
   "cell_type": "code",
   "execution_count": 25,
   "metadata": {},
   "outputs": [],
   "source": [
    "comb_width, comb_hight = 25, 13\n",
    "sep_width, sep_hight = 25, 25\n",
    "\n",
    "n_comb_rows, n_comb_cols = 3, 6\n",
    "n_sep_rows, n_sep_cols = 6, 6"
   ]
  },
  {
   "cell_type": "code",
   "execution_count": 26,
   "metadata": {},
   "outputs": [
    {
     "ename": "IndexError",
     "evalue": "index 6 is out of bounds for axis 0 with size 6",
     "output_type": "error",
     "traceback": [
      "\u001b[0;31m---------------------------------------------------------------------------\u001b[0m",
      "\u001b[0;31mIndexError\u001b[0m                                Traceback (most recent call last)",
      "Cell \u001b[0;32mIn[26], line 15\u001b[0m\n\u001b[1;32m     12\u001b[0m wordcloud_plt \u001b[38;5;241m=\u001b[39m op\u001b[38;5;241m.\u001b[39mjoin(sep_figures_dir, \u001b[38;5;124mf\u001b[39m\u001b[38;5;124m\"\u001b[39m\u001b[38;5;132;01m{\u001b[39;00mfig_i\u001b[38;5;132;01m}\u001b[39;00m\u001b[38;5;124m-03_\u001b[39m\u001b[38;5;132;01m{\u001b[39;00mtract\u001b[38;5;132;01m}\u001b[39;00m\u001b[38;5;124m_\u001b[39m\u001b[38;5;132;01m{\u001b[39;00mregion\u001b[38;5;132;01m}\u001b[39;00m\u001b[38;5;132;01m{\u001b[39;00msmth\u001b[38;5;132;01m}\u001b[39;00m\u001b[38;5;124m_thr-\u001b[39m\u001b[38;5;132;01m{\u001b[39;00mthreshold\u001b[38;5;132;01m}\u001b[39;00m\u001b[38;5;124m_wordcloud.png\u001b[39m\u001b[38;5;124m\"\u001b[39m)\n\u001b[1;32m     14\u001b[0m \u001b[38;5;28;01mfor\u001b[39;00m img_i, img_file \u001b[38;5;129;01min\u001b[39;00m \u001b[38;5;28menumerate\u001b[39m([surf_plt, radar_plt, wordcloud_plt]):\n\u001b[0;32m---> 15\u001b[0m     ax \u001b[38;5;241m=\u001b[39m fig\u001b[38;5;241m.\u001b[39madd_subplot(\u001b[43mgs\u001b[49m\u001b[43m[\u001b[49m\u001b[43mtrc_i\u001b[49m\u001b[38;5;241;43m*\u001b[39;49m\u001b[38;5;241;43m2\u001b[39;49m\u001b[43m \u001b[49m\u001b[38;5;241;43m+\u001b[39;49m\u001b[43m \u001b[49m\u001b[43mreg_i\u001b[49m\u001b[43m,\u001b[49m\u001b[43m \u001b[49m\u001b[43msmth_i\u001b[49m\u001b[38;5;241;43m*\u001b[39;49m\u001b[38;5;241;43m3\u001b[39;49m\u001b[43m \u001b[49m\u001b[38;5;241;43m+\u001b[39;49m\u001b[43m \u001b[49m\u001b[43mimg_i\u001b[49m\u001b[43m]\u001b[49m, aspect\u001b[38;5;241m=\u001b[39m\u001b[38;5;124m\"\u001b[39m\u001b[38;5;124mequal\u001b[39m\u001b[38;5;124m\"\u001b[39m)\n\u001b[1;32m     16\u001b[0m     \u001b[38;5;28;01mif\u001b[39;00m op\u001b[38;5;241m.\u001b[39mexists(img_file):\n\u001b[1;32m     17\u001b[0m         img \u001b[38;5;241m=\u001b[39m mpimg\u001b[38;5;241m.\u001b[39mimread(img_file)    \n",
      "File \u001b[0;32m~/.local/share/virtualenvs/test-uar988OR/lib/python3.10/site-packages/matplotlib/gridspec.py:257\u001b[0m, in \u001b[0;36mGridSpecBase.__getitem__\u001b[0;34m(self, key)\u001b[0m\n\u001b[1;32m    254\u001b[0m     \u001b[38;5;28;01mexcept\u001b[39;00m \u001b[38;5;167;01mValueError\u001b[39;00m \u001b[38;5;28;01mas\u001b[39;00m err:\n\u001b[1;32m    255\u001b[0m         \u001b[38;5;28;01mraise\u001b[39;00m \u001b[38;5;167;01mValueError\u001b[39;00m(\u001b[38;5;124m\"\u001b[39m\u001b[38;5;124mUnrecognized subplot spec\u001b[39m\u001b[38;5;124m\"\u001b[39m) \u001b[38;5;28;01mfrom\u001b[39;00m \u001b[38;5;21;01merr\u001b[39;00m\n\u001b[1;32m    256\u001b[0m     num1, num2 \u001b[38;5;241m=\u001b[39m np\u001b[38;5;241m.\u001b[39mravel_multi_index(\n\u001b[0;32m--> 257\u001b[0m         [\u001b[43m_normalize\u001b[49m\u001b[43m(\u001b[49m\u001b[43mk1\u001b[49m\u001b[43m,\u001b[49m\u001b[43m \u001b[49m\u001b[43mnrows\u001b[49m\u001b[43m,\u001b[49m\u001b[43m \u001b[49m\u001b[38;5;241;43m0\u001b[39;49m\u001b[43m)\u001b[49m, _normalize(k2, ncols, \u001b[38;5;241m1\u001b[39m)],\n\u001b[1;32m    258\u001b[0m         (nrows, ncols))\n\u001b[1;32m    259\u001b[0m \u001b[38;5;28;01melse\u001b[39;00m:  \u001b[38;5;66;03m# Single key\u001b[39;00m\n\u001b[1;32m    260\u001b[0m     num1, num2 \u001b[38;5;241m=\u001b[39m _normalize(key, nrows \u001b[38;5;241m*\u001b[39m ncols, \u001b[38;5;28;01mNone\u001b[39;00m)\n",
      "File \u001b[0;32m~/.local/share/virtualenvs/test-uar988OR/lib/python3.10/site-packages/matplotlib/gridspec.py:245\u001b[0m, in \u001b[0;36mGridSpecBase.__getitem__.<locals>._normalize\u001b[0;34m(key, size, axis)\u001b[0m\n\u001b[1;32m    243\u001b[0m     \u001b[38;5;28;01mreturn\u001b[39;00m key, key\n\u001b[1;32m    244\u001b[0m \u001b[38;5;28;01melif\u001b[39;00m axis \u001b[38;5;129;01mis\u001b[39;00m \u001b[38;5;129;01mnot\u001b[39;00m \u001b[38;5;28;01mNone\u001b[39;00m:\n\u001b[0;32m--> 245\u001b[0m     \u001b[38;5;28;01mraise\u001b[39;00m \u001b[38;5;167;01mIndexError\u001b[39;00m(\u001b[38;5;124mf\u001b[39m\u001b[38;5;124m\"\u001b[39m\u001b[38;5;124mindex \u001b[39m\u001b[38;5;132;01m{\u001b[39;00morig_key\u001b[38;5;132;01m}\u001b[39;00m\u001b[38;5;124m is out of bounds for \u001b[39m\u001b[38;5;124m\"\u001b[39m\n\u001b[1;32m    246\u001b[0m                      \u001b[38;5;124mf\u001b[39m\u001b[38;5;124m\"\u001b[39m\u001b[38;5;124maxis \u001b[39m\u001b[38;5;132;01m{\u001b[39;00maxis\u001b[38;5;132;01m}\u001b[39;00m\u001b[38;5;124m with size \u001b[39m\u001b[38;5;132;01m{\u001b[39;00msize\u001b[38;5;132;01m}\u001b[39;00m\u001b[38;5;124m\"\u001b[39m)\n\u001b[1;32m    247\u001b[0m \u001b[38;5;28;01melse\u001b[39;00m:  \u001b[38;5;66;03m# flat index\u001b[39;00m\n\u001b[1;32m    248\u001b[0m     \u001b[38;5;28;01mraise\u001b[39;00m \u001b[38;5;167;01mIndexError\u001b[39;00m(\u001b[38;5;124mf\u001b[39m\u001b[38;5;124m\"\u001b[39m\u001b[38;5;124mindex \u001b[39m\u001b[38;5;132;01m{\u001b[39;00morig_key\u001b[38;5;132;01m}\u001b[39;00m\u001b[38;5;124m is out of bounds for \u001b[39m\u001b[38;5;124m\"\u001b[39m\n\u001b[1;32m    249\u001b[0m                      \u001b[38;5;124mf\u001b[39m\u001b[38;5;124m\"\u001b[39m\u001b[38;5;124mGridSpec with size \u001b[39m\u001b[38;5;132;01m{\u001b[39;00msize\u001b[38;5;132;01m}\u001b[39;00m\u001b[38;5;124m\"\u001b[39m)\n",
      "\u001b[0;31mIndexError\u001b[0m: index 6 is out of bounds for axis 0 with size 6"
     ]
    }
   ],
   "source": [
    "fig_i = 0\n",
    "for thr_i, threshold in enumerate(thresholds):\n",
    "    fig = plt.figure(figsize=(sep_width, sep_hight))\n",
    "    fig.subplots_adjust(left=None, bottom=None, right=None, top=None, wspace=0.1, hspace=0.1)\n",
    "    gs = GridSpec(nrows=n_sep_rows, ncols=n_sep_cols, figure=fig)\n",
    "\n",
    "    for trc_i, tract in enumerate(tracts):\n",
    "        for reg_i, region in enumerate(regions):\n",
    "            for smth_i, smth in enumerate(smths):\n",
    "                surf_plt = op.join(sep_figures_dir, f\"{fig_i}-01_{tract}_{region}{smth}_thr-{threshold}_surf.png\")\n",
    "                radar_plt = op.join(sep_figures_dir, f\"{fig_i}-02_{tract}_{region}{smth}_thr-{threshold}_radar.png\")\n",
    "                wordcloud_plt = op.join(sep_figures_dir, f\"{fig_i}-03_{tract}_{region}{smth}_thr-{threshold}_wordcloud.png\")\n",
    "\n",
    "                for img_i, img_file in enumerate([surf_plt, radar_plt, wordcloud_plt]):\n",
    "                    ax = fig.add_subplot(gs[trc_i*2 + reg_i, smth_i*3 + img_i], aspect=\"equal\")\n",
    "                    if op.exists(img_file):\n",
    "                        img = mpimg.imread(img_file)    \n",
    "                        ax.imshow(img)\n",
    "\n",
    "                    ax.set_axis_off()\n",
    "\n",
    "                fig_i += 1\n",
    "\n",
    "        out_file = op.join(figures_dir, f\"results-separated_thr-{float(threshold):.2f}.png\")\n",
    "        fig.savefig(out_file, bbox_inches=\"tight\", dpi=300)\n",
    "        plt.close()"
   ]
  },
  {
   "cell_type": "code",
   "execution_count": 10,
   "metadata": {},
   "outputs": [],
   "source": [
    "fig_i = 0\n",
    "for thr_i, threshold in enumerate(thresholds):\n",
    "    fig = plt.figure(figsize=(comb_width, comb_hight))\n",
    "    fig.subplots_adjust(left=None, bottom=None, right=None, top=None, wspace=0.1, hspace=0.1)\n",
    "    gs = GridSpec(nrows=n_comb_rows, ncols=n_comb_cols, figure=fig)\n",
    "\n",
    "    for trc_i, tract in enumerate(tracts):\n",
    "        for smth_i, smth in enumerate(smths):\n",
    "\n",
    "            surf_plt = op.join(com_figures_dir, f\"{fig_i}-01_{tract}_LPI+RAS{smth}_thr-{threshold}_surf.png\")\n",
    "            radar_plt = op.join(com_figures_dir, f\"{fig_i}-02_{tract}_LPI+RAS{smth}_thr-{threshold}_radar.png\")\n",
    "            wordcloud_plt = op.join(com_figures_dir, f\"{fig_i}-03_{tract}_LPI+RAS{smth}_thr-{threshold}_wordcloud.png\")\n",
    "            \n",
    "            for img_i, img_file in enumerate([surf_plt, radar_plt, wordcloud_plt]):\n",
    "                ax = fig.add_subplot(gs[trc_i, smth_i*3 + img_i], aspect=\"equal\")\n",
    "                if op.exists(img_file):\n",
    "                    img = mpimg.imread(img_file)    \n",
    "                    ax.imshow(img)\n",
    "                \n",
    "                ax.set_axis_off()\n",
    "\n",
    "            fig_i += 1\n",
    "\n",
    "    out_file = op.join(figures_dir, f\"results-combined_thr-{float(threshold):.2f}.png\")\n",
    "    fig.savefig(out_file, bbox_inches=\"tight\", dpi=300)\n",
    "    plt.close()"
   ]
  }
 ],
 "metadata": {
  "kernelspec": {
   "display_name": "gradec_env",
   "language": "python",
   "name": "python3"
  },
  "language_info": {
   "codemirror_mode": {
    "name": "ipython",
    "version": 3
   },
   "file_extension": ".py",
   "mimetype": "text/x-python",
   "name": "python",
   "nbconvert_exporter": "python",
   "pygments_lexer": "ipython3",
   "version": "3.10.12"
  },
  "orig_nbformat": 4
 },
 "nbformat": 4,
 "nbformat_minor": 2
}
